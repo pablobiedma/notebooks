{
  "cells": [
    {
      "cell_type": "markdown",
      "source": [
        "# Design Brief \n",
        "\n",
        "An insurance company wants to predict whether a person would have 'high' healthcare utilization. \n",
        "\n",
        "They want to use this in order to determine how much people should pay for their insurance.\n",
        "\n",
        "Individuals with 'low' utilization will pay an X% of their salary for the insurance, while the price for those with a 'high' healthcare utilization score will be 2X% of their income. \n",
        "\n",
        "To complete the task, the company has provided you with the 2015 Consolidated Medical Expenditure data.\n",
        "\n",
        "As in the previous use case that you have seen, I am asking you again to speak out loud while trying to explore the dataset and use-case to answer this question. \n",
        "\n",
        "You can of course use any tool that you would typically use, and you are also encouraged to also make use of the toolkit I just presented to you."
      ],
      "metadata": {
        "id": "GVbiuHLkdquo"
      }
    },
    {
      "cell_type": "markdown",
      "metadata": {
        "id": "kFZ4Fj03dhtZ"
      },
      "source": [
        "# Set-up\n",
        "\n",
        "You first need to install the required libraries for the project. The main libraries are the aif360 and sklearn ones. We also recommend using numpy or pandas to easily manipulate and explore the data."
      ]
    },
    {
      "cell_type": "code",
      "source": [
        "!pip install aif360[all]"
      ],
      "metadata": {
        "id": "b_43L2Uhd09R",
        "colab": {
          "base_uri": "https://localhost:8080/"
        },
        "outputId": "5cbd7a49-379f-4f68-a8f5-385040ad1cbc"
      },
      "execution_count": null,
      "outputs": [
        {
          "output_type": "stream",
          "name": "stdout",
          "text": [
            "Looking in indexes: https://pypi.org/simple, https://us-python.pkg.dev/colab-wheels/public/simple/\n",
            "Collecting aif360[all]\n",
            "  Downloading aif360-0.4.0-py3-none-any.whl (175 kB)\n",
            "\u001b[K     |████████████████████████████████| 175 kB 8.8 MB/s \n",
            "\u001b[?25hRequirement already satisfied: numpy>=1.16 in /usr/local/lib/python3.7/dist-packages (from aif360[all]) (1.21.6)\n",
            "Requirement already satisfied: pandas>=0.24.0 in /usr/local/lib/python3.7/dist-packages (from aif360[all]) (1.3.5)\n",
            "Requirement already satisfied: scikit-learn>=0.22.1 in /usr/local/lib/python3.7/dist-packages (from aif360[all]) (1.0.2)\n",
            "Collecting tempeh\n",
            "  Downloading tempeh-0.1.12-py3-none-any.whl (39 kB)\n",
            "Requirement already satisfied: scipy<1.6.0,>=1.2.0 in /usr/local/lib/python3.7/dist-packages (from aif360[all]) (1.4.1)\n",
            "Requirement already satisfied: matplotlib in /usr/local/lib/python3.7/dist-packages (from aif360[all]) (3.2.2)\n",
            "Requirement already satisfied: tqdm in /usr/local/lib/python3.7/dist-packages (from aif360[all]) (4.64.0)\n",
            "Requirement already satisfied: jupyter in /usr/local/lib/python3.7/dist-packages (from aif360[all]) (1.0.0)\n",
            "Collecting fairlearn==0.4.6\n",
            "  Downloading fairlearn-0.4.6-py3-none-any.whl (21.2 MB)\n",
            "\u001b[K     |████████████████████████████████| 21.2 MB 3.6 MB/s \n",
            "\u001b[?25hRequirement already satisfied: sphinx in /usr/local/lib/python3.7/dist-packages (from aif360[all]) (1.8.6)\n",
            "Requirement already satisfied: cvxpy>=1.0 in /usr/local/lib/python3.7/dist-packages (from aif360[all]) (1.0.31)\n",
            "Requirement already satisfied: tensorflow>=1.13.1 in /usr/local/lib/python3.7/dist-packages (from aif360[all]) (2.8.0+zzzcolab20220506162203)\n",
            "Requirement already satisfied: pytest>=3.5 in /usr/local/lib/python3.7/dist-packages (from aif360[all]) (3.6.4)\n",
            "Collecting BlackBoxAuditing\n",
            "  Downloading BlackBoxAuditing-0.1.54.tar.gz (2.6 MB)\n",
            "\u001b[K     |████████████████████████████████| 2.6 MB 42.0 MB/s \n",
            "\u001b[?25hCollecting adversarial-robustness-toolbox>=1.0.0\n",
            "  Downloading adversarial_robustness_toolbox-1.10.2-py3-none-any.whl (1.3 MB)\n",
            "\u001b[K     |████████████████████████████████| 1.3 MB 23.0 MB/s \n",
            "\u001b[?25hCollecting sphinx-rtd-theme\n",
            "  Downloading sphinx_rtd_theme-1.0.0-py2.py3-none-any.whl (2.8 MB)\n",
            "\u001b[K     |████████████████████████████████| 2.8 MB 3.0 MB/s \n",
            "\u001b[?25hCollecting lime\n",
            "  Downloading lime-0.2.0.1.tar.gz (275 kB)\n",
            "\u001b[K     |████████████████████████████████| 275 kB 46.6 MB/s \n",
            "\u001b[?25hRequirement already satisfied: ipywidgets>=7.5.0 in /usr/local/lib/python3.7/dist-packages (from fairlearn==0.4.6->aif360[all]) (7.7.0)\n",
            "Requirement already satisfied: six in /usr/local/lib/python3.7/dist-packages (from adversarial-robustness-toolbox>=1.0.0->aif360[all]) (1.15.0)\n",
            "Requirement already satisfied: setuptools in /usr/local/lib/python3.7/dist-packages (from adversarial-robustness-toolbox>=1.0.0->aif360[all]) (57.4.0)\n",
            "Collecting numba>=0.53.1\n",
            "  Downloading numba-0.55.2-cp37-cp37m-manylinux2014_x86_64.manylinux_2_17_x86_64.whl (3.3 MB)\n",
            "\u001b[K     |████████████████████████████████| 3.3 MB 22.3 MB/s \n",
            "\u001b[?25hRequirement already satisfied: ecos>=2 in /usr/local/lib/python3.7/dist-packages (from cvxpy>=1.0->aif360[all]) (2.0.10)\n",
            "Requirement already satisfied: scs>=1.1.3 in /usr/local/lib/python3.7/dist-packages (from cvxpy>=1.0->aif360[all]) (3.2.0)\n",
            "Requirement already satisfied: osqp>=0.4.1 in /usr/local/lib/python3.7/dist-packages (from cvxpy>=1.0->aif360[all]) (0.6.2.post0)\n",
            "Requirement already satisfied: multiprocess in /usr/local/lib/python3.7/dist-packages (from cvxpy>=1.0->aif360[all]) (0.70.12.2)\n",
            "Requirement already satisfied: jupyterlab-widgets>=1.0.0 in /usr/local/lib/python3.7/dist-packages (from ipywidgets>=7.5.0->fairlearn==0.4.6->aif360[all]) (1.1.0)\n",
            "Requirement already satisfied: nbformat>=4.2.0 in /usr/local/lib/python3.7/dist-packages (from ipywidgets>=7.5.0->fairlearn==0.4.6->aif360[all]) (5.4.0)\n",
            "Requirement already satisfied: widgetsnbextension~=3.6.0 in /usr/local/lib/python3.7/dist-packages (from ipywidgets>=7.5.0->fairlearn==0.4.6->aif360[all]) (3.6.0)\n",
            "Requirement already satisfied: ipython>=4.0.0 in /usr/local/lib/python3.7/dist-packages (from ipywidgets>=7.5.0->fairlearn==0.4.6->aif360[all]) (5.5.0)\n",
            "Requirement already satisfied: ipython-genutils~=0.2.0 in /usr/local/lib/python3.7/dist-packages (from ipywidgets>=7.5.0->fairlearn==0.4.6->aif360[all]) (0.2.0)\n",
            "Requirement already satisfied: traitlets>=4.3.1 in /usr/local/lib/python3.7/dist-packages (from ipywidgets>=7.5.0->fairlearn==0.4.6->aif360[all]) (5.1.1)\n",
            "Requirement already satisfied: ipykernel>=4.5.1 in /usr/local/lib/python3.7/dist-packages (from ipywidgets>=7.5.0->fairlearn==0.4.6->aif360[all]) (4.10.1)\n",
            "Requirement already satisfied: tornado>=4.0 in /usr/local/lib/python3.7/dist-packages (from ipykernel>=4.5.1->ipywidgets>=7.5.0->fairlearn==0.4.6->aif360[all]) (5.1.1)\n",
            "Requirement already satisfied: jupyter-client in /usr/local/lib/python3.7/dist-packages (from ipykernel>=4.5.1->ipywidgets>=7.5.0->fairlearn==0.4.6->aif360[all]) (5.3.5)\n",
            "Requirement already satisfied: prompt-toolkit<2.0.0,>=1.0.4 in /usr/local/lib/python3.7/dist-packages (from ipython>=4.0.0->ipywidgets>=7.5.0->fairlearn==0.4.6->aif360[all]) (1.0.18)\n",
            "Requirement already satisfied: pygments in /usr/local/lib/python3.7/dist-packages (from ipython>=4.0.0->ipywidgets>=7.5.0->fairlearn==0.4.6->aif360[all]) (2.6.1)\n",
            "Requirement already satisfied: pickleshare in /usr/local/lib/python3.7/dist-packages (from ipython>=4.0.0->ipywidgets>=7.5.0->fairlearn==0.4.6->aif360[all]) (0.7.5)\n",
            "Requirement already satisfied: decorator in /usr/local/lib/python3.7/dist-packages (from ipython>=4.0.0->ipywidgets>=7.5.0->fairlearn==0.4.6->aif360[all]) (4.4.2)\n",
            "Requirement already satisfied: pexpect in /usr/local/lib/python3.7/dist-packages (from ipython>=4.0.0->ipywidgets>=7.5.0->fairlearn==0.4.6->aif360[all]) (4.8.0)\n",
            "Requirement already satisfied: simplegeneric>0.8 in /usr/local/lib/python3.7/dist-packages (from ipython>=4.0.0->ipywidgets>=7.5.0->fairlearn==0.4.6->aif360[all]) (0.8.1)\n",
            "Requirement already satisfied: jupyter-core in /usr/local/lib/python3.7/dist-packages (from nbformat>=4.2.0->ipywidgets>=7.5.0->fairlearn==0.4.6->aif360[all]) (4.10.0)\n",
            "Requirement already satisfied: fastjsonschema in /usr/local/lib/python3.7/dist-packages (from nbformat>=4.2.0->ipywidgets>=7.5.0->fairlearn==0.4.6->aif360[all]) (2.15.3)\n",
            "Requirement already satisfied: jsonschema>=2.6 in /usr/local/lib/python3.7/dist-packages (from nbformat>=4.2.0->ipywidgets>=7.5.0->fairlearn==0.4.6->aif360[all]) (4.3.3)\n",
            "Requirement already satisfied: importlib-metadata in /usr/local/lib/python3.7/dist-packages (from jsonschema>=2.6->nbformat>=4.2.0->ipywidgets>=7.5.0->fairlearn==0.4.6->aif360[all]) (4.11.3)\n",
            "Requirement already satisfied: pyrsistent!=0.17.0,!=0.17.1,!=0.17.2,>=0.14.0 in /usr/local/lib/python3.7/dist-packages (from jsonschema>=2.6->nbformat>=4.2.0->ipywidgets>=7.5.0->fairlearn==0.4.6->aif360[all]) (0.18.1)\n",
            "Requirement already satisfied: typing-extensions in /usr/local/lib/python3.7/dist-packages (from jsonschema>=2.6->nbformat>=4.2.0->ipywidgets>=7.5.0->fairlearn==0.4.6->aif360[all]) (4.2.0)\n",
            "Requirement already satisfied: attrs>=17.4.0 in /usr/local/lib/python3.7/dist-packages (from jsonschema>=2.6->nbformat>=4.2.0->ipywidgets>=7.5.0->fairlearn==0.4.6->aif360[all]) (21.4.0)\n",
            "Requirement already satisfied: importlib-resources>=1.4.0 in /usr/local/lib/python3.7/dist-packages (from jsonschema>=2.6->nbformat>=4.2.0->ipywidgets>=7.5.0->fairlearn==0.4.6->aif360[all]) (5.7.1)\n",
            "Requirement already satisfied: zipp>=3.1.0 in /usr/local/lib/python3.7/dist-packages (from importlib-resources>=1.4.0->jsonschema>=2.6->nbformat>=4.2.0->ipywidgets>=7.5.0->fairlearn==0.4.6->aif360[all]) (3.8.0)\n",
            "Collecting llvmlite<0.39,>=0.38.0rc1\n",
            "  Downloading llvmlite-0.38.1-cp37-cp37m-manylinux_2_17_x86_64.manylinux2014_x86_64.whl (34.5 MB)\n",
            "\u001b[K     |████████████████████████████████| 34.5 MB 13 kB/s \n",
            "\u001b[?25hRequirement already satisfied: qdldl in /usr/local/lib/python3.7/dist-packages (from osqp>=0.4.1->cvxpy>=1.0->aif360[all]) (0.1.5.post2)\n",
            "Requirement already satisfied: pytz>=2017.3 in /usr/local/lib/python3.7/dist-packages (from pandas>=0.24.0->aif360[all]) (2022.1)\n",
            "Requirement already satisfied: python-dateutil>=2.7.3 in /usr/local/lib/python3.7/dist-packages (from pandas>=0.24.0->aif360[all]) (2.8.2)\n",
            "Requirement already satisfied: wcwidth in /usr/local/lib/python3.7/dist-packages (from prompt-toolkit<2.0.0,>=1.0.4->ipython>=4.0.0->ipywidgets>=7.5.0->fairlearn==0.4.6->aif360[all]) (0.2.5)\n",
            "Requirement already satisfied: more-itertools>=4.0.0 in /usr/local/lib/python3.7/dist-packages (from pytest>=3.5->aif360[all]) (8.13.0)\n",
            "Requirement already satisfied: atomicwrites>=1.0 in /usr/local/lib/python3.7/dist-packages (from pytest>=3.5->aif360[all]) (1.4.0)\n",
            "Requirement already satisfied: py>=1.5.0 in /usr/local/lib/python3.7/dist-packages (from pytest>=3.5->aif360[all]) (1.11.0)\n",
            "Requirement already satisfied: pluggy<0.8,>=0.5 in /usr/local/lib/python3.7/dist-packages (from pytest>=3.5->aif360[all]) (0.7.1)\n",
            "Requirement already satisfied: threadpoolctl>=2.0.0 in /usr/local/lib/python3.7/dist-packages (from scikit-learn>=0.22.1->aif360[all]) (3.1.0)\n",
            "Requirement already satisfied: joblib>=0.11 in /usr/local/lib/python3.7/dist-packages (from scikit-learn>=0.22.1->aif360[all]) (1.1.0)\n",
            "Requirement already satisfied: wrapt>=1.11.0 in /usr/local/lib/python3.7/dist-packages (from tensorflow>=1.13.1->aif360[all]) (1.14.1)\n",
            "Requirement already satisfied: grpcio<2.0,>=1.24.3 in /usr/local/lib/python3.7/dist-packages (from tensorflow>=1.13.1->aif360[all]) (1.46.1)\n",
            "Requirement already satisfied: keras-preprocessing>=1.1.1 in /usr/local/lib/python3.7/dist-packages (from tensorflow>=1.13.1->aif360[all]) (1.1.2)\n",
            "Requirement already satisfied: tensorboard<2.9,>=2.8 in /usr/local/lib/python3.7/dist-packages (from tensorflow>=1.13.1->aif360[all]) (2.8.0)\n",
            "Requirement already satisfied: absl-py>=0.4.0 in /usr/local/lib/python3.7/dist-packages (from tensorflow>=1.13.1->aif360[all]) (1.0.0)\n",
            "Requirement already satisfied: tensorflow-io-gcs-filesystem>=0.23.1 in /usr/local/lib/python3.7/dist-packages (from tensorflow>=1.13.1->aif360[all]) (0.26.0)\n",
            "Requirement already satisfied: h5py>=2.9.0 in /usr/local/lib/python3.7/dist-packages (from tensorflow>=1.13.1->aif360[all]) (3.1.0)\n",
            "Collecting tf-estimator-nightly==2.8.0.dev2021122109\n",
            "  Downloading tf_estimator_nightly-2.8.0.dev2021122109-py2.py3-none-any.whl (462 kB)\n",
            "\u001b[K     |████████████████████████████████| 462 kB 49.7 MB/s \n",
            "\u001b[?25hRequirement already satisfied: gast>=0.2.1 in /usr/local/lib/python3.7/dist-packages (from tensorflow>=1.13.1->aif360[all]) (0.5.3)\n",
            "Requirement already satisfied: protobuf>=3.9.2 in /usr/local/lib/python3.7/dist-packages (from tensorflow>=1.13.1->aif360[all]) (3.17.3)\n",
            "Requirement already satisfied: termcolor>=1.1.0 in /usr/local/lib/python3.7/dist-packages (from tensorflow>=1.13.1->aif360[all]) (1.1.0)\n",
            "Requirement already satisfied: keras<2.9,>=2.8.0rc0 in /usr/local/lib/python3.7/dist-packages (from tensorflow>=1.13.1->aif360[all]) (2.8.0)\n",
            "Requirement already satisfied: libclang>=9.0.1 in /usr/local/lib/python3.7/dist-packages (from tensorflow>=1.13.1->aif360[all]) (14.0.1)\n",
            "Requirement already satisfied: google-pasta>=0.1.1 in /usr/local/lib/python3.7/dist-packages (from tensorflow>=1.13.1->aif360[all]) (0.2.0)\n",
            "Requirement already satisfied: astunparse>=1.6.0 in /usr/local/lib/python3.7/dist-packages (from tensorflow>=1.13.1->aif360[all]) (1.6.3)\n",
            "Requirement already satisfied: flatbuffers>=1.12 in /usr/local/lib/python3.7/dist-packages (from tensorflow>=1.13.1->aif360[all]) (2.0)\n",
            "Requirement already satisfied: opt-einsum>=2.3.2 in /usr/local/lib/python3.7/dist-packages (from tensorflow>=1.13.1->aif360[all]) (3.3.0)\n",
            "Requirement already satisfied: wheel<1.0,>=0.23.0 in /usr/local/lib/python3.7/dist-packages (from astunparse>=1.6.0->tensorflow>=1.13.1->aif360[all]) (0.37.1)\n",
            "Requirement already satisfied: cached-property in /usr/local/lib/python3.7/dist-packages (from h5py>=2.9.0->tensorflow>=1.13.1->aif360[all]) (1.5.2)\n",
            "Requirement already satisfied: tensorboard-plugin-wit>=1.6.0 in /usr/local/lib/python3.7/dist-packages (from tensorboard<2.9,>=2.8->tensorflow>=1.13.1->aif360[all]) (1.8.1)\n",
            "Requirement already satisfied: werkzeug>=0.11.15 in /usr/local/lib/python3.7/dist-packages (from tensorboard<2.9,>=2.8->tensorflow>=1.13.1->aif360[all]) (1.0.1)\n",
            "Requirement already satisfied: google-auth-oauthlib<0.5,>=0.4.1 in /usr/local/lib/python3.7/dist-packages (from tensorboard<2.9,>=2.8->tensorflow>=1.13.1->aif360[all]) (0.4.6)\n",
            "Requirement already satisfied: markdown>=2.6.8 in /usr/local/lib/python3.7/dist-packages (from tensorboard<2.9,>=2.8->tensorflow>=1.13.1->aif360[all]) (3.3.7)\n",
            "Requirement already satisfied: tensorboard-data-server<0.7.0,>=0.6.0 in /usr/local/lib/python3.7/dist-packages (from tensorboard<2.9,>=2.8->tensorflow>=1.13.1->aif360[all]) (0.6.1)\n",
            "Requirement already satisfied: requests<3,>=2.21.0 in /usr/local/lib/python3.7/dist-packages (from tensorboard<2.9,>=2.8->tensorflow>=1.13.1->aif360[all]) (2.23.0)\n",
            "Requirement already satisfied: google-auth<3,>=1.6.3 in /usr/local/lib/python3.7/dist-packages (from tensorboard<2.9,>=2.8->tensorflow>=1.13.1->aif360[all]) (1.35.0)\n",
            "Requirement already satisfied: cachetools<5.0,>=2.0.0 in /usr/local/lib/python3.7/dist-packages (from google-auth<3,>=1.6.3->tensorboard<2.9,>=2.8->tensorflow>=1.13.1->aif360[all]) (4.2.4)\n",
            "Requirement already satisfied: rsa<5,>=3.1.4 in /usr/local/lib/python3.7/dist-packages (from google-auth<3,>=1.6.3->tensorboard<2.9,>=2.8->tensorflow>=1.13.1->aif360[all]) (4.8)\n",
            "Requirement already satisfied: pyasn1-modules>=0.2.1 in /usr/local/lib/python3.7/dist-packages (from google-auth<3,>=1.6.3->tensorboard<2.9,>=2.8->tensorflow>=1.13.1->aif360[all]) (0.2.8)\n",
            "Requirement already satisfied: requests-oauthlib>=0.7.0 in /usr/local/lib/python3.7/dist-packages (from google-auth-oauthlib<0.5,>=0.4.1->tensorboard<2.9,>=2.8->tensorflow>=1.13.1->aif360[all]) (1.3.1)\n",
            "Requirement already satisfied: pyasn1<0.5.0,>=0.4.6 in /usr/local/lib/python3.7/dist-packages (from pyasn1-modules>=0.2.1->google-auth<3,>=1.6.3->tensorboard<2.9,>=2.8->tensorflow>=1.13.1->aif360[all]) (0.4.8)\n",
            "Requirement already satisfied: chardet<4,>=3.0.2 in /usr/local/lib/python3.7/dist-packages (from requests<3,>=2.21.0->tensorboard<2.9,>=2.8->tensorflow>=1.13.1->aif360[all]) (3.0.4)\n",
            "Requirement already satisfied: certifi>=2017.4.17 in /usr/local/lib/python3.7/dist-packages (from requests<3,>=2.21.0->tensorboard<2.9,>=2.8->tensorflow>=1.13.1->aif360[all]) (2022.5.18.1)\n",
            "Requirement already satisfied: urllib3!=1.25.0,!=1.25.1,<1.26,>=1.21.1 in /usr/local/lib/python3.7/dist-packages (from requests<3,>=2.21.0->tensorboard<2.9,>=2.8->tensorflow>=1.13.1->aif360[all]) (1.24.3)\n",
            "Requirement already satisfied: idna<3,>=2.5 in /usr/local/lib/python3.7/dist-packages (from requests<3,>=2.21.0->tensorboard<2.9,>=2.8->tensorflow>=1.13.1->aif360[all]) (2.10)\n",
            "Requirement already satisfied: oauthlib>=3.0.0 in /usr/local/lib/python3.7/dist-packages (from requests-oauthlib>=0.7.0->google-auth-oauthlib<0.5,>=0.4.1->tensorboard<2.9,>=2.8->tensorflow>=1.13.1->aif360[all]) (3.2.0)\n",
            "Requirement already satisfied: notebook>=4.4.1 in /usr/local/lib/python3.7/dist-packages (from widgetsnbextension~=3.6.0->ipywidgets>=7.5.0->fairlearn==0.4.6->aif360[all]) (5.3.1)\n",
            "Requirement already satisfied: terminado>=0.8.1 in /usr/local/lib/python3.7/dist-packages (from notebook>=4.4.1->widgetsnbextension~=3.6.0->ipywidgets>=7.5.0->fairlearn==0.4.6->aif360[all]) (0.13.3)\n",
            "Requirement already satisfied: nbconvert in /usr/local/lib/python3.7/dist-packages (from notebook>=4.4.1->widgetsnbextension~=3.6.0->ipywidgets>=7.5.0->fairlearn==0.4.6->aif360[all]) (5.6.1)\n",
            "Requirement already satisfied: Send2Trash in /usr/local/lib/python3.7/dist-packages (from notebook>=4.4.1->widgetsnbextension~=3.6.0->ipywidgets>=7.5.0->fairlearn==0.4.6->aif360[all]) (1.8.0)\n",
            "Requirement already satisfied: jinja2 in /usr/local/lib/python3.7/dist-packages (from notebook>=4.4.1->widgetsnbextension~=3.6.0->ipywidgets>=7.5.0->fairlearn==0.4.6->aif360[all]) (2.11.3)\n",
            "Requirement already satisfied: pyzmq>=13 in /usr/local/lib/python3.7/dist-packages (from jupyter-client->ipykernel>=4.5.1->ipywidgets>=7.5.0->fairlearn==0.4.6->aif360[all]) (23.0.0)\n",
            "Requirement already satisfied: ptyprocess in /usr/local/lib/python3.7/dist-packages (from terminado>=0.8.1->notebook>=4.4.1->widgetsnbextension~=3.6.0->ipywidgets>=7.5.0->fairlearn==0.4.6->aif360[all]) (0.7.0)\n",
            "Requirement already satisfied: networkx in /usr/local/lib/python3.7/dist-packages (from BlackBoxAuditing->aif360[all]) (2.6.3)\n",
            "Requirement already satisfied: MarkupSafe>=0.23 in /usr/local/lib/python3.7/dist-packages (from jinja2->notebook>=4.4.1->widgetsnbextension~=3.6.0->ipywidgets>=7.5.0->fairlearn==0.4.6->aif360[all]) (2.0.1)\n",
            "Requirement already satisfied: jupyter-console in /usr/local/lib/python3.7/dist-packages (from jupyter->aif360[all]) (5.2.0)\n",
            "Requirement already satisfied: qtconsole in /usr/local/lib/python3.7/dist-packages (from jupyter->aif360[all]) (5.3.0)\n",
            "Requirement already satisfied: scikit-image>=0.12 in /usr/local/lib/python3.7/dist-packages (from lime->aif360[all]) (0.18.3)\n",
            "Requirement already satisfied: tifffile>=2019.7.26 in /usr/local/lib/python3.7/dist-packages (from scikit-image>=0.12->lime->aif360[all]) (2021.11.2)\n",
            "Requirement already satisfied: pillow!=7.1.0,!=7.1.1,>=4.3.0 in /usr/local/lib/python3.7/dist-packages (from scikit-image>=0.12->lime->aif360[all]) (7.1.2)\n",
            "Requirement already satisfied: PyWavelets>=1.1.1 in /usr/local/lib/python3.7/dist-packages (from scikit-image>=0.12->lime->aif360[all]) (1.3.0)\n",
            "Requirement already satisfied: imageio>=2.3.0 in /usr/local/lib/python3.7/dist-packages (from scikit-image>=0.12->lime->aif360[all]) (2.4.1)\n",
            "Requirement already satisfied: kiwisolver>=1.0.1 in /usr/local/lib/python3.7/dist-packages (from matplotlib->aif360[all]) (1.4.2)\n",
            "Requirement already satisfied: pyparsing!=2.0.4,!=2.1.2,!=2.1.6,>=2.0.1 in /usr/local/lib/python3.7/dist-packages (from matplotlib->aif360[all]) (3.0.9)\n",
            "Requirement already satisfied: cycler>=0.10 in /usr/local/lib/python3.7/dist-packages (from matplotlib->aif360[all]) (0.11.0)\n",
            "Requirement already satisfied: dill>=0.3.4 in /usr/local/lib/python3.7/dist-packages (from multiprocess->cvxpy>=1.0->aif360[all]) (0.3.5.1)\n",
            "Requirement already satisfied: defusedxml in /usr/local/lib/python3.7/dist-packages (from nbconvert->notebook>=4.4.1->widgetsnbextension~=3.6.0->ipywidgets>=7.5.0->fairlearn==0.4.6->aif360[all]) (0.7.1)\n",
            "Requirement already satisfied: testpath in /usr/local/lib/python3.7/dist-packages (from nbconvert->notebook>=4.4.1->widgetsnbextension~=3.6.0->ipywidgets>=7.5.0->fairlearn==0.4.6->aif360[all]) (0.6.0)\n",
            "Requirement already satisfied: bleach in /usr/local/lib/python3.7/dist-packages (from nbconvert->notebook>=4.4.1->widgetsnbextension~=3.6.0->ipywidgets>=7.5.0->fairlearn==0.4.6->aif360[all]) (5.0.0)\n",
            "Requirement already satisfied: mistune<2,>=0.8.1 in /usr/local/lib/python3.7/dist-packages (from nbconvert->notebook>=4.4.1->widgetsnbextension~=3.6.0->ipywidgets>=7.5.0->fairlearn==0.4.6->aif360[all]) (0.8.4)\n",
            "Requirement already satisfied: pandocfilters>=1.4.1 in /usr/local/lib/python3.7/dist-packages (from nbconvert->notebook>=4.4.1->widgetsnbextension~=3.6.0->ipywidgets>=7.5.0->fairlearn==0.4.6->aif360[all]) (1.5.0)\n",
            "Requirement already satisfied: entrypoints>=0.2.2 in /usr/local/lib/python3.7/dist-packages (from nbconvert->notebook>=4.4.1->widgetsnbextension~=3.6.0->ipywidgets>=7.5.0->fairlearn==0.4.6->aif360[all]) (0.4)\n",
            "Requirement already satisfied: webencodings in /usr/local/lib/python3.7/dist-packages (from bleach->nbconvert->notebook>=4.4.1->widgetsnbextension~=3.6.0->ipywidgets>=7.5.0->fairlearn==0.4.6->aif360[all]) (0.5.1)\n",
            "Requirement already satisfied: qtpy>=2.0.1 in /usr/local/lib/python3.7/dist-packages (from qtconsole->jupyter->aif360[all]) (2.1.0)\n",
            "Requirement already satisfied: packaging in /usr/local/lib/python3.7/dist-packages (from qtpy>=2.0.1->qtconsole->jupyter->aif360[all]) (21.3)\n",
            "Requirement already satisfied: alabaster<0.8,>=0.7 in /usr/local/lib/python3.7/dist-packages (from sphinx->aif360[all]) (0.7.12)\n",
            "Requirement already satisfied: docutils<0.18,>=0.11 in /usr/local/lib/python3.7/dist-packages (from sphinx->aif360[all]) (0.17.1)\n",
            "Requirement already satisfied: imagesize in /usr/local/lib/python3.7/dist-packages (from sphinx->aif360[all]) (1.3.0)\n",
            "Requirement already satisfied: snowballstemmer>=1.1 in /usr/local/lib/python3.7/dist-packages (from sphinx->aif360[all]) (2.2.0)\n",
            "Requirement already satisfied: babel!=2.0,>=1.3 in /usr/local/lib/python3.7/dist-packages (from sphinx->aif360[all]) (2.10.1)\n",
            "Requirement already satisfied: sphinxcontrib-websupport in /usr/local/lib/python3.7/dist-packages (from sphinx->aif360[all]) (1.2.4)\n",
            "Requirement already satisfied: sphinxcontrib-serializinghtml in /usr/local/lib/python3.7/dist-packages (from sphinxcontrib-websupport->sphinx->aif360[all]) (1.1.5)\n",
            "Collecting shap\n",
            "  Downloading shap-0.40.0-cp37-cp37m-manylinux2010_x86_64.whl (564 kB)\n",
            "\u001b[K     |████████████████████████████████| 564 kB 49.3 MB/s \n",
            "\u001b[?25hCollecting memory-profiler\n",
            "  Downloading memory_profiler-0.60.0.tar.gz (38 kB)\n",
            "Requirement already satisfied: psutil in /usr/local/lib/python3.7/dist-packages (from memory-profiler->tempeh->aif360[all]) (5.4.8)\n",
            "Requirement already satisfied: cloudpickle in /usr/local/lib/python3.7/dist-packages (from shap->tempeh->aif360[all]) (1.3.0)\n",
            "Collecting slicer==0.0.7\n",
            "  Downloading slicer-0.0.7-py3-none-any.whl (14 kB)\n",
            "Building wheels for collected packages: BlackBoxAuditing, lime, memory-profiler\n",
            "  Building wheel for BlackBoxAuditing (setup.py) ... \u001b[?25l\u001b[?25hdone\n",
            "  Created wheel for BlackBoxAuditing: filename=BlackBoxAuditing-0.1.54-py2.py3-none-any.whl size=1394770 sha256=99def0466db3e6651504bd60cf7873c725000d716d88c897646a08f30838b483\n",
            "  Stored in directory: /root/.cache/pip/wheels/05/9f/ee/541a74be4cf5dad17430e64d3276370ea7b6a834a76cb4215a\n",
            "  Building wheel for lime (setup.py) ... \u001b[?25l\u001b[?25hdone\n",
            "  Created wheel for lime: filename=lime-0.2.0.1-py3-none-any.whl size=283857 sha256=e89b7f31b0d8e05153d6e7fa650fad8b020f045ef9ed40b777a805a494ee8a1e\n",
            "  Stored in directory: /root/.cache/pip/wheels/ca/cb/e5/ac701e12d365a08917bf4c6171c0961bc880a8181359c66aa7\n",
            "  Building wheel for memory-profiler (setup.py) ... \u001b[?25l\u001b[?25hdone\n",
            "  Created wheel for memory-profiler: filename=memory_profiler-0.60.0-py3-none-any.whl size=31284 sha256=8ef254268980136c2f97e8f3303f325fa771e5a56d3b2d300b3bc94f26768322\n",
            "  Stored in directory: /root/.cache/pip/wheels/67/2b/fb/326e30d638c538e69a5eb0aa47f4223d979f502bbdb403950f\n",
            "Successfully built BlackBoxAuditing lime memory-profiler\n",
            "Installing collected packages: llvmlite, slicer, numba, shap, memory-profiler, tf-estimator-nightly, tempeh, sphinx-rtd-theme, lime, fairlearn, BlackBoxAuditing, aif360, adversarial-robustness-toolbox\n",
            "  Attempting uninstall: llvmlite\n",
            "    Found existing installation: llvmlite 0.34.0\n",
            "    Uninstalling llvmlite-0.34.0:\n",
            "      Successfully uninstalled llvmlite-0.34.0\n",
            "  Attempting uninstall: numba\n",
            "    Found existing installation: numba 0.51.2\n",
            "    Uninstalling numba-0.51.2:\n",
            "      Successfully uninstalled numba-0.51.2\n",
            "Successfully installed BlackBoxAuditing-0.1.54 adversarial-robustness-toolbox-1.10.2 aif360-0.4.0 fairlearn-0.4.6 lime-0.2.0.1 llvmlite-0.38.1 memory-profiler-0.60.0 numba-0.55.2 shap-0.40.0 slicer-0.0.7 sphinx-rtd-theme-1.0.0 tempeh-0.1.12 tf-estimator-nightly-2.8.0.dev2021122109\n"
          ]
        }
      ]
    },
    {
      "cell_type": "markdown",
      "metadata": {
        "id": "cxtCnCtzdhte"
      },
      "source": [
        "## Load required libraries"
      ]
    },
    {
      "cell_type": "code",
      "execution_count": null,
      "metadata": {
        "id": "_EAuAYH5dhtg"
      },
      "outputs": [],
      "source": [
        "import sys\n",
        "sys.path.insert(0, '../')\n",
        "\n",
        "%matplotlib inline\n",
        "import matplotlib.pyplot as plt\n",
        "import numpy as np\n",
        "import pandas as pd\n",
        "import seaborn as sns\n",
        "from IPython.display import Markdown, display\n",
        "\n",
        "# Datasets\n",
        "from aif360.datasets import MEPSDataset19\n",
        "from aif360.datasets import MEPSDataset20\n",
        "from aif360.datasets import MEPSDataset21\n",
        "\n",
        "#Sklearn fairness metrics\n",
        "from sklearn.metrics import (\n",
        "    balanced_accuracy_score,\n",
        "    roc_auc_score,\n",
        "    accuracy_score,\n",
        "    recall_score,\n",
        "    confusion_matrix,\n",
        "    roc_auc_score,\n",
        "    roc_curve,\n",
        "    plot_roc_curve)\n",
        "\n",
        "# Fairness metrics\n",
        "from aif360.metrics import BinaryLabelDatasetMetric\n",
        "from aif360.metrics import ClassificationMetric\n",
        "\n",
        "# Explainers\n",
        "from aif360.explainers import MetricTextExplainer\n",
        "\n",
        "# Scalers\n",
        "from sklearn.preprocessing import StandardScaler\n",
        "\n",
        "# Classifiers\n",
        "from sklearn.ensemble import RandomForestClassifier\n",
        "from sklearn.linear_model import LogisticRegression\n",
        "from sklearn.pipeline import make_pipeline\n",
        "\n",
        "# Bias mitigation techniques\n",
        "from aif360.algorithms.preprocessing import Reweighing\n",
        "from aif360.algorithms.inprocessing import PrejudiceRemover\n",
        "\n",
        "import seaborn as sns\n",
        "\n",
        "\n",
        "np.random.seed(1)"
      ]
    },
    {
      "cell_type": "markdown",
      "source": [
        "# Dataset"
      ],
      "metadata": {
        "id": "lxZb72ZGe0f9"
      }
    },
    {
      "cell_type": "markdown",
      "source": [
        "Load the data."
      ],
      "metadata": {
        "id": "F-vHYh8cfM3S"
      }
    },
    {
      "cell_type": "code",
      "source": [
        "df = pd.read_csv(\"https://raw.githubusercontent.com/pablobiedma/datasets/main/dataset.csv\")\n",
        "# pd.set_option('display.max_columns', None)\n",
        "df.head()"
      ],
      "metadata": {
        "colab": {
          "base_uri": "https://localhost:8080/",
          "height": 300
        },
        "id": "z1k9D26gfQkU",
        "outputId": "0aa1aac5-4181-4983-bc28-c9aa27f25e5e"
      },
      "execution_count": null,
      "outputs": [
        {
          "output_type": "execute_result",
          "data": {
            "text/plain": [
              "   REGION  AGE  SEX  RACE  MARRY  ACTDTY  HONRDC  RTHLTH  MNHLTH  HIBPDX  ...  \\\n",
              "0       2   53    1     1      5       2       2       4       3       1  ...   \n",
              "1       2   56    2     1      3       2       2       4       3       1  ...   \n",
              "2       2   23    2     1      5       2       2       1       1       2  ...   \n",
              "3       2    3    1     1      6       3       3       1       3      -1  ...   \n",
              "4       3   27    1     0      1       1       4       2       1       2  ...   \n",
              "\n",
              "   DFSEE42  ADSMOK42  K6SUM42  PHQ242  EMPST  POVCAT  INSCOV  UTILIZATION  \\\n",
              "0        2         2        3       0      4       1       2            1   \n",
              "1        2         2       17       6      4       3       2            1   \n",
              "2        2         2        7       0      1       2       2            0   \n",
              "3        2        -1       -1      -1     -1       2       2            0   \n",
              "4        2        -1       -1      -1      1       3       1            0   \n",
              "\n",
              "      PERWT15F  WEIGHT  \n",
              "0  21854.98171    65.0  \n",
              "1  18169.60482     NaN  \n",
              "2  17191.83252     NaN  \n",
              "3  20261.48546    58.0  \n",
              "4      0.00000    51.0  \n",
              "\n",
              "[5 rows x 41 columns]"
            ],
            "text/html": [
              "\n",
              "  <div id=\"df-fe18788d-dcd7-4b78-aa7f-137f3e583ce6\">\n",
              "    <div class=\"colab-df-container\">\n",
              "      <div>\n",
              "<style scoped>\n",
              "    .dataframe tbody tr th:only-of-type {\n",
              "        vertical-align: middle;\n",
              "    }\n",
              "\n",
              "    .dataframe tbody tr th {\n",
              "        vertical-align: top;\n",
              "    }\n",
              "\n",
              "    .dataframe thead th {\n",
              "        text-align: right;\n",
              "    }\n",
              "</style>\n",
              "<table border=\"1\" class=\"dataframe\">\n",
              "  <thead>\n",
              "    <tr style=\"text-align: right;\">\n",
              "      <th></th>\n",
              "      <th>REGION</th>\n",
              "      <th>AGE</th>\n",
              "      <th>SEX</th>\n",
              "      <th>RACE</th>\n",
              "      <th>MARRY</th>\n",
              "      <th>ACTDTY</th>\n",
              "      <th>HONRDC</th>\n",
              "      <th>RTHLTH</th>\n",
              "      <th>MNHLTH</th>\n",
              "      <th>HIBPDX</th>\n",
              "      <th>...</th>\n",
              "      <th>DFSEE42</th>\n",
              "      <th>ADSMOK42</th>\n",
              "      <th>K6SUM42</th>\n",
              "      <th>PHQ242</th>\n",
              "      <th>EMPST</th>\n",
              "      <th>POVCAT</th>\n",
              "      <th>INSCOV</th>\n",
              "      <th>UTILIZATION</th>\n",
              "      <th>PERWT15F</th>\n",
              "      <th>WEIGHT</th>\n",
              "    </tr>\n",
              "  </thead>\n",
              "  <tbody>\n",
              "    <tr>\n",
              "      <th>0</th>\n",
              "      <td>2</td>\n",
              "      <td>53</td>\n",
              "      <td>1</td>\n",
              "      <td>1</td>\n",
              "      <td>5</td>\n",
              "      <td>2</td>\n",
              "      <td>2</td>\n",
              "      <td>4</td>\n",
              "      <td>3</td>\n",
              "      <td>1</td>\n",
              "      <td>...</td>\n",
              "      <td>2</td>\n",
              "      <td>2</td>\n",
              "      <td>3</td>\n",
              "      <td>0</td>\n",
              "      <td>4</td>\n",
              "      <td>1</td>\n",
              "      <td>2</td>\n",
              "      <td>1</td>\n",
              "      <td>21854.98171</td>\n",
              "      <td>65.0</td>\n",
              "    </tr>\n",
              "    <tr>\n",
              "      <th>1</th>\n",
              "      <td>2</td>\n",
              "      <td>56</td>\n",
              "      <td>2</td>\n",
              "      <td>1</td>\n",
              "      <td>3</td>\n",
              "      <td>2</td>\n",
              "      <td>2</td>\n",
              "      <td>4</td>\n",
              "      <td>3</td>\n",
              "      <td>1</td>\n",
              "      <td>...</td>\n",
              "      <td>2</td>\n",
              "      <td>2</td>\n",
              "      <td>17</td>\n",
              "      <td>6</td>\n",
              "      <td>4</td>\n",
              "      <td>3</td>\n",
              "      <td>2</td>\n",
              "      <td>1</td>\n",
              "      <td>18169.60482</td>\n",
              "      <td>NaN</td>\n",
              "    </tr>\n",
              "    <tr>\n",
              "      <th>2</th>\n",
              "      <td>2</td>\n",
              "      <td>23</td>\n",
              "      <td>2</td>\n",
              "      <td>1</td>\n",
              "      <td>5</td>\n",
              "      <td>2</td>\n",
              "      <td>2</td>\n",
              "      <td>1</td>\n",
              "      <td>1</td>\n",
              "      <td>2</td>\n",
              "      <td>...</td>\n",
              "      <td>2</td>\n",
              "      <td>2</td>\n",
              "      <td>7</td>\n",
              "      <td>0</td>\n",
              "      <td>1</td>\n",
              "      <td>2</td>\n",
              "      <td>2</td>\n",
              "      <td>0</td>\n",
              "      <td>17191.83252</td>\n",
              "      <td>NaN</td>\n",
              "    </tr>\n",
              "    <tr>\n",
              "      <th>3</th>\n",
              "      <td>2</td>\n",
              "      <td>3</td>\n",
              "      <td>1</td>\n",
              "      <td>1</td>\n",
              "      <td>6</td>\n",
              "      <td>3</td>\n",
              "      <td>3</td>\n",
              "      <td>1</td>\n",
              "      <td>3</td>\n",
              "      <td>-1</td>\n",
              "      <td>...</td>\n",
              "      <td>2</td>\n",
              "      <td>-1</td>\n",
              "      <td>-1</td>\n",
              "      <td>-1</td>\n",
              "      <td>-1</td>\n",
              "      <td>2</td>\n",
              "      <td>2</td>\n",
              "      <td>0</td>\n",
              "      <td>20261.48546</td>\n",
              "      <td>58.0</td>\n",
              "    </tr>\n",
              "    <tr>\n",
              "      <th>4</th>\n",
              "      <td>3</td>\n",
              "      <td>27</td>\n",
              "      <td>1</td>\n",
              "      <td>0</td>\n",
              "      <td>1</td>\n",
              "      <td>1</td>\n",
              "      <td>4</td>\n",
              "      <td>2</td>\n",
              "      <td>1</td>\n",
              "      <td>2</td>\n",
              "      <td>...</td>\n",
              "      <td>2</td>\n",
              "      <td>-1</td>\n",
              "      <td>-1</td>\n",
              "      <td>-1</td>\n",
              "      <td>1</td>\n",
              "      <td>3</td>\n",
              "      <td>1</td>\n",
              "      <td>0</td>\n",
              "      <td>0.00000</td>\n",
              "      <td>51.0</td>\n",
              "    </tr>\n",
              "  </tbody>\n",
              "</table>\n",
              "<p>5 rows × 41 columns</p>\n",
              "</div>\n",
              "      <button class=\"colab-df-convert\" onclick=\"convertToInteractive('df-fe18788d-dcd7-4b78-aa7f-137f3e583ce6')\"\n",
              "              title=\"Convert this dataframe to an interactive table.\"\n",
              "              style=\"display:none;\">\n",
              "        \n",
              "  <svg xmlns=\"http://www.w3.org/2000/svg\" height=\"24px\"viewBox=\"0 0 24 24\"\n",
              "       width=\"24px\">\n",
              "    <path d=\"M0 0h24v24H0V0z\" fill=\"none\"/>\n",
              "    <path d=\"M18.56 5.44l.94 2.06.94-2.06 2.06-.94-2.06-.94-.94-2.06-.94 2.06-2.06.94zm-11 1L8.5 8.5l.94-2.06 2.06-.94-2.06-.94L8.5 2.5l-.94 2.06-2.06.94zm10 10l.94 2.06.94-2.06 2.06-.94-2.06-.94-.94-2.06-.94 2.06-2.06.94z\"/><path d=\"M17.41 7.96l-1.37-1.37c-.4-.4-.92-.59-1.43-.59-.52 0-1.04.2-1.43.59L10.3 9.45l-7.72 7.72c-.78.78-.78 2.05 0 2.83L4 21.41c.39.39.9.59 1.41.59.51 0 1.02-.2 1.41-.59l7.78-7.78 2.81-2.81c.8-.78.8-2.07 0-2.86zM5.41 20L4 18.59l7.72-7.72 1.47 1.35L5.41 20z\"/>\n",
              "  </svg>\n",
              "      </button>\n",
              "      \n",
              "  <style>\n",
              "    .colab-df-container {\n",
              "      display:flex;\n",
              "      flex-wrap:wrap;\n",
              "      gap: 12px;\n",
              "    }\n",
              "\n",
              "    .colab-df-convert {\n",
              "      background-color: #E8F0FE;\n",
              "      border: none;\n",
              "      border-radius: 50%;\n",
              "      cursor: pointer;\n",
              "      display: none;\n",
              "      fill: #1967D2;\n",
              "      height: 32px;\n",
              "      padding: 0 0 0 0;\n",
              "      width: 32px;\n",
              "    }\n",
              "\n",
              "    .colab-df-convert:hover {\n",
              "      background-color: #E2EBFA;\n",
              "      box-shadow: 0px 1px 2px rgba(60, 64, 67, 0.3), 0px 1px 3px 1px rgba(60, 64, 67, 0.15);\n",
              "      fill: #174EA6;\n",
              "    }\n",
              "\n",
              "    [theme=dark] .colab-df-convert {\n",
              "      background-color: #3B4455;\n",
              "      fill: #D2E3FC;\n",
              "    }\n",
              "\n",
              "    [theme=dark] .colab-df-convert:hover {\n",
              "      background-color: #434B5C;\n",
              "      box-shadow: 0px 1px 3px 1px rgba(0, 0, 0, 0.15);\n",
              "      filter: drop-shadow(0px 1px 2px rgba(0, 0, 0, 0.3));\n",
              "      fill: #FFFFFF;\n",
              "    }\n",
              "  </style>\n",
              "\n",
              "      <script>\n",
              "        const buttonEl =\n",
              "          document.querySelector('#df-fe18788d-dcd7-4b78-aa7f-137f3e583ce6 button.colab-df-convert');\n",
              "        buttonEl.style.display =\n",
              "          google.colab.kernel.accessAllowed ? 'block' : 'none';\n",
              "\n",
              "        async function convertToInteractive(key) {\n",
              "          const element = document.querySelector('#df-fe18788d-dcd7-4b78-aa7f-137f3e583ce6');\n",
              "          const dataTable =\n",
              "            await google.colab.kernel.invokeFunction('convertToInteractive',\n",
              "                                                     [key], {});\n",
              "          if (!dataTable) return;\n",
              "\n",
              "          const docLinkHtml = 'Like what you see? Visit the ' +\n",
              "            '<a target=\"_blank\" href=https://colab.research.google.com/notebooks/data_table.ipynb>data table notebook</a>'\n",
              "            + ' to learn more about interactive tables.';\n",
              "          element.innerHTML = '';\n",
              "          dataTable['output_type'] = 'display_data';\n",
              "          await google.colab.output.renderOutput(dataTable, element);\n",
              "          const docLink = document.createElement('div');\n",
              "          docLink.innerHTML = docLinkHtml;\n",
              "          element.appendChild(docLink);\n",
              "        }\n",
              "      </script>\n",
              "    </div>\n",
              "  </div>\n",
              "  "
            ]
          },
          "metadata": {},
          "execution_count": 4
        }
      ]
    },
    {
      "cell_type": "markdown",
      "source": [
        ""
      ],
      "metadata": {
        "id": "FffBqA0dcSP4"
      }
    },
    {
      "cell_type": "code",
      "source": [
        "print(\"Number of records: \" + str(df.shape[0]))\n",
        "print(\"Number of features: \" + str(df.shape[1]))"
      ],
      "metadata": {
        "colab": {
          "base_uri": "https://localhost:8080/"
        },
        "id": "3p80_XfPfdrJ",
        "outputId": "dcc30edf-5d85-450c-ec1c-a12f45ee7b37"
      },
      "execution_count": null,
      "outputs": [
        {
          "output_type": "stream",
          "name": "stdout",
          "text": [
            "Number of records: 4400\n",
            "Number of features: 41\n"
          ]
        }
      ]
    },
    {
      "cell_type": "markdown",
      "source": [
        "## Dataset description\n",
        "\n",
        "The specific data used is the [2015 Full Year Consolidated Data File](https://meps.ahrq.gov/mepsweb/data_stats/download_data_files_detail.jsp?cboPufNumber=HC-181).\n",
        "\n",
        "<!-- (as well as the [2016 Full Year Consolidated Data File](https://meps.ahrq.gov/mepsweb/data_stats/download_data_files_detail.jsp?cboPufNumber=HC-192) ). -->\n",
        " \n",
        "Other features used for modeling include demographics  (such as age, gender, active duty status), physical/mental health assessments, diagnosis codes (such as history of diagnosis of cancer, or diabetes), and limitations (such as cognitive or hearing or vision limitation).\n",
        "\n",
        "To measure utilization, a composite feature, 'UTILIZATION', was created to measure the total number of trips requiring medical care by summing up the following features: the number of office based visits, the number of outpatient visits, the number of ER visits, the number of inpatient nights, and  the number of home health visits.\n",
        "After summing up all these values, the feature was made cateorical, where a sum >= 10 resulted in the value 1 (considered 'high' utilization) and a sum < 10 in the value 0. \n",
        "\n",
        "<!-- (High utilization respondents constitute around 17% of each dataset.) -->"
      ],
      "metadata": {
        "id": "T_s3eQFmf-KY"
      }
    },
    {
      "cell_type": "markdown",
      "source": [
        "|features| description|\n",
        "|---|---|\n",
        "| RACE, AGE, SEX, REGION, MARRY | demographic features |\n",
        "| ACTDTY, HONRDC | military service (active or discharge) |\n",
        "| EMPST | employment status |\n",
        "| POVCAT | poverty status |\n",
        "| INSCOV | health insurance coverage indicator|\n",
        "| PERWT15F | person-level weight - calculated based on region, <br> status, race, sex, age & poverty status| \n",
        "| HIBPDX | blood pressure|\n",
        "| CHDDX, ANGIDX, MIDX, OHRTDX | heart diseases |\n",
        "| STRKDX, EMPHDX, CHBRON, CHOLDX, CANCERDX, <br> DIABDX, JTPAIN, ARTHTYPE, ASTHDX, ADHDADDX | other specific diseases (eg. diabetes, cancer, asthma etc.) |\n",
        "| PREGNT | pregnant status |\n",
        "| ADSMOK42 | (non)smoker |\n",
        "| WLKLIM | famility walking dificulties |\n",
        "| ACTLIM, SOCLIM, COGLIM | work/school, social & cognitive limitations |\n",
        "| DFHEAR42, DFSEE42 | hearing & visual impairment |\n",
        "| PHQ242, K6SUM42, MNHLTH, RTHLTH | mental health-related information |\n",
        "| UTILIZATION | healthcare utilization|"
      ],
      "metadata": {
        "id": "KYdZwZ_cgGBP"
      }
    },
    {
      "cell_type": "markdown",
      "source": [
        "# Your exploration: "
      ],
      "metadata": {
        "id": "kcegM0cj3ULI"
      }
    },
    {
      "cell_type": "code",
      "source": [
        ""
      ],
      "metadata": {
        "id": "It51nha3u_cH"
      },
      "execution_count": null,
      "outputs": []
    },
    {
      "cell_type": "code",
      "source": [
        ""
      ],
      "metadata": {
        "id": "oMc9SpZ4u_Yi"
      },
      "execution_count": null,
      "outputs": []
    },
    {
      "cell_type": "code",
      "source": [
        ""
      ],
      "metadata": {
        "id": "mLSmZt0W3YJa"
      },
      "execution_count": null,
      "outputs": []
    },
    {
      "cell_type": "markdown",
      "metadata": {
        "id": "VbEAu_Ypdhtm"
      },
      "source": [
        "# A1"
      ]
    },
    {
      "cell_type": "code",
      "execution_count": null,
      "metadata": {
        "id": "Hd_aMOs1dhtq"
      },
      "outputs": [],
      "source": [
        "(dataset_orig_panel19_train,\n",
        " dataset_orig_panel19_val,\n",
        " dataset_orig_panel19_test) = MEPSDataset19().split([0.5, 0.8], shuffle=True)\n",
        "\n",
        "sens_ind = 0\n",
        "sens_attr = dataset_orig_panel19_train.protected_attribute_names[sens_ind]\n",
        "\n",
        "unprivileged_groups = [{sens_attr: v} for v in\n",
        "                       dataset_orig_panel19_train.unprivileged_protected_attributes[sens_ind]]\n",
        "privileged_groups = [{sens_attr: v} for v in\n",
        "                     dataset_orig_panel19_train.privileged_protected_attributes[sens_ind]]"
      ]
    },
    {
      "cell_type": "code",
      "execution_count": null,
      "metadata": {
        "id": "6Fs_wm12dhtt"
      },
      "outputs": [],
      "source": [
        "pd_data = pd.DataFrame(dataset_orig_panel19_train.features, columns=dataset_orig_panel19_train.feature_names)\n",
        "def describe(train=None, val=None, test=None):\n",
        "    if train is not None:\n",
        "        display(Markdown(\"#### Training Dataset shape\"))\n",
        "        print(train.features.shape)\n",
        "    if val is not None:\n",
        "        display(Markdown(\"#### Validation Dataset shape\"))\n",
        "        print(val.features.shape)\n",
        "    display(Markdown(\"#### Test Dataset shape\"))\n",
        "    print(test.features.shape)\n",
        "    display(Markdown(\"#### Favorable and unfavorable labels\"))\n",
        "    print(test.favorable_label, test.unfavorable_label)\n",
        "    display(Markdown(\"#### Privileged and unprivileged protected attribute values\"))\n",
        "    print(test.privileged_protected_attributes, \n",
        "          test.unprivileged_protected_attributes)\n",
        "    display(Markdown(\"#### Dataset feature names\"))\n",
        "    print(test.feature_names)"
      ]
    },
    {
      "cell_type": "markdown",
      "metadata": {
        "id": "YPICBOJ2dht8"
      },
      "source": [
        "# A2\n",
        "\n",
        "\n"
      ]
    },
    {
      "cell_type": "markdown",
      "source": [
        "Data skew."
      ],
      "metadata": {
        "id": "vgo98g39-OHX"
      }
    },
    {
      "cell_type": "code",
      "source": [
        "print(df.skew())"
      ],
      "metadata": {
        "colab": {
          "base_uri": "https://localhost:8080/"
        },
        "id": "h3iIAemFiphF",
        "outputId": "323da931-9a30-40dc-8b66-4e4e54f1ef49"
      },
      "execution_count": null,
      "outputs": [
        {
          "output_type": "stream",
          "name": "stdout",
          "text": [
            "REGION        -0.564462\n",
            "AGE            0.280057\n",
            "SEX           -0.024556\n",
            "RACE           0.613524\n",
            "MARRY         -0.100575\n",
            "ACTDTY         0.817475\n",
            "HONRDC         0.341628\n",
            "RTHLTH         0.407700\n",
            "MNHLTH         0.599832\n",
            "HIBPDX        -0.702056\n",
            "CHDDX         -0.935847\n",
            "ANGIDX        -0.967602\n",
            "MIDX          -0.956394\n",
            "OHRTDX        -0.889475\n",
            "STRKDX        -0.954164\n",
            "EMPHDX        -0.975994\n",
            "CHBRON        -0.962788\n",
            "CHOLDX        -0.713876\n",
            "CANCERDX      -0.900357\n",
            "DIABDX        -0.882580\n",
            "JTPAIN        -0.684413\n",
            "ARTHDX        -0.747668\n",
            "ARTHTYPE       1.775161\n",
            "ASTHDX        -3.003633\n",
            "ADHDADDX       1.229661\n",
            "PREGNT         1.559013\n",
            "WLKLIM        -3.277588\n",
            "ACTLIM        -3.087928\n",
            "SOCLIM        -6.197375\n",
            "COGLIM        -0.924845\n",
            "DFHEAR42      -5.191989\n",
            "DFSEE42       -5.477891\n",
            "ADSMOK42      -0.363021\n",
            "K6SUM42        2.241126\n",
            "PHQ242         2.349553\n",
            "EMPST          0.245380\n",
            "POVCAT        -0.454716\n",
            "INSCOV         0.735618\n",
            "UTILIZATION    1.727938\n",
            "PERWT15F       3.077120\n",
            "WEIGHT        -0.034082\n",
            "dtype: float64\n"
          ]
        }
      ]
    },
    {
      "cell_type": "markdown",
      "source": [
        "# A3\n"
      ],
      "metadata": {
        "id": "SEE3QBVwjnbQ"
      }
    },
    {
      "cell_type": "markdown",
      "source": [
        "Examine sample sizes of groups according to race:"
      ],
      "metadata": {
        "id": "VPm0Fxv1jp_6"
      }
    },
    {
      "cell_type": "code",
      "source": [
        "df[\"RACE\"].value_counts().plot(kind='bar', rot=45);"
      ],
      "metadata": {
        "colab": {
          "base_uri": "https://localhost:8080/"
        },
        "id": "EkZxwD6Njypz",
        "outputId": "a8b71e0b-4f86-4ac9-f9f8-e7f9ba25a830"
      },
      "execution_count": null,
      "outputs": [
        {
          "output_type": "display_data",
          "data": {
            "text/plain": [
              "<Figure size 432x288 with 1 Axes>"
            ],
            "image/png": "[encoded data removed]"
          },
          "metadata": {
            "needs_background": "light"
          }
        }
      ]
    },
    {
      "cell_type": "markdown",
      "source": [
        "# A4 "
      ],
      "metadata": {
        "id": "CJNWEns2j3DO"
      }
    },
    {
      "cell_type": "code",
      "source": [
        "print(df[\"SEX\"].value_counts()) # counts"
      ],
      "metadata": {
        "colab": {
          "base_uri": "https://localhost:8080/"
        },
        "id": "GMR8bqFAj4Vr",
        "outputId": "dabd89aa-38d3-41a2-f7c7-f555ce0a3646"
      },
      "execution_count": null,
      "outputs": [
        {
          "output_type": "stream",
          "name": "stdout",
          "text": [
            "2    2227\n",
            "1    2173\n",
            "Name: SEX, dtype: int64\n"
          ]
        }
      ]
    },
    {
      "cell_type": "markdown",
      "source": [
        "# A5"
      ],
      "metadata": {
        "id": "CTWfyzIFkSk8"
      }
    },
    {
      "cell_type": "code",
      "source": [
        "df[\"AGE\"].hist(density=1)"
      ],
      "metadata": {
        "colab": {
          "base_uri": "https://localhost:8080/"
        },
        "id": "SZ8wZwWVkUPU",
        "outputId": "15103612-aaee-4946-e33d-9c58a4fa842b"
      },
      "execution_count": null,
      "outputs": [
        {
          "output_type": "execute_result",
          "data": {
            "text/plain": [
              "<matplotlib.axes._subplots.AxesSubplot at 0x7efdb2db2050>"
            ]
          },
          "metadata": {},
          "execution_count": 72
        },
        {
          "output_type": "display_data",
          "data": {
            "text/plain": [
              "<Figure size 432x288 with 1 Axes>"
            ],
            "image/png": "[encoded data removed]"
          },
          "metadata": {
            "needs_background": "light"
          }
        }
      ]
    },
    {
      "cell_type": "markdown",
      "source": [
        "# A6"
      ],
      "metadata": {
        "id": "AFk8CyQ2tRZH"
      }
    },
    {
      "cell_type": "markdown",
      "source": [
        "Examine how much the label frequencies vary within each group defined by race and sex:\n"
      ],
      "metadata": {
        "id": "zizYZ2t2tbbq"
      }
    },
    {
      "cell_type": "code",
      "source": [
        "sns.set()\n",
        "sns.barplot(x=\"UTILIZATION\", y=\"POVCAT\", data=df, ci=95)\n"
      ],
      "metadata": {
        "colab": {
          "base_uri": "https://localhost:8080/",
          "height": 302
        },
        "id": "LezOTuy1tgaB",
        "outputId": "0b8fd379-c21d-4039-d8fd-da99a29ee8c8"
      },
      "execution_count": null,
      "outputs": [
        {
          "output_type": "execute_result",
          "data": {
            "text/plain": [
              "<matplotlib.axes._subplots.AxesSubplot at 0x7f2156e7a2d0>"
            ]
          },
          "metadata": {},
          "execution_count": 7
        },
        {
          "output_type": "display_data",
          "data": {
            "text/plain": [
              "<Figure size 432x288 with 1 Axes>"
            ],
            "image/png": "[encoded data removed]"
          },
          "metadata": {}
        }
      ]
    },
    {
      "cell_type": "markdown",
      "source": [
        "## A6.2"
      ],
      "metadata": {
        "id": "rj05QUGQEvjW"
      }
    },
    {
      "cell_type": "code",
      "source": [
        "#######\n",
        "\n",
        "def getNormalizedCount(pd_train_data, protected_attribute, label):\n",
        "    unnormalized_count = pd_train_data[[protected_attribute, label]].value_counts()\n",
        "    counts = {}\n",
        "    for attribute_value in pd_train_data[[protected_attribute]].value_counts().keys():\n",
        "        counts[attribute_value[0]] = pd_train_data[[protected_attribute]].value_counts()[attribute_value]\n",
        "    normalized_count = unnormalized_count[:]\n",
        "    for attribute_value, utilization_value in pd_train_data[[protected_attribute, label]].value_counts().keys():\n",
        "        normalized_count[attribute_value, utilization_value] = normalized_count[attribute_value, utilization_value] * (50 / counts[attribute_value])\n",
        "    return normalized_count\n",
        "\n",
        "# Balance of feature with their label.\n",
        "pd_data[\"UTILIZATION\"] = dataset_orig_panel19_train.labels\n",
        "\n",
        "protected_attribute = \"AGE\"\n",
        "label = \"UTILIZATION\"\n",
        "print(getNormalizedCount(pd_data, protected_attribute, label))\n",
        "\n",
        "protected_attribute = \"RACE\"\n",
        "label = \"UTILIZATION\"\n",
        "print(getNormalizedCount(pd_data, protected_attribute, label))\n",
        "\n",
        "protected_attribute = \"SEX=1\"\n",
        "label = \"UTILIZATION\"\n",
        "print(getNormalizedCount(pd_data, protected_attribute, label))\n",
        "\n",
        "protected_attribute = \"SEX=2\"\n",
        "label = \"UTILIZATION\"\n",
        "print(getNormalizedCount(pd_data, protected_attribute, label))"
      ],
      "metadata": {
        "colab": {
          "base_uri": "https://localhost:8080/"
        },
        "id": "7PQSxKYiEth7",
        "outputId": "19fffc84-b53a-4b03-bc5a-e9b76a2ef188"
      },
      "execution_count": null,
      "outputs": [
        {
          "output_type": "stream",
          "name": "stdout",
          "text": [
            "AGE   UTILIZATION\n",
            "13.0  0.0            47\n",
            "10.0  0.0            47\n",
            "9.0   0.0            47\n",
            "6.0   0.0            47\n",
            "14.0  0.0            47\n",
            "                     ..\n",
            "22.0  1.0             3\n",
            "9.0   1.0             2\n",
            "11.0  1.0             2\n",
            "8.0   1.0             1\n",
            "3.0   1.0             0\n",
            "Length: 172, dtype: int64\n",
            "RACE  UTILIZATION\n",
            "0.0   0.0            43\n",
            "1.0   0.0            37\n",
            "1.0   1.0            12\n",
            "0.0   1.0             6\n",
            "dtype: int64\n",
            "SEX=1  UTILIZATION\n",
            "1.0    0.0            43\n",
            "0.0    0.0            39\n",
            "0.0    1.0            10\n",
            "1.0    1.0             6\n",
            "dtype: int64\n",
            "SEX=2  UTILIZATION\n",
            "0.0    0.0            43\n",
            "1.0    0.0            39\n",
            "1.0    1.0            10\n",
            "0.0    1.0             6\n",
            "dtype: int64\n"
          ]
        }
      ]
    },
    {
      "cell_type": "markdown",
      "source": [
        "# A7"
      ],
      "metadata": {
        "id": "Wbu6QjjZkbFR"
      }
    },
    {
      "cell_type": "code",
      "source": [
        "print(df.corr())\n",
        "\n",
        "sns.heatmap(df.corr());"
      ],
      "metadata": {
        "id": "N6jvraTKkcIY",
        "colab": {
          "base_uri": "https://localhost:8080/"
        },
        "outputId": "b2513e43-5b09-43b8-c867-098a0cd61268"
      },
      "execution_count": null,
      "outputs": [
        {
          "output_type": "stream",
          "name": "stdout",
          "text": [
            "               REGION       AGE       SEX      RACE     MARRY    ACTDTY  \\\n",
            "REGION       1.000000 -0.044567  0.022588 -0.120140  0.011745 -0.011883   \n",
            "AGE         -0.044567  1.000000  0.073172  0.222487 -0.707474  0.309410   \n",
            "SEX          0.022588  0.073172  1.000000 -0.011451 -0.051751  0.011689   \n",
            "RACE        -0.120140  0.222487 -0.011451  1.000000 -0.184606  0.117538   \n",
            "MARRY        0.011745 -0.707474 -0.051751 -0.184606  1.000000  0.003535   \n",
            "ACTDTY      -0.011883  0.309410  0.011689  0.117538  0.003535  1.000000   \n",
            "HONRDC       0.042901 -0.728660  0.008473 -0.181948  0.598865  0.141421   \n",
            "RTHLTH      -0.025198  0.344514  0.072363  0.010076 -0.216952  0.079507   \n",
            "MNHLTH      -0.018612  0.216507  0.038419  0.034807 -0.116147  0.045404   \n",
            "HIBPDX      -0.036585  0.596337  0.053337  0.136499 -0.575276 -0.328479   \n",
            "CHDDX       -0.041104  0.700425  0.062751  0.150865 -0.636527 -0.260801   \n",
            "ANGIDX      -0.041643  0.719157  0.059540  0.153599 -0.643771 -0.241980   \n",
            "MIDX        -0.042945  0.713989  0.062255  0.155039 -0.642176 -0.246117   \n",
            "OHRTDX      -0.041209  0.682479  0.048262  0.131669 -0.625012 -0.273396   \n",
            "STRKDX      -0.046398  0.713226  0.053281  0.158813 -0.643217 -0.246155   \n",
            "EMPHDX      -0.041584  0.724643  0.058062  0.155484 -0.645506 -0.236336   \n",
            "CHBRON      -0.043767  0.717475  0.051952  0.152420 -0.642440 -0.239846   \n",
            "CHOLDX      -0.035910  0.604022  0.059464  0.128213 -0.572372 -0.321122   \n",
            "CANCERDX    -0.044587  0.680364  0.052896  0.129728 -0.626200 -0.281661   \n",
            "DIABDX      -0.040332  0.681319  0.054389  0.158853 -0.622544 -0.268884   \n",
            "JTPAIN      -0.033075  0.606483  0.042044  0.090624 -0.582821 -0.314537   \n",
            "ARTHDX      -0.028818  0.608987  0.027884  0.103007 -0.588597 -0.325163   \n",
            "ARTHTYPE    -0.068431  0.509821  0.090491  0.199909 -0.302713  0.271381   \n",
            "ASTHDX       0.004582 -0.024981 -0.077466 -0.025029 -0.009727 -0.038529   \n",
            "ADHDADDX     0.046938 -0.607166 -0.043778 -0.152935  0.563041  0.127106   \n",
            "PREGNT      -0.004566 -0.136710  0.484640 -0.048417 -0.008045 -0.380965   \n",
            "WLKLIM       0.050611 -0.389342 -0.065182 -0.142048  0.175061 -0.272752   \n",
            "ACTLIM      -0.001410  0.228865  0.008290 -0.013028 -0.207457 -0.185752   \n",
            "SOCLIM       0.016689 -0.190748 -0.006126 -0.082822  0.075453 -0.116104   \n",
            "COGLIM      -0.041433  0.698627  0.056236  0.151992 -0.637519 -0.254017   \n",
            "DFHEAR42     0.018193  0.049460  0.030804 -0.017953 -0.051922 -0.116123   \n",
            "DFSEE42      0.027013  0.107928  0.012005  0.025389 -0.087900 -0.066008   \n",
            "ADSMOK42     0.007367  0.620826  0.078373  0.139318 -0.529811 -0.119324   \n",
            "K6SUM42     -0.016908  0.318489  0.062455  0.113449 -0.221965 -0.008155   \n",
            "PHQ242      -0.026330  0.432501  0.072415  0.099447 -0.317243 -0.037024   \n",
            "EMPST       -0.031688  0.624754  0.129447  0.108814 -0.439631  0.019023   \n",
            "POVCAT      -0.024203  0.257906 -0.058123  0.233758 -0.310073 -0.010580   \n",
            "INSCOV       0.033180 -0.118993 -0.007263 -0.245673  0.166325 -0.011638   \n",
            "UTILIZATION -0.074247  0.348385  0.089286  0.175526 -0.193694  0.235131   \n",
            "PERWT15F    -0.164024  0.189584 -0.014214  0.521147 -0.177783  0.094325   \n",
            "WEIGHT      -0.042416  0.028626 -0.000907 -0.004915 -0.020095  0.005773   \n",
            "\n",
            "               HONRDC    RTHLTH    MNHLTH    HIBPDX  ...   DFSEE42  ADSMOK42  \\\n",
            "REGION       0.042901 -0.025198 -0.018612 -0.036585  ...  0.027013  0.007367   \n",
            "AGE         -0.728660  0.344514  0.216507  0.596337  ...  0.107928  0.620826   \n",
            "SEX          0.008473  0.072363  0.038419  0.053337  ...  0.012005  0.078373   \n",
            "RACE        -0.181948  0.010076  0.034807  0.136499  ...  0.025389  0.139318   \n",
            "MARRY        0.598865 -0.216952 -0.116147 -0.575276  ... -0.087900 -0.529811   \n",
            "ACTDTY       0.141421  0.079507  0.045404 -0.328479  ... -0.066008 -0.119324   \n",
            "HONRDC       1.000000 -0.248213 -0.160679 -0.823076  ... -0.111015 -0.684945   \n",
            "RTHLTH      -0.248213  1.000000  0.668539  0.169492  ...  0.000613  0.211519   \n",
            "MNHLTH      -0.160679  0.668539  1.000000  0.102575  ...  0.020547  0.105546   \n",
            "HIBPDX      -0.823076  0.169492  0.102575  1.000000  ...  0.124696  0.707869   \n",
            "CHDDX       -0.864745  0.244205  0.153478  0.950968  ...  0.124241  0.750965   \n",
            "ANGIDX      -0.874244  0.257192  0.160868  0.950171  ...  0.123509  0.758627   \n",
            "MIDX        -0.871333  0.252732  0.157988  0.950550  ...  0.124652  0.755425   \n",
            "OHRTDX      -0.857567  0.237208  0.149678  0.946942  ...  0.123597  0.740993   \n",
            "STRKDX      -0.871758  0.248392  0.152143  0.950657  ...  0.125524  0.757965   \n",
            "EMPHDX      -0.877184  0.261269  0.163194  0.948243  ...  0.125674  0.760923   \n",
            "CHBRON      -0.873977  0.268333  0.171617  0.945553  ...  0.122907  0.756122   \n",
            "CHOLDX      -0.823400  0.186962  0.104013  0.946900  ...  0.124116  0.712944   \n",
            "CANCERDX    -0.856306  0.246507  0.154878  0.941144  ...  0.125681  0.742138   \n",
            "DIABDX      -0.860941  0.217641  0.133480  0.951706  ...  0.129455  0.746760   \n",
            "JTPAIN      -0.818078  0.181275  0.116326  0.927367  ...  0.128286  0.705337   \n",
            "ARTHDX      -0.827023  0.184294  0.115181  0.944340  ...  0.128827  0.716904   \n",
            "ARTHTYPE    -0.313697  0.297947  0.177825  0.163034  ...  0.001559  0.259748   \n",
            "ASTHDX       0.000707 -0.144494 -0.119068  0.017904  ... -0.027931 -0.019020   \n",
            "ADHDADDX     0.689484 -0.240276 -0.131103 -0.736883  ...  0.084722 -0.618295   \n",
            "PREGNT      -0.166989 -0.005731 -0.001146  0.262983  ...  0.050772  0.135764   \n",
            "WLKLIM       0.228702 -0.287199 -0.184388 -0.103881  ...  0.017989 -0.194399   \n",
            "ACTLIM      -0.279740  0.004579  0.011280  0.323944  ...  0.366430  0.225357   \n",
            "SOCLIM       0.116895 -0.153117 -0.139054 -0.051383  ...  0.011757 -0.086090   \n",
            "COGLIM      -0.862841  0.241404  0.138345  0.944511  ...  0.131648  0.751823   \n",
            "DFHEAR42    -0.068175  0.008251  0.013940  0.115401  ...  0.892144  0.143800   \n",
            "DFSEE42     -0.111015  0.000613  0.020547  0.124696  ...  1.000000  0.163057   \n",
            "ADSMOK42    -0.684945  0.211519  0.105546  0.707869  ...  0.163057  1.000000   \n",
            "K6SUM42     -0.328370  0.300226  0.303733  0.285907  ...  0.057906  0.425999   \n",
            "PHQ242      -0.442998  0.339665  0.317423  0.400306  ...  0.080060  0.590643   \n",
            "EMPST       -0.648768  0.310512  0.258796  0.545600  ...  0.083763  0.458427   \n",
            "POVCAT      -0.234156 -0.085330 -0.108530  0.236607  ...  0.076372  0.203696   \n",
            "INSCOV       0.080721  0.040089  0.065171 -0.060783  ... -0.063753 -0.088177   \n",
            "UTILIZATION -0.208374  0.307674  0.207211  0.105215  ...  0.000929  0.220796   \n",
            "PERWT15F    -0.153407 -0.024980 -0.010380  0.129844  ...  0.064290  0.181747   \n",
            "WEIGHT      -0.016895  0.015775  0.012672  0.020581  ... -0.030516  0.020881   \n",
            "\n",
            "              K6SUM42    PHQ242     EMPST    POVCAT    INSCOV  UTILIZATION  \\\n",
            "REGION      -0.016908 -0.026330 -0.031688 -0.024203  0.033180    -0.074247   \n",
            "AGE          0.318489  0.432501  0.624754  0.257906 -0.118993     0.348385   \n",
            "SEX          0.062455  0.072415  0.129447 -0.058123 -0.007263     0.089286   \n",
            "RACE         0.113449  0.099447  0.108814  0.233758 -0.245673     0.175526   \n",
            "MARRY       -0.221965 -0.317243 -0.439631 -0.310073  0.166325    -0.193694   \n",
            "ACTDTY      -0.008155 -0.037024  0.019023 -0.010580 -0.011638     0.235131   \n",
            "HONRDC      -0.328370 -0.442998 -0.648768 -0.234156  0.080721    -0.208374   \n",
            "RTHLTH       0.300226  0.339665  0.310512 -0.085330  0.040089     0.307674   \n",
            "MNHLTH       0.303733  0.317423  0.258796 -0.108530  0.065171     0.207211   \n",
            "HIBPDX       0.285907  0.400306  0.545600  0.236607 -0.060783     0.105215   \n",
            "CHDDX        0.342120  0.467087  0.597576  0.245036 -0.075367     0.154726   \n",
            "ANGIDX       0.345426  0.470940  0.612955  0.244694 -0.075898     0.171805   \n",
            "MIDX         0.345642  0.472649  0.608998  0.245801 -0.075318     0.170757   \n",
            "OHRTDX       0.331159  0.453882  0.586340  0.236268 -0.065059     0.138275   \n",
            "STRKDX       0.341745  0.464525  0.605793  0.247406 -0.078974     0.168212   \n",
            "EMPHDX       0.349809  0.479118  0.616766  0.245865 -0.077397     0.179445   \n",
            "CHBRON       0.347847  0.468578  0.611430  0.246514 -0.077458     0.173754   \n",
            "CHOLDX       0.308879  0.425123  0.553536  0.221700 -0.051457     0.103066   \n",
            "CANCERDX     0.338322  0.466244  0.592842  0.227857 -0.065542     0.140174   \n",
            "DIABDX       0.334929  0.453815  0.584405  0.249770 -0.079828     0.145253   \n",
            "JTPAIN       0.288175  0.406114  0.549877  0.217698 -0.056445     0.082117   \n",
            "ARTHDX       0.301171  0.414879  0.546756  0.227101 -0.050070     0.079180   \n",
            "ARTHTYPE     0.208342  0.278098  0.330518  0.103215 -0.103364     0.367903   \n",
            "ASTHDX      -0.109014 -0.118750 -0.052762  0.019308  0.012866    -0.141052   \n",
            "ADHDADDX    -0.284466 -0.391571 -0.436158 -0.176637  0.042289    -0.180055   \n",
            "PREGNT       0.051110  0.056803  0.196202 -0.080752  0.022308    -0.045458   \n",
            "WLKLIM      -0.268260 -0.322162 -0.331828  0.000389  0.002838    -0.408439   \n",
            "ACTLIM       0.020769  0.047220  0.166061  0.159274 -0.068139    -0.096941   \n",
            "SOCLIM      -0.194228 -0.266290 -0.217846  0.032962 -0.014131    -0.261269   \n",
            "COGLIM       0.319877  0.437216  0.587241  0.254648 -0.085120     0.148998   \n",
            "DFHEAR42     0.037167  0.058439  0.049627  0.059062 -0.048827    -0.027617   \n",
            "DFSEE42      0.057906  0.080060  0.083763  0.076372 -0.063753     0.000929   \n",
            "ADSMOK42     0.425999  0.590643  0.458427  0.203696 -0.088177     0.220796   \n",
            "K6SUM42      1.000000  0.767280  0.321573  0.004795 -0.005176     0.256872   \n",
            "PHQ242       0.767280  1.000000  0.401239  0.014884  0.012969     0.288972   \n",
            "EMPST        0.321573  0.401239  1.000000  0.026071  0.064523     0.302705   \n",
            "POVCAT       0.004795  0.014884  0.026071  1.000000 -0.445520     0.076422   \n",
            "INSCOV      -0.005176  0.012969  0.064523 -0.445520  1.000000    -0.081416   \n",
            "UTILIZATION  0.256872  0.288972  0.302705  0.076422 -0.081416     1.000000   \n",
            "PERWT15F     0.086470  0.092310  0.090757  0.334778 -0.241104     0.150768   \n",
            "WEIGHT       0.014939  0.022971  0.045479 -0.004768  0.002877    -0.002517   \n",
            "\n",
            "             PERWT15F    WEIGHT  \n",
            "REGION      -0.164024 -0.042416  \n",
            "AGE          0.189584  0.028626  \n",
            "SEX         -0.014214 -0.000907  \n",
            "RACE         0.521147 -0.004915  \n",
            "MARRY       -0.177783 -0.020095  \n",
            "ACTDTY       0.094325  0.005773  \n",
            "HONRDC      -0.153407 -0.016895  \n",
            "RTHLTH      -0.024980  0.015775  \n",
            "MNHLTH      -0.010380  0.012672  \n",
            "HIBPDX       0.129844  0.020581  \n",
            "CHDDX        0.135031  0.024411  \n",
            "ANGIDX       0.133926  0.027505  \n",
            "MIDX         0.134736  0.027181  \n",
            "OHRTDX       0.116622  0.021257  \n",
            "STRKDX       0.141427  0.025306  \n",
            "EMPHDX       0.136249  0.025700  \n",
            "CHBRON       0.136477  0.028003  \n",
            "CHOLDX       0.112809  0.027345  \n",
            "CANCERDX     0.118197  0.026053  \n",
            "DIABDX       0.140358  0.021615  \n",
            "JTPAIN       0.092988  0.029493  \n",
            "ARTHDX       0.101752  0.025852  \n",
            "ARTHTYPE     0.138866  0.008355  \n",
            "ASTHDX      -0.036863 -0.012002  \n",
            "ADHDADDX    -0.117230 -0.019532  \n",
            "PREGNT      -0.045351 -0.010702  \n",
            "WLKLIM      -0.078447 -0.012938  \n",
            "ACTLIM       0.028282  0.000147  \n",
            "SOCLIM      -0.028994 -0.008808  \n",
            "COGLIM       0.139202  0.031509  \n",
            "DFHEAR42     0.043063 -0.033431  \n",
            "DFSEE42      0.064290 -0.030516  \n",
            "ADSMOK42     0.181747  0.020881  \n",
            "K6SUM42      0.086470  0.014939  \n",
            "PHQ242       0.092310  0.022971  \n",
            "EMPST        0.090757  0.045479  \n",
            "POVCAT       0.334778 -0.004768  \n",
            "INSCOV      -0.241104  0.002877  \n",
            "UTILIZATION  0.150768 -0.002517  \n",
            "PERWT15F     1.000000  0.020255  \n",
            "WEIGHT       0.020255  1.000000  \n",
            "\n",
            "[41 rows x 41 columns]\n"
          ]
        },
        {
          "output_type": "display_data",
          "data": {
            "text/plain": [
              "<Figure size 432x288 with 2 Axes>"
            ],
            "image/png": "[encoded data removed]"
          },
          "metadata": {}
        }
      ]
    },
    {
      "cell_type": "markdown",
      "source": [
        "Correlation with some key attributes:"
      ],
      "metadata": {
        "id": "UbdD7FFWndUk"
      }
    },
    {
      "cell_type": "code",
      "source": [
        "# Protected attribute:\n",
        "protected_attributes_to_test = ['SEX=1', 'AGE', 'RACE']\n",
        "\n",
        "correlation_dict = {}\n",
        "for protected_attribute in protected_attributes_to_test:\n",
        "    correlation_dict[protected_attribute] = []\n",
        "    for feature in list(pd_data.columns):\n",
        "        #print(\"Correlation between \", protected_attribute, \" and \", feature, \": \", \\\n",
        "        #     pd_train_data[protected_attribute].corr(pd_train_data[feature]))\n",
        "        correlation_dict[protected_attribute].append((feature, pd_data[protected_attribute].corr(pd_data[feature])))\n",
        "        \n",
        "for protected_attribute in protected_attributes_to_test:\n",
        "    print(\"Correlation with \", protected_attribute, \":\")\n",
        "    print(sorted(correlation_dict[protected_attribute], key=lambda x: abs(x[1])))"
      ],
      "metadata": {
        "colab": {
          "base_uri": "https://localhost:8080/"
        },
        "id": "5piZ6uw3nfPJ",
        "outputId": "0bd02e48-3066-46d4-da4e-2d9ff09981ca"
      },
      "execution_count": null,
      "outputs": [
        {
          "output_type": "stream",
          "name": "stdout",
          "text": [
            "Correlation with  SEX=1 :\n",
            "[('ACTLIM=-1', -0.0006069847699958325), ('POVCAT=3', -0.0007547185764938877), ('MARRY=10', 0.0012991301230315638), ('REGION=1', -0.002060943812819198), ('EMPST=3', -0.0023246444046163594), ('CHDDX=1', -0.002807136285812437), ('MARRY=7', 0.0028367750880002587), ('PHQ242=0', 0.0035060794504265867), ('REGION=2', 0.0038189030935651173), ('EMPST=2', -0.0040056989999773755), ('MNHLTH=2', -0.0040542368939938045), ('ACTDTY=2', 0.004253226782119774), ('HIBPDX=1', -0.0061165604273762395), ('POVCAT=2', -0.006357217528307371), ('JTPAIN=2', 0.006452165197777171), ('FTSTU=2', 0.006526304170814044), ('REGION=3', 0.006556514990586878), ('PHQ242=5', -0.007773397578611309), ('RTHLTH=-1', -0.008659055747700232), ('MNHLTH=-1', -0.008659055747700232), ('WLKLIM=-1', -0.008659055747700232), ('SOCLIM=-1', -0.008659055747700232), ('REGION=4', -0.008743986414552636), ('DFHEAR42=1', 0.008797210569449493), ('DFHEAR42=-1', 0.008916407164397648), ('DFSEE42=-1', 0.008916407164397648), ('FTSTU=1', -0.008916867858736336), ('CHOLDX=1', -0.009606180777561207), ('MARRY=9', 0.010313667805962923), ('EMPHDX=1', -0.010391348574542296), ('FTSTU=-1', -0.010958568616808887), ('DFHEAR42=2', -0.01267737984542397), ('DFSEE42=2', 0.013122383225141252), ('RACE', 0.013290167465298675), ('PHQ242=6', -0.014131667198928943), ('RTHLTH=2', 0.015030600909310462), ('OHRTDX=2', -0.016249306167739862), ('PHQ242=1', -0.016308702530951822), ('MNHLTH=4', -0.01711481602246547), ('MARRY=8', -0.018693244825349432), ('ANGIDX=1', 0.019408117939164835), ('CANCERDX=2', -0.020004820994294095), ('COGLIM=2', -0.020058895370676476), ('MNHLTH=5', -0.021202065307866017), ('ADHDADDX=2', 0.02194623216138206), ('FTSTU=3', 0.02309202417877146), ('POVCAT=4', 0.023488591176510972), ('DIABDX=2', -0.024006967010468814), ('MIDX=1', 0.02407333815878586), ('RTHLTH=3', -0.02500495277666925), ('ACTDTY=1', 0.02517517096775462), ('HONRDC=4', 0.02517517096775462), ('DFSEE42=1', -0.026081328197736797), ('PCS42', -0.027181394835549738), ('PHQ242=4', -0.02799382266380882), ('MCS42', -0.02828899339669722), ('STRKDX=2', -0.029833001704854773), ('ADSMOK42=1', 0.03004889233072864), ('CHBRON=2', -0.030612177312685587), ('MARRY=5', 0.03072764902402855), ('MNHLTH=3', -0.03098881542192405), ('INSCOV=1', 0.03141370584531295), ('CHOLDX=2', -0.03203763916822891), ('DIABDX=1', -0.03209530738467388), ('HIBPDX=2', -0.03467312466945686), ('MARRY=1', 0.0346967788836864), ('STRKDX=1', -0.036383084288972585), ('RTHLTH=5', -0.03733442650693155), ('POVCAT=5', 0.03810503822059678), ('PHQ242=3', -0.039226763359931596), ('HONRDC=3', 0.039643472683496446), ('RTHLTH=4', -0.04073660254655916), ('EMPHDX=2', -0.04099484770704708), ('MARRY=6', 0.04105624954399054), ('ACTDTY=3', 0.04105624954399054), ('EMPST=-1', 0.04105624954399054), ('CHDDX=2', -0.04156593208343925), ('ASTHDX=2', 0.042783180978038786), ('ASTHDX=1', -0.04278318097803881), ('CHBRON=-1', 0.042971764283287826), ('JTPAIN=-1', 0.042971764283287826), ('COGLIM=-1', 0.042971764283287826), ('HIBPDX=-1', 0.044033670009607014), ('CHDDX=-1', 0.044033670009607014), ('ANGIDX=-1', 0.044033670009607014), ('MIDX=-1', 0.044033670009607014), ('OHRTDX=-1', 0.044033670009607014), ('STRKDX=-1', 0.044033670009607014), ('EMPHDX=-1', 0.044033670009607014), ('CHOLDX=-1', 0.044033670009607014), ('CANCERDX=-1', 0.044033670009607014), ('DIABDX=-1', 0.044033670009607014), ('ARTHDX=-1', 0.044033670009607014), ('MNHLTH=1', 0.044190568020056116), ('CANCERDX=1', -0.04437324216971237), ('ADHDADDX=-1', -0.045017551013142816), ('ARTHTYPE=3', -0.045123527027993104), ('ARTHDX=2', 0.04578466908971088), ('RTHLTH=1', 0.045815806127429505), ('MARRY=4', -0.04624407863737457), ('SOCLIM=1', -0.047659344586444274), ('CHBRON=1', -0.04774991816650763), ('OHRTDX=1', -0.0480038520048649), ('SOCLIM=2', 0.048507582272074856), ('ANGIDX=2', -0.04860435266126495), ('COGLIM=1', -0.04944019542349804), ('PHQ242=2', -0.05077605135954271), ('MIDX=2', -0.050825544397276254), ('ACTLIM=2', 0.051003475198184406), ('ADSMOK42=-1', 0.051120143251783844), ('PHQ242=-1', 0.051120143251783844), ('JTPAIN=1', -0.05400251709679319), ('ACTDTY=4', -0.05648959938756268), ('ARTHTYPE=1', -0.059852207943365834), ('POVCAT=1', -0.06119921547291172), ('MARRY=3', -0.0615265193323193), ('ADHDADDX=1', 0.06501839326304065), ('AGE', -0.06542247351271219), ('ACTLIM=1', -0.06688041195500462), ('INSCOV=3', 0.06727232082222986), ('ADSMOK42=2', -0.06777164998566877), ('INSCOV=2', -0.07746041097990794), ('K6SUM42', -0.07945642568643063), ('ARTHTYPE=2', -0.08152720620589995), ('EMPST=1', 0.08601163085412275), ('WLKLIM=1', -0.09496021858736257), ('WLKLIM=2', 0.09543559241356459), ('PREGNT=1', -0.10353173240808271), ('ARTHDX=1', -0.1106453442519292), ('ARTHTYPE=-1', 0.1106453442519292), ('HONRDC=2', -0.1145609991405828), ('UTILIZATION', -0.11682626863105978), ('MARRY=2', -0.12475244270467019), ('EMPST=4', -0.1357052563363972), ('HONRDC=1', 0.17385326648519855), ('PREGNT=2', -0.4674529215301281), ('PREGNT=-1', 0.48472878734066666), ('SEX=1', 0.9999999999999999), ('SEX=2', -0.9999999999999999)]\n",
            "Correlation with  AGE :\n",
            "[('REGION=2', -0.0004765056468017686), ('EMPST=3', -0.0007577008383603999), ('RTHLTH=2', -0.0021169986160251273), ('INSCOV=3', 0.003857625815911606), ('ASTHDX=1', 0.004663132548619979), ('ASTHDX=2', -0.004663132548619979), ('MARRY=10', 0.005056314025162089), ('DFSEE42=2', 0.005111000347706696), ('REGION=3', -0.0057268512926944405), ('ACTDTY=1', -0.007145072766748059), ('HONRDC=4', -0.007145072766748059), ('MARRY=7', 0.009882559271590027), ('EMPST=2', 0.014088090836522875), ('MARRY=9', 0.015147879334738058), ('MARRY=8', 0.01576092685956743), ('POVCAT=3', -0.02401189363221981), ('REGION=4', -0.027553477792894902), ('POVCAT=4', 0.027565588961176016), ('POVCAT=2', -0.029741046912788907), ('PREGNT=1', -0.031723260141659104), ('MNHLTH=2', 0.033518912954379726), ('REGION=1', 0.044457502003279296), ('DFHEAR42=2', -0.045487871865283955), ('RTHLTH=-1', 0.04844572062697546), ('MNHLTH=-1', 0.04844572062697546), ('WLKLIM=-1', 0.04844572062697546), ('SOCLIM=-1', 0.04844572062697546), ('ACTLIM=2', 0.0556272452275226), ('FTSTU=2', -0.059310996135140744), ('MNHLTH=5', 0.06264483928987015), ('PHQ242=6', 0.06367839010741734), ('SEX=1', -0.06542247351271219), ('SEX=2', 0.06542247351271219), ('PHQ242=5', 0.07255582305777039), ('PHQ242=3', 0.07868439514255961), ('MARRY=4', 0.08645249314892384), ('PHQ242=4', 0.08672453244716138), ('ACTDTY=2', 0.10060924982519649), ('PREGNT=2', -0.10844858537664928), ('CHBRON=1', 0.11059047740911859), ('PREGNT=-1', 0.11449782352815721), ('PHQ242=1', 0.12676475988306535), ('FTSTU=3', -0.1297030055069571), ('MNHLTH=4', 0.12999386830359821), ('MARRY=5', -0.13116088470965176), ('ADSMOK42=1', 0.1365078713438634), ('MNHLTH=3', 0.13674553621537147), ('INSCOV=1', 0.13821535686693517), ('RTHLTH=5', 0.14094089105230706), ('INSCOV=2', -0.14694674736362917), ('RTHLTH=3', 0.14765009151748776), ('EMPHDX=1', 0.14894070536703383), ('ANGIDX=1', 0.15695350329857796), ('PHQ242=2', 0.15982431119592158), ('FTSTU=1', -0.16212061514505496), ('ADHDADDX=1', -0.16228295622719602), ('DFSEE42=1', 0.17128457539109107), ('ARTHTYPE=1', 0.17172796150884084), ('POVCAT=5', 0.1758751400850892), ('POVCAT=1', -0.17627499042306566), ('RACE', 0.1779738085549725), ('DFHEAR42=-1', -0.19033383420725108), ('DFSEE42=-1', -0.19033383420725108), ('HIBPDX=2', 0.19184503578191983), ('SOCLIM=1', 0.20349516171137946), ('RTHLTH=4', 0.2038854126817343), ('SOCLIM=2', -0.20919888644409743), ('MIDX=1', 0.20967004805335446), ('STRKDX=1', 0.22006928329507658), ('COGLIM=1', 0.2219462030361948), ('FTSTU=-1', 0.2219981729571311), ('DFHEAR42=1', 0.2283979794842784), ('MNHLTH=1', -0.22883259606037876), ('CHOLDX=2', 0.2357803416834591), ('HONRDC=1', 0.2408543880223811), ('EMPST=1', 0.24138418768507827), ('JTPAIN=2', 0.24593948128004448), ('MARRY=3', 0.25174200229639304), ('ARTHDX=2', 0.2547132265599223), ('CHDDX=1', 0.26345808825468486), ('ACTLIM=1', 0.29283707140867804), ('OHRTDX=1', 0.29407262431744857), ('K6SUM42', 0.30518591140017703), ('RTHLTH=1', -0.30778215282471144), ('CANCERDX=1', 0.3109562658803143), ('DIABDX=1', 0.31187880211316477), ('ARTHTYPE=2', 0.3122155256613022), ('UTILIZATION', 0.33372188721026846), ('ARTHTYPE=3', 0.34665227462539927), ('MARRY=2', 0.3591025418835192), ('WLKLIM=1', 0.3764470834094039), ('WLKLIM=2', -0.3801253572137657), ('ACTLIM=-1', -0.3857314270382166), ('PHQ242=0', 0.406978092105842), ('EMPST=4', 0.4213042151273961), ('MARRY=1', 0.45367322674722493), ('JTPAIN=1', 0.4919314885777061), ('PCS42', 0.49791625510709014), ('DIABDX=2', 0.5208265358665504), ('ADSMOK42=2', 0.5255888388253845), ('CHOLDX=1', 0.5284207642270571), ('ARTHDX=1', 0.5286211525426339), ('ARTHTYPE=-1', -0.5286211525426339), ('OHRTDX=2', 0.5373768032322597), ('CANCERDX=2', 0.5440779377744777), ('ADHDADDX=2', -0.545230604713648), ('HIBPDX=1', 0.5610078483597856), ('MCS42', 0.5825828763841081), ('HONRDC=2', 0.5841871563820339), ('ADHDADDX=-1', 0.5842330715822209), ('COGLIM=2', 0.6049457385369919), ('CHDDX=2', 0.6079654295892387), ('ADSMOK42=-1', -0.6200625301891779), ('PHQ242=-1', -0.6200625301891779), ('STRKDX=2', 0.6348729862400672), ('MIDX=2', 0.6498188631270332), ('ANGIDX=2', 0.679438222012006), ('EMPHDX=2', 0.6884361546926355), ('CHBRON=2', 0.6913194734415191), ('ACTDTY=4', 0.6991919697799248), ('MARRY=6', -0.7035829122822675), ('ACTDTY=3', -0.7035829122822675), ('EMPST=-1', -0.7035829122822675), ('HONRDC=3', -0.7177704650444423), ('CHBRON=-1', -0.7280292738089365), ('JTPAIN=-1', -0.7280292738089365), ('COGLIM=-1', -0.7280292738089365), ('HIBPDX=-1', -0.7332431862576114), ('CHDDX=-1', -0.7332431862576114), ('ANGIDX=-1', -0.7332431862576114), ('MIDX=-1', -0.7332431862576114), ('OHRTDX=-1', -0.7332431862576114), ('STRKDX=-1', -0.7332431862576114), ('EMPHDX=-1', -0.7332431862576114), ('CHOLDX=-1', -0.7332431862576114), ('CANCERDX=-1', -0.7332431862576114), ('DIABDX=-1', -0.7332431862576114), ('ARTHDX=-1', -0.7332431862576114), ('AGE', 0.9999999999999999)]\n",
            "Correlation with  RACE :\n",
            "[('RTHLTH=-1', 0.00023736499648634973), ('MNHLTH=-1', 0.00023736499648634973), ('WLKLIM=-1', 0.00023736499648634973), ('SOCLIM=-1', 0.00023736499648634973), ('ASTHDX=1', -0.0008226157207710327), ('ASTHDX=2', 0.0008226157207710327), ('MARRY=9', -0.0015629774431100364), ('DFSEE42=2', 0.0026952332757849123), ('PREGNT=1', 0.002929967061098201), ('MNHLTH=4', -0.0030595846087967953), ('ARTHDX=2', -0.005254447874778951), ('EMPST=2', -0.008408086248089593), ('PHQ242=6', 0.009702147523496525), ('PHQ242=3', -0.00992988205578363), ('REGION=1', 0.01014581827392394), ('DIABDX=1', 0.010223900066337301), ('MARRY=7', -0.010285667840335282), ('ADHDADDX=1', 0.011321715454568594), ('MARRY=8', 0.012412692563012768), ('ARTHTYPE=1', 0.013274436667837591), ('SEX=1', 0.013290167465298675), ('SEX=2', -0.013290167465298675), ('PHQ242=5', 0.015161206794494264), ('MARRY=10', -0.015605779768756253), ('DFSEE42=1', 0.016468647175420684), ('ACTDTY=2', -0.01737948180578212), ('ACTDTY=1', 0.017516093763376227), ('HONRDC=4', 0.017516093763376227), ('CHOLDX=2', 0.019968464312191316), ('DFHEAR42=-1', -0.021481404838630175), ('DFSEE42=-1', -0.021481404838630175), ('JTPAIN=2', -0.021496100344365617), ('RTHLTH=5', 0.02209401863549144), ('FTSTU=2', -0.02256471108392708), ('MNHLTH=3', -0.02324773834459232), ('RTHLTH=1', -0.023873880046249858), ('MNHLTH=5', 0.024544992098087658), ('PHQ242=4', 0.025560602570300555), ('EMPST=3', -0.026134809668802994), ('RTHLTH=3', -0.02700332472768728), ('POVCAT=4', 0.027730594608342863), ('ACTLIM=2', -0.028638262129491505), ('RTHLTH=4', -0.029488088662807974), ('STRKDX=1', 0.029874843915399987), ('CHDDX=1', 0.03195269415833438), ('EMPST=4', 0.035355518147565296), ('PHQ242=1', 0.0357162948225787), ('FTSTU=3', -0.03954442671218139), ('MIDX=1', 0.03974228498960064), ('PHQ242=2', 0.039887778501681924), ('ANGIDX=1', 0.040868061616171576), ('FTSTU=1', -0.04092956891694252), ('PREGNT=-1', 0.04238612361492373), ('CANCERDX=2', 0.0438761634506628), ('PREGNT=2', -0.04412102578851907), ('DFHEAR42=2', -0.04586621735788054), ('COGLIM=1', 0.04647502737813259), ('ACTLIM=-1', -0.04851989030789294), ('OHRTDX=2', 0.05139444048868191), ('MNHLTH=1', -0.05139659353512267), ('ADSMOK42=2', 0.051822105794768904), ('CHBRON=1', 0.05307437673252646), ('HIBPDX=2', 0.053279286047995984), ('MARRY=4', -0.05486025637139679), ('MARRY=2', 0.06000132645827503), ('RTHLTH=2', 0.061131482298906546), ('SOCLIM=2', -0.061719278549984644), ('PHQ242=0', 0.06174287226675283), ('SOCLIM=1', 0.06262626992108589), ('FTSTU=-1', 0.06290230491392239), ('MARRY=3', 0.06421789193987265), ('HONRDC=2', 0.06455661818201266), ('EMPHDX=1', 0.06462725175624699), ('ARTHTYPE=3', 0.0680595959342824), ('HIBPDX=1', 0.06821068267264217), ('EMPST=1', 0.07274156923421678), ('MNHLTH=2', 0.07497845234302535), ('POVCAT=2', -0.07609821112126533), ('DFHEAR42=1', 0.07940606053504565), ('REGION=3', -0.08303650820001106), ('ACTLIM=1', 0.08396629197656696), ('WLKLIM=2', -0.08689952635735688), ('WLKLIM=1', 0.08744465672237929), ('MARRY=5', -0.08872738476588454), ('ADSMOK42=1', 0.091108932196754), ('PCS42', 0.09583444711740813), ('MCS42', 0.09713003680732295), ('COGLIM=2', 0.09727542920201697), ('K6SUM42', 0.09799834074255058), ('HONRDC=1', 0.09803747866033238), ('POVCAT=3', -0.10274094832035276), ('EMPHDX=2', 0.10524254812557732), ('CHDDX=2', 0.10604739865598156), ('MIDX=2', 0.10683470108573377), ('CHBRON=2', 0.10720282927520597), ('ADHDADDX=-1', 0.10757756951039853), ('ADSMOK42=-1', -0.10812250786699804), ('PHQ242=-1', -0.10812250786699804), ('STRKDX=2', 0.10832291907460952), ('MARRY=6', -0.10844796997976966), ('ACTDTY=3', -0.10844796997976966), ('EMPST=-1', -0.10844796997976966), ('ANGIDX=2', 0.10933589808181975), ('DIABDX=2', 0.1095903427655392), ('CHOLDX=1', 0.11207856185093691), ('HONRDC=3', -0.1127437512347115), ('ADHDADDX=2', -0.11614015311363014), ('REGION=4', -0.11995555987202605), ('OHRTDX=1', 0.1214373232169787), ('CHBRON=-1', -0.1218941546866572), ('JTPAIN=-1', -0.1218941546866572), ('COGLIM=-1', -0.1218941546866572), ('HIBPDX=-1', -0.12228460312531209), ('CHDDX=-1', -0.12228460312531209), ('ANGIDX=-1', -0.12228460312531209), ('MIDX=-1', -0.12228460312531209), ('OHRTDX=-1', -0.12228460312531209), ('STRKDX=-1', -0.12228460312531209), ('EMPHDX=-1', -0.12228460312531209), ('CHOLDX=-1', -0.12228460312531209), ('CANCERDX=-1', -0.12228460312531209), ('DIABDX=-1', -0.12228460312531209), ('ARTHDX=-1', -0.12228460312531209), ('INSCOV=3', -0.1362610486958268), ('MARRY=1', 0.14143931899453818), ('CANCERDX=1', 0.14691821229276203), ('ARTHTYPE=2', 0.14791714347858045), ('ARTHDX=1', 0.14981793696154533), ('ARTHTYPE=-1', -0.14981793696154533), ('ACTDTY=4', 0.1501975925044862), ('POVCAT=1', -0.15458948825511337), ('JTPAIN=1', 0.15698682694744517), ('UTILIZATION', 0.16719551543495037), ('AGE', 0.17797380855497247), ('INSCOV=2', -0.19020979415950665), ('REGION=2', 0.23675118563910877), ('POVCAT=5', 0.24873954872051032), ('INSCOV=1', 0.26864208200283257), ('RACE', 0.9999999999999999)]\n"
          ]
        }
      ]
    },
    {
      "cell_type": "markdown",
      "source": [
        "# A8 "
      ],
      "metadata": {
        "id": "PNNPsXa9oDCe"
      }
    },
    {
      "cell_type": "code",
      "source": [
        "print(\"Number of missing values for each attribute: \", df.isnull().sum())"
      ],
      "metadata": {
        "colab": {
          "base_uri": "https://localhost:8080/"
        },
        "id": "QEWIQvEioE0_",
        "outputId": "b6cf0754-268d-4a05-ad8c-c6ba63614378"
      },
      "execution_count": null,
      "outputs": [
        {
          "output_type": "stream",
          "name": "stdout",
          "text": [
            "Number of missing values for each attribute:  REGION           0\n",
            "AGE              0\n",
            "SEX              0\n",
            "RACE             0\n",
            "MARRY            0\n",
            "ACTDTY           0\n",
            "HONRDC           0\n",
            "RTHLTH           0\n",
            "MNHLTH           0\n",
            "HIBPDX           0\n",
            "CHDDX            0\n",
            "ANGIDX           0\n",
            "MIDX             0\n",
            "OHRTDX           0\n",
            "STRKDX           0\n",
            "EMPHDX           0\n",
            "CHBRON           0\n",
            "CHOLDX           0\n",
            "CANCERDX         0\n",
            "DIABDX           0\n",
            "JTPAIN           0\n",
            "ARTHDX           0\n",
            "ARTHTYPE         0\n",
            "ASTHDX           0\n",
            "ADHDADDX         0\n",
            "PREGNT           0\n",
            "WLKLIM           0\n",
            "ACTLIM           0\n",
            "SOCLIM           0\n",
            "COGLIM           0\n",
            "DFHEAR42         0\n",
            "DFSEE42          0\n",
            "ADSMOK42         0\n",
            "K6SUM42          0\n",
            "PHQ242           0\n",
            "EMPST            0\n",
            "POVCAT           0\n",
            "INSCOV           0\n",
            "UTILIZATION      0\n",
            "PERWT15F         0\n",
            "WEIGHT         790\n",
            "dtype: int64\n"
          ]
        }
      ]
    },
    {
      "cell_type": "markdown",
      "source": [
        "## A8.2"
      ],
      "metadata": {
        "id": "c42P5WFzqZfW"
      }
    },
    {
      "cell_type": "code",
      "source": [
        "df = df.dropna()"
      ],
      "metadata": {
        "id": "-wU-b7njqcHH"
      },
      "execution_count": null,
      "outputs": []
    },
    {
      "cell_type": "code",
      "source": [
        "print(\"Number of missing values for each attribute: \", df.isnull().sum())"
      ],
      "metadata": {
        "colab": {
          "base_uri": "https://localhost:8080/"
        },
        "id": "PA3Jdcatq5CB",
        "outputId": "8ad79a6d-22b7-4c1b-8617-72629958d90b"
      },
      "execution_count": null,
      "outputs": [
        {
          "output_type": "stream",
          "name": "stdout",
          "text": [
            "Number of missing values for each attribute:  REGION         0\n",
            "AGE            0\n",
            "SEX            0\n",
            "RACE           0\n",
            "MARRY          0\n",
            "ACTDTY         0\n",
            "HONRDC         0\n",
            "RTHLTH         0\n",
            "MNHLTH         0\n",
            "HIBPDX         0\n",
            "CHDDX          0\n",
            "ANGIDX         0\n",
            "MIDX           0\n",
            "OHRTDX         0\n",
            "STRKDX         0\n",
            "EMPHDX         0\n",
            "CHBRON         0\n",
            "CHOLDX         0\n",
            "CANCERDX       0\n",
            "DIABDX         0\n",
            "JTPAIN         0\n",
            "ARTHDX         0\n",
            "ARTHTYPE       0\n",
            "ASTHDX         0\n",
            "ADHDADDX       0\n",
            "PREGNT         0\n",
            "WLKLIM         0\n",
            "ACTLIM         0\n",
            "SOCLIM         0\n",
            "COGLIM         0\n",
            "DFHEAR42       0\n",
            "DFSEE42        0\n",
            "ADSMOK42       0\n",
            "K6SUM42        0\n",
            "PHQ242         0\n",
            "EMPST          0\n",
            "POVCAT         0\n",
            "INSCOV         0\n",
            "UTILIZATION    0\n",
            "PERWT15F       0\n",
            "WEIGHT         0\n",
            "dtype: int64\n"
          ]
        }
      ]
    },
    {
      "cell_type": "markdown",
      "source": [
        "# A9"
      ],
      "metadata": {
        "id": "aywuRnzvqjK_"
      }
    },
    {
      "cell_type": "code",
      "source": [
        "print(df.duplicated().sum())"
      ],
      "metadata": {
        "colab": {
          "base_uri": "https://localhost:8080/"
        },
        "id": "UWLtIkT3qlhr",
        "outputId": "f4e0e5a9-bb33-4b03-bd1d-80ef86ee9a1d"
      },
      "execution_count": null,
      "outputs": [
        {
          "output_type": "stream",
          "name": "stdout",
          "text": [
            "668\n"
          ]
        }
      ]
    },
    {
      "cell_type": "markdown",
      "source": [
        "## A9.2."
      ],
      "metadata": {
        "id": "S6hqxM96qqpT"
      }
    },
    {
      "cell_type": "code",
      "source": [
        "pd_data = pd_data.drop_duplicates()"
      ],
      "metadata": {
        "id": "KPzR5q2Fqtug"
      },
      "execution_count": null,
      "outputs": []
    },
    {
      "cell_type": "code",
      "source": [
        "print(pd_data.duplicated().sum())"
      ],
      "metadata": {
        "id": "T1z-tsQqqyey",
        "colab": {
          "base_uri": "https://localhost:8080/"
        },
        "outputId": "2fc2fd0e-bc39-4a1b-deaa-af3348d50852"
      },
      "execution_count": null,
      "outputs": [
        {
          "output_type": "stream",
          "name": "stdout",
          "text": [
            "0\n"
          ]
        }
      ]
    },
    {
      "cell_type": "markdown",
      "source": [
        "# A10"
      ],
      "metadata": {
        "id": "nw_SOQVhrBFg"
      }
    },
    {
      "cell_type": "code",
      "source": [
        "# PERWT15F = person level weight (region, status, race, sex, age, poverty status)\n",
        "sns.boxplot(df['POVCAT'])"
      ],
      "metadata": {
        "colab": {
          "base_uri": "https://localhost:8080/",
          "height": 340
        },
        "id": "rowFAeofrC3o",
        "outputId": "def68dd6-848a-4591-a1d2-940326d865ae"
      },
      "execution_count": null,
      "outputs": [
        {
          "output_type": "stream",
          "name": "stderr",
          "text": [
            "Pass the following variable as a keyword arg: x. From version 0.12, the only valid positional argument will be `data`, and passing other arguments without an explicit keyword will result in an error or misinterpretation.\n"
          ]
        },
        {
          "output_type": "execute_result",
          "data": {
            "text/plain": [
              "<matplotlib.axes._subplots.AxesSubplot at 0x7f2156968b10>"
            ]
          },
          "metadata": {},
          "execution_count": 8
        },
        {
          "output_type": "display_data",
          "data": {
            "text/plain": [
              "<Figure size 432x288 with 1 Axes>"
            ],
            "image/png": "[encoded data removed]"
          },
          "metadata": {}
        }
      ]
    },
    {
      "cell_type": "markdown",
      "source": [
        "# B1"
      ],
      "metadata": {
        "id": "vM-JDpMKshNc"
      }
    },
    {
      "cell_type": "markdown",
      "source": [
        "We train a logistic regression model and save its predictions on test data for analysis."
      ],
      "metadata": {
        "id": "5JLFw0kQsoaL"
      }
    },
    {
      "cell_type": "code",
      "source": [
        "dataset = dataset_orig_panel19_train\n",
        "model = make_pipeline(StandardScaler(),\n",
        "                      LogisticRegression(solver='liblinear', random_state=1))\n",
        "fit_params = {'logisticregression__sample_weight': dataset.instance_weights}\n",
        "\n",
        "lr_orig_panel19 = model.fit(dataset.features, dataset.labels.ravel(), **fit_params)"
      ],
      "metadata": {
        "id": "EHez3Kbxu0of",
        "colab": {
          "base_uri": "https://localhost:8080/",
          "height": 236
        },
        "outputId": "d13c20e4-1298-4e7f-cc74-08973551cc73"
      },
      "execution_count": null,
      "outputs": [
        {
          "output_type": "error",
          "ename": "NameError",
          "evalue": "ignored",
          "traceback": [
            "\u001b[0;31m---------------------------------------------------------------------------\u001b[0m",
            "\u001b[0;31mNameError\u001b[0m                                 Traceback (most recent call last)",
            "\u001b[0;32m<ipython-input-9-14eeb32729b8>\u001b[0m in \u001b[0;36m<module>\u001b[0;34m()\u001b[0m\n\u001b[0;32m----> 1\u001b[0;31m \u001b[0mdataset\u001b[0m \u001b[0;34m=\u001b[0m \u001b[0mdataset_orig_panel19_train\u001b[0m\u001b[0;34m\u001b[0m\u001b[0;34m\u001b[0m\u001b[0m\n\u001b[0m\u001b[1;32m      2\u001b[0m model = make_pipeline(StandardScaler(),\n\u001b[1;32m      3\u001b[0m                       LogisticRegression(solver='liblinear', random_state=1))\n\u001b[1;32m      4\u001b[0m \u001b[0mfit_params\u001b[0m \u001b[0;34m=\u001b[0m \u001b[0;34m{\u001b[0m\u001b[0;34m'logisticregression__sample_weight'\u001b[0m\u001b[0;34m:\u001b[0m \u001b[0mdataset\u001b[0m\u001b[0;34m.\u001b[0m\u001b[0minstance_weights\u001b[0m\u001b[0;34m}\u001b[0m\u001b[0;34m\u001b[0m\u001b[0;34m\u001b[0m\u001b[0m\n\u001b[1;32m      5\u001b[0m \u001b[0;34m\u001b[0m\u001b[0m\n",
            "\u001b[0;31mNameError\u001b[0m: name 'dataset_orig_panel19_train' is not defined"
          ]
        }
      ]
    },
    {
      "cell_type": "markdown",
      "metadata": {
        "id": "f3ZwWsLFdhuE"
      },
      "source": [
        "Metrics for original data"
      ]
    },
    {
      "cell_type": "code",
      "execution_count": null,
      "metadata": {
        "colab": {
          "base_uri": "https://localhost:8080/"
        },
        "id": "2uHfp6XXdhuF",
        "outputId": "ad375a9f-cab0-40ec-ac45-6aff5d07a8c4"
      },
      "outputs": [
        {
          "output_type": "stream",
          "name": "stdout",
          "text": [
            "Disparate impact (probability of favorable outcome for unprivileged instances / probability of favorable outcome for privileged instances): 0.482305229962759\n"
          ]
        }
      ],
      "source": [
        "metric_orig_panel19_train = BinaryLabelDatasetMetric(\n",
        "        dataset_orig_panel19_train,\n",
        "        unprivileged_groups=unprivileged_groups,\n",
        "        privileged_groups=privileged_groups)\n",
        "explainer_orig_panel19_train = MetricTextExplainer(metric_orig_panel19_train)\n",
        "\n",
        "print(explainer_orig_panel19_train.disparate_impact())"
      ]
    },
    {
      "cell_type": "markdown",
      "metadata": {
        "id": "brCvcA4udhuH"
      },
      "source": [
        "# B2 \n"
      ]
    },
    {
      "cell_type": "code",
      "execution_count": null,
      "metadata": {
        "id": "HOcWq0ahdhuI"
      },
      "outputs": [],
      "source": [
        "from collections import defaultdict\n",
        "\n",
        "def test(dataset, model, thresh_arr):\n",
        "    try:\n",
        "        # sklearn classifier\n",
        "        y_val_pred_prob = model.predict_proba(dataset.features)\n",
        "        pos_ind = np.where(model.classes_ == dataset.favorable_label)[0][0]\n",
        "    except AttributeError:\n",
        "        # aif360 inprocessing algorithm\n",
        "        y_val_pred_prob = model.predict(dataset).scores\n",
        "        pos_ind = 0\n",
        "    \n",
        "    metric_arrs = defaultdict(list)\n",
        "    for thresh in thresh_arr:\n",
        "        y_val_pred = (y_val_pred_prob[:, pos_ind] > thresh).astype(np.float64)\n",
        "\n",
        "        dataset_pred = dataset.copy()\n",
        "        dataset_pred.labels = y_val_pred\n",
        "        metric = ClassificationMetric(\n",
        "                dataset, dataset_pred,\n",
        "                unprivileged_groups=unprivileged_groups,\n",
        "                privileged_groups=privileged_groups)\n",
        "        metric_arrs['bal_acc'].append((metric.true_positive_rate()+ metric.true_negative_rate()) / 2)\n",
        "        metric_arrs['theil_index'].append(metric.theil_index())\n",
        "        metric_arrs['avg_odds_diff'].append(metric.average_odds_difference())\n",
        "        metric_arrs['disparate_impact'].append(metric.disparate_impact())\n",
        "        metric_arrs['statistical_parity_difference'].append(metric.statistical_parity_difference())        \n",
        "        metric_arrs['eq_opp_diff'].append(metric.equal_opportunity_difference())\n",
        "        metric_arrs['accuracy'].append(metric.accuracy())\n",
        "        metric_arrs['precision'].append(metric.precision(True))\n",
        "        metric_arrs['recall'].append(metric.recall(True)) \n",
        "        metric_arrs['num_TP'].append(metric.num_true_positives())\n",
        "        metric_arrs['num_FP'].append(metric.num_false_positives())\n",
        "        metric_arrs['num_TN'].append(metric.num_true_negatives())\n",
        "        metric_arrs['num_FN'].append(metric.num_false_negatives())\n",
        "        metric_arrs['positive_predictive_value'].append(metric.positive_predictive_value(True))\n",
        "        metric_arrs['negative_predictive_value'].append(metric.negative_predictive_value(True))\n",
        "        metric_arrs['false_negative_rate_difference'].append(metric.false_negative_rate_difference())\n",
        "        metric_arrs['false_positive_rate_difference'].append(metric.false_positive_rate_difference()) \n",
        "        metric_arrs['proba_positive_prot'].append(metric.num_pred_positives(True)/metric.num_instances(True))\n",
        "\n",
        "    return metric_arrs"
      ]
    },
    {
      "cell_type": "code",
      "execution_count": null,
      "metadata": {
        "id": "r-os54WZdhuK"
      },
      "outputs": [],
      "source": [
        "thresh_arr = np.linspace(0.01, 0.5, 50)\n",
        "val_metrics = test(dataset=dataset_orig_panel19_val,\n",
        "                   model=lr_orig_panel19,\n",
        "                   thresh_arr=thresh_arr)\n",
        "lr_orig_best_ind = np.argmax(val_metrics['bal_acc'])"
      ]
    },
    {
      "cell_type": "markdown",
      "metadata": {
        "id": "J9Z_vQcmdhuK"
      },
      "source": [
        "# B3 "
      ]
    },
    {
      "cell_type": "markdown",
      "metadata": {
        "id": "yWOLzswhdhuL"
      },
      "source": [
        "Make a function to print out accuracy and fairness metrics. This will be used throughout the notebook."
      ]
    },
    {
      "cell_type": "code",
      "execution_count": null,
      "metadata": {
        "id": "RIOp3jPNdhuM"
      },
      "outputs": [],
      "source": [
        "def describe_metrics(metrics, thresh_arr):\n",
        "    best_ind = np.argmax(metrics['bal_acc'])\n",
        "    print(\"Threshold corresponding to Best balanced accuracy: {:6.4f}\".format(thresh_arr[best_ind]))\n",
        "    print(\"Best balanced accuracy: {:6.4f}\".format(metrics['bal_acc'][best_ind]))\n",
        "    disp_imp_at_best_ind = 1 - min(metrics['disparate_impact'][best_ind], 1/metrics['disparate_impact'][best_ind])\n",
        "    print(\"Corresponding 1-min(DI, 1/DI) value: {:6.4f}\".format(disp_imp_at_best_ind))\n",
        "    print(\"Corresponding average odds difference value: {:6.4f}\".format(metrics['avg_odds_diff'][best_ind]))\n",
        "    print(\"Corresponding statistical parity difference value: {:6.4f}\".format(metrics['statistical_parity_difference'][best_ind]))\n",
        "    print(\"Corresponding equal opportunity difference value: {:6.4f}\".format(metrics['eq_opp_diff'][best_ind]))\n",
        "    print(\"Corresponding Theil index value: {:6.4f}\".format(metrics['theil_index'][best_ind]))"
      ]
    },
    {
      "cell_type": "code",
      "execution_count": null,
      "metadata": {
        "id": "LcXjyDtedhuN"
      },
      "outputs": [],
      "source": [
        "lr_orig_metrics = test(dataset=dataset_orig_panel19_test,\n",
        "                       model=lr_orig_panel19,\n",
        "                       thresh_arr=[thresh_arr[lr_orig_best_ind]])"
      ]
    },
    {
      "cell_type": "code",
      "execution_count": null,
      "metadata": {
        "colab": {
          "base_uri": "https://localhost:8080/"
        },
        "id": "vvfWZGfjdhuO",
        "outputId": "f4f84684-67ad-450c-a89a-eeb9001a581c"
      },
      "outputs": [
        {
          "output_type": "stream",
          "name": "stdout",
          "text": [
            "Threshold corresponding to Best balanced accuracy: 0.1900\n",
            "Best balanced accuracy: 0.7627\n",
            "Corresponding 1-min(DI, 1/DI) value: 0.6066\n",
            "Corresponding average odds difference value: -0.1831\n",
            "Corresponding statistical parity difference value: -0.2643\n",
            "Corresponding equal opportunity difference value: -0.1608\n",
            "Corresponding Theil index value: 0.0936\n"
          ]
        }
      ],
      "source": [
        "describe_metrics(val_metrics, thresh_arr)"
      ]
    },
    {
      "cell_type": "code",
      "execution_count": null,
      "metadata": {
        "colab": {
          "base_uri": "https://localhost:8080/"
        },
        "id": "l5QhV5HedhuP",
        "outputId": "6a877b47-9bde-495b-a1ed-b55b0f36f0d3"
      },
      "outputs": [
        {
          "output_type": "stream",
          "name": "stdout",
          "text": [
            "TP:  4698949.946001999\n",
            "TN:  16634655.868956\n",
            "FP:  4887526.895591\n",
            "FN:  1333365.5122969998\n"
          ]
        }
      ],
      "source": [
        "test_metric = test(dataset_orig_panel19_test, model, [0.19])\n",
        "print(\"TP: \", test_metric[\"num_TP\"][0])\n",
        "print(\"TN: \", test_metric[\"num_TN\"][0])\n",
        "print(\"FP: \", test_metric[\"num_FP\"][0])\n",
        "print(\"FN: \", test_metric[\"num_FN\"][0])"
      ]
    },
    {
      "cell_type": "code",
      "execution_count": null,
      "metadata": {
        "colab": {
          "base_uri": "https://localhost:8080/"
        },
        "id": "-U-q3kbkdhuQ",
        "outputId": "463ac517-df65-4a4c-8fb3-7a3bc1ff6c5e"
      },
      "outputs": [
        {
          "output_type": "stream",
          "name": "stdout",
          "text": [
            "Precision : TP / (TP + FP) =  0.4901644288769979\n",
            "Recall : TP / (TP + FN) =  0.7789629004791828\n",
            "Error : (FP + FN) / (TP + TN + FP + FN) =  0.22576685510934583\n",
            "Performance or Accuracy : 1 - Error =  0.7742331448906542\n"
          ]
        }
      ],
      "source": [
        "print(\"Precision : TP / (TP + FP) = \", test_metric[\"num_TP\"][0] / (test_metric[\"num_TP\"][0] + test_metric[\"num_FP\"][0]))\n",
        "print(\"Recall : TP / (TP + FN) = \", test_metric[\"num_TP\"][0] / (test_metric[\"num_TP\"][0] + test_metric[\"num_FN\"][0]))\n",
        "print(\"Error : (FP + FN) / (TP + TN + FP + FN) = \", (test_metric[\"num_FP\"][0] + test_metric[\"num_FN\"][0]) / (test_metric[\"num_TP\"][0] + test_metric[\"num_FN\"][0] + test_metric[\"num_TN\"][0] + test_metric[\"num_FP\"][0]))\n",
        "print(\"Performance or Accuracy : 1 - Error = \", 1 - (test_metric[\"num_FP\"][0] + test_metric[\"num_FN\"][0]) / (test_metric[\"num_TP\"][0] + test_metric[\"num_FN\"][0] + test_metric[\"num_TN\"][0] + test_metric[\"num_FP\"][0]))\n"
      ]
    },
    {
      "cell_type": "code",
      "execution_count": null,
      "metadata": {
        "colab": {
          "base_uri": "https://localhost:8080/"
        },
        "id": "GGZCd5nadhuS",
        "outputId": "1b18b254-82a4-4499-8ca6-d7763f542fbd"
      },
      "outputs": [
        {
          "output_type": "stream",
          "name": "stdout",
          "text": [
            "Positive predictive value difference:  0.0\n",
            "Negative predictive value difference:  0.0\n",
            "False negative rate difference:  0.2227794917646236\n",
            "False positive rate difference:  -0.18863299930971128\n",
            "Disparate impact:  0.42617612547690836\n",
            "Statistical parity difference:  -0.26120731043996515\n"
          ]
        }
      ],
      "source": [
        "\n",
        "print(\"Positive predictive value difference: \", test_metric['positive_predictive_value'][0] - test_metric['positive_predictive_value'][0])\n",
        "print(\"Negative predictive value difference: \", test_metric['negative_predictive_value'][0] - test_metric['negative_predictive_value'][0])\n",
        "print(\"False negative rate difference: \", test_metric['false_negative_rate_difference'][0])\n",
        "print(\"False positive rate difference: \", test_metric['false_positive_rate_difference'][0])\n",
        "print(\"Disparate impact: \", test_metric['disparate_impact'][0])\n",
        "print(\"Statistical parity difference: \", test_metric['statistical_parity_difference'][0])"
      ]
    },
    {
      "cell_type": "markdown",
      "metadata": {
        "id": "HtWwXOxOdhuX"
      },
      "source": [
        "# C1"
      ]
    },
    {
      "cell_type": "markdown",
      "metadata": {
        "id": "75UhzM2-dhuX"
      },
      "source": [
        "## C1.2"
      ]
    },
    {
      "cell_type": "code",
      "execution_count": null,
      "metadata": {
        "id": "zONneuLbdhuY"
      },
      "outputs": [],
      "source": [
        "RW = Reweighing(unprivileged_groups=unprivileged_groups,\n",
        "                privileged_groups=privileged_groups)\n",
        "dataset_transf_panel19_train = RW.fit_transform(dataset_orig_panel19_train)"
      ]
    },
    {
      "cell_type": "markdown",
      "metadata": {
        "id": "kVcOB_D-dhuZ"
      },
      "source": [
        "Metrics for transformed data:"
      ]
    },
    {
      "cell_type": "code",
      "execution_count": null,
      "metadata": {
        "colab": {
          "base_uri": "https://localhost:8080/"
        },
        "id": "b5fa0h1bdhuZ",
        "outputId": "5006472b-f730-4deb-8940-e39e1adf22cf"
      },
      "outputs": [
        {
          "output_type": "stream",
          "name": "stdout",
          "text": [
            "Disparate impact (probability of favorable outcome for unprivileged instances / probability of favorable outcome for privileged instances): 1.0\n"
          ]
        }
      ],
      "source": [
        "metric_transf_panel19_train = BinaryLabelDatasetMetric(\n",
        "        dataset_transf_panel19_train,\n",
        "        unprivileged_groups=unprivileged_groups,\n",
        "        privileged_groups=privileged_groups)\n",
        "explainer_transf_panel19_train = MetricTextExplainer(metric_transf_panel19_train)\n",
        "\n",
        "print(explainer_transf_panel19_train.disparate_impact())"
      ]
    },
    {
      "cell_type": "markdown",
      "metadata": {
        "id": "rlgNt8wSdhua"
      },
      "source": [
        "## C1.3"
      ]
    },
    {
      "cell_type": "markdown",
      "metadata": {
        "id": "CkRzPVvwdhua"
      },
      "source": [
        "Training LR model after reweighing"
      ]
    },
    {
      "cell_type": "code",
      "execution_count": null,
      "metadata": {
        "id": "aovZzScrdhub"
      },
      "outputs": [],
      "source": [
        "dataset = dataset_transf_panel19_train\n",
        "model = make_pipeline(StandardScaler(),\n",
        "                      LogisticRegression(solver='liblinear', random_state=1))\n",
        "fit_params = {'logisticregression__sample_weight': dataset.instance_weights}\n",
        "lr_transf_panel19 = model.fit(dataset.features, dataset.labels.ravel(), **fit_params)"
      ]
    },
    {
      "cell_type": "markdown",
      "metadata": {
        "id": "Hhg5xE6pdhub"
      },
      "source": [
        "Validating LR model after reweighing"
      ]
    },
    {
      "cell_type": "code",
      "execution_count": null,
      "metadata": {
        "id": "WYMAtNq5dhuc"
      },
      "outputs": [],
      "source": [
        "thresh_arr = np.linspace(0.01, 0.5, 50)\n",
        "val_metrics = test(dataset=dataset_orig_panel19_val,\n",
        "                   model=lr_transf_panel19,\n",
        "                   thresh_arr=thresh_arr)\n",
        "lr_transf_best_ind = np.argmax(val_metrics['bal_acc'])"
      ]
    },
    {
      "cell_type": "code",
      "execution_count": null,
      "metadata": {
        "colab": {
          "base_uri": "https://localhost:8080/"
        },
        "id": "JjQhBARYdhuc",
        "outputId": "aaa3c7d1-c4d4-40c9-f165-36d731696b09"
      },
      "outputs": [
        {
          "output_type": "stream",
          "name": "stdout",
          "text": [
            "Threshold corresponding to Best balanced accuracy: 0.2200\n",
            "Best balanced accuracy: 0.7581\n",
            "Corresponding 1-min(DI, 1/DI) value: 0.2939\n",
            "Corresponding average odds difference value: -0.0084\n",
            "Corresponding statistical parity difference value: -0.0992\n",
            "Corresponding equal opportunity difference value: 0.0242\n",
            "Corresponding Theil index value: 0.0938\n"
          ]
        }
      ],
      "source": [
        "describe_metrics(val_metrics, thresh_arr)"
      ]
    },
    {
      "cell_type": "markdown",
      "metadata": {
        "id": "6QWQ-ki4dhuc"
      },
      "source": [
        "Testing LR model after reweighing"
      ]
    },
    {
      "cell_type": "code",
      "execution_count": null,
      "metadata": {
        "id": "yJQvkJFsdhuc"
      },
      "outputs": [],
      "source": [
        "lr_transf_metrics = test(dataset=dataset_orig_panel19_test,\n",
        "                         model=lr_transf_panel19,\n",
        "                         thresh_arr=[thresh_arr[lr_transf_best_ind]])"
      ]
    },
    {
      "cell_type": "code",
      "execution_count": null,
      "metadata": {
        "colab": {
          "base_uri": "https://localhost:8080/"
        },
        "id": "KMGRo-W8dhud",
        "outputId": "f185e4e5-a2cd-4886-a932-6d177727e024"
      },
      "outputs": [
        {
          "output_type": "stream",
          "name": "stdout",
          "text": [
            "Threshold corresponding to Best balanced accuracy: 0.2200\n",
            "Best balanced accuracy: 0.7539\n",
            "Corresponding 1-min(DI, 1/DI) value: 0.2482\n",
            "Corresponding average odds difference value: -0.0151\n",
            "Corresponding statistical parity difference value: -0.0872\n",
            "Corresponding equal opportunity difference value: -0.0035\n",
            "Corresponding Theil index value: 0.0966\n"
          ]
        }
      ],
      "source": [
        "describe_metrics(lr_transf_metrics, [thresh_arr[lr_transf_best_ind]])"
      ]
    },
    {
      "cell_type": "markdown",
      "metadata": {
        "id": "7BM7qSUCdhuk"
      },
      "source": [
        "# C2"
      ]
    },
    {
      "cell_type": "markdown",
      "metadata": {
        "id": "K1GZImK9dhuk"
      },
      "source": [
        "Training a PR model"
      ]
    },
    {
      "cell_type": "code",
      "execution_count": null,
      "metadata": {
        "id": "y0u6HItrdhul"
      },
      "outputs": [],
      "source": [
        "model = PrejudiceRemover(sensitive_attr=sens_attr, eta=25.0)\n",
        "pr_orig_scaler = StandardScaler()\n",
        "\n",
        "dataset = dataset_orig_panel19_train.copy()\n",
        "dataset.features = pr_orig_scaler.fit_transform(dataset.features)\n",
        "\n",
        "pr_orig_panel19 = model.fit(dataset)"
      ]
    },
    {
      "cell_type": "markdown",
      "metadata": {
        "id": "z2LIKCH9dhul"
      },
      "source": [
        "Validating a PR model"
      ]
    },
    {
      "cell_type": "code",
      "execution_count": null,
      "metadata": {
        "id": "g1qjsZ3qdhul"
      },
      "outputs": [],
      "source": [
        "thresh_arr = np.linspace(0.01, 0.50, 50)\n",
        "\n",
        "dataset = dataset_orig_panel19_val.copy()\n",
        "dataset.features = pr_orig_scaler.transform(dataset.features)\n",
        "\n",
        "val_metrics = test(dataset=dataset,\n",
        "                   model=pr_orig_panel19,\n",
        "                   thresh_arr=thresh_arr)\n",
        "pr_orig_best_ind = np.argmax(val_metrics['bal_acc'])"
      ]
    },
    {
      "cell_type": "code",
      "execution_count": null,
      "metadata": {
        "colab": {
          "base_uri": "https://localhost:8080/"
        },
        "id": "crRITLgUdhum",
        "outputId": "38980f54-92c8-446e-84e2-4778f37fa941"
      },
      "outputs": [
        {
          "output_type": "stream",
          "name": "stdout",
          "text": [
            "Threshold corresponding to Best balanced accuracy: 0.1200\n",
            "Best balanced accuracy: 0.6836\n",
            "Corresponding 1-min(DI, 1/DI) value: 0.2262\n",
            "Corresponding average odds difference value: 0.0256\n",
            "Corresponding statistical parity difference value: -0.0828\n",
            "Corresponding equal opportunity difference value: 0.1172\n",
            "Corresponding Theil index value: 0.1119\n"
          ]
        }
      ],
      "source": [
        "describe_metrics(val_metrics, thresh_arr)"
      ]
    },
    {
      "cell_type": "markdown",
      "metadata": {
        "id": "XBejiZHwdhum"
      },
      "source": [
        "Testing PR model"
      ]
    },
    {
      "cell_type": "code",
      "execution_count": null,
      "metadata": {
        "id": "XTo4n4FVdhun"
      },
      "outputs": [],
      "source": [
        "dataset = dataset_orig_panel19_test.copy()\n",
        "dataset.features = pr_orig_scaler.transform(dataset.features)\n",
        "\n",
        "pr_orig_metrics = test(dataset=dataset,\n",
        "                       model=pr_orig_panel19,\n",
        "                       thresh_arr=[thresh_arr[pr_orig_best_ind]])"
      ]
    },
    {
      "cell_type": "code",
      "execution_count": null,
      "metadata": {
        "colab": {
          "base_uri": "https://localhost:8080/"
        },
        "id": "S8p6Tnsidhun",
        "outputId": "6a18549d-c934-42d3-d3f2-e52a4a1352ae"
      },
      "outputs": [
        {
          "output_type": "stream",
          "name": "stdout",
          "text": [
            "Threshold corresponding to Best balanced accuracy: 0.1200\n",
            "Best balanced accuracy: 0.6880\n",
            "Corresponding 1-min(DI, 1/DI) value: 0.1588\n",
            "Corresponding average odds difference value: 0.0523\n",
            "Corresponding statistical parity difference value: -0.0566\n",
            "Corresponding equal opportunity difference value: 0.1479\n",
            "Corresponding Theil index value: 0.1108\n"
          ]
        }
      ],
      "source": [
        "describe_metrics(pr_orig_metrics, [thresh_arr[pr_orig_best_ind]])"
      ]
    },
    {
      "cell_type": "markdown",
      "metadata": {
        "id": "liKWcJTndhun"
      },
      "source": [
        "# D1 "
      ]
    },
    {
      "cell_type": "code",
      "execution_count": null,
      "metadata": {
        "colab": {
          "base_uri": "https://localhost:8080/",
          "height": 274
        },
        "id": "G7xWSXcsdhuo",
        "outputId": "3cd5a21c-c14d-46c9-e0ee-21c86df09cef"
      },
      "outputs": [
        {
          "output_type": "execute_result",
          "data": {
            "text/plain": [
              "                    bal_acc  theil_index  avg_odds_diff  disparate_impact  \\\n",
              "Bias Mitigator                                                              \n",
              "Unaware            0.775935     0.092122      -0.205706          0.426176   \n",
              "Reweighing         0.753893     0.096575      -0.015104          0.751755   \n",
              "Prejudice Remover  0.688028     0.110774       0.052286          0.841229   \n",
              "\n",
              "                   statistical_parity_difference  eq_opp_diff  accuracy  \\\n",
              "Bias Mitigator                                                            \n",
              "Unaware                                -0.261207    -0.222779  0.774233   \n",
              "Reweighing                             -0.087196    -0.003518  0.777413   \n",
              "Prejudice Remover                      -0.056631     0.147869  0.722252   \n",
              "\n",
              "                   precision    recall        num_TP        num_FP  \\\n",
              "Bias Mitigator                                                       \n",
              "Unaware             0.500682  0.838824  4.698950e+06  4.887527e+06   \n",
              "Reweighing          0.551530  0.712999  4.295335e+06  4.396305e+06   \n",
              "Prejudice Remover   0.447470  0.587415  3.783150e+06  5.404035e+06   \n",
              "\n",
              "                         num_TN        num_FN  positive_predictive_value  \\\n",
              "Bias Mitigator                                                             \n",
              "Unaware            1.663466e+07  1.333366e+06                   0.500682   \n",
              "Reweighing         1.712588e+07  1.736981e+06                   0.551530   \n",
              "Prejudice Remover  1.611815e+07  2.249166e+06                   0.447470   \n",
              "\n",
              "                   negative_predictive_value  false_negative_rate_difference  \\\n",
              "Bias Mitigator                                                                 \n",
              "Unaware                             0.919617                        0.222779   \n",
              "Reweighing                          0.879800                        0.003518   \n",
              "Prejudice Remover                   0.825745                       -0.147869   \n",
              "\n",
              "                   false_positive_rate_difference  proba_positive_prot  \n",
              "Bias Mitigator                                                          \n",
              "Unaware                                 -0.188633             0.455205  \n",
              "Reweighing                              -0.026689             0.351252  \n",
              "Prejudice Remover                       -0.043297             0.356681  "
            ],
            "text/html": [
              "\n",
              "  <div id=\"df-546785b3-8c6d-4ca3-b156-a849ee6c5d9b\">\n",
              "    <div class=\"colab-df-container\">\n",
              "      <div>\n",
              "<style scoped>\n",
              "    .dataframe tbody tr th:only-of-type {\n",
              "        vertical-align: middle;\n",
              "    }\n",
              "\n",
              "    .dataframe tbody tr th {\n",
              "        vertical-align: top;\n",
              "    }\n",
              "\n",
              "    .dataframe thead th {\n",
              "        text-align: right;\n",
              "    }\n",
              "</style>\n",
              "<table border=\"1\" class=\"dataframe\">\n",
              "  <thead>\n",
              "    <tr style=\"text-align: right;\">\n",
              "      <th></th>\n",
              "      <th>bal_acc</th>\n",
              "      <th>theil_index</th>\n",
              "      <th>avg_odds_diff</th>\n",
              "      <th>disparate_impact</th>\n",
              "      <th>statistical_parity_difference</th>\n",
              "      <th>eq_opp_diff</th>\n",
              "      <th>accuracy</th>\n",
              "      <th>precision</th>\n",
              "      <th>recall</th>\n",
              "      <th>num_TP</th>\n",
              "      <th>num_FP</th>\n",
              "      <th>num_TN</th>\n",
              "      <th>num_FN</th>\n",
              "      <th>positive_predictive_value</th>\n",
              "      <th>negative_predictive_value</th>\n",
              "      <th>false_negative_rate_difference</th>\n",
              "      <th>false_positive_rate_difference</th>\n",
              "      <th>proba_positive_prot</th>\n",
              "    </tr>\n",
              "    <tr>\n",
              "      <th>Bias Mitigator</th>\n",
              "      <th></th>\n",
              "      <th></th>\n",
              "      <th></th>\n",
              "      <th></th>\n",
              "      <th></th>\n",
              "      <th></th>\n",
              "      <th></th>\n",
              "      <th></th>\n",
              "      <th></th>\n",
              "      <th></th>\n",
              "      <th></th>\n",
              "      <th></th>\n",
              "      <th></th>\n",
              "      <th></th>\n",
              "      <th></th>\n",
              "      <th></th>\n",
              "      <th></th>\n",
              "      <th></th>\n",
              "    </tr>\n",
              "  </thead>\n",
              "  <tbody>\n",
              "    <tr>\n",
              "      <th>Unaware</th>\n",
              "      <td>0.775935</td>\n",
              "      <td>0.092122</td>\n",
              "      <td>-0.205706</td>\n",
              "      <td>0.426176</td>\n",
              "      <td>-0.261207</td>\n",
              "      <td>-0.222779</td>\n",
              "      <td>0.774233</td>\n",
              "      <td>0.500682</td>\n",
              "      <td>0.838824</td>\n",
              "      <td>4.698950e+06</td>\n",
              "      <td>4.887527e+06</td>\n",
              "      <td>1.663466e+07</td>\n",
              "      <td>1.333366e+06</td>\n",
              "      <td>0.500682</td>\n",
              "      <td>0.919617</td>\n",
              "      <td>0.222779</td>\n",
              "      <td>-0.188633</td>\n",
              "      <td>0.455205</td>\n",
              "    </tr>\n",
              "    <tr>\n",
              "      <th>Reweighing</th>\n",
              "      <td>0.753893</td>\n",
              "      <td>0.096575</td>\n",
              "      <td>-0.015104</td>\n",
              "      <td>0.751755</td>\n",
              "      <td>-0.087196</td>\n",
              "      <td>-0.003518</td>\n",
              "      <td>0.777413</td>\n",
              "      <td>0.551530</td>\n",
              "      <td>0.712999</td>\n",
              "      <td>4.295335e+06</td>\n",
              "      <td>4.396305e+06</td>\n",
              "      <td>1.712588e+07</td>\n",
              "      <td>1.736981e+06</td>\n",
              "      <td>0.551530</td>\n",
              "      <td>0.879800</td>\n",
              "      <td>0.003518</td>\n",
              "      <td>-0.026689</td>\n",
              "      <td>0.351252</td>\n",
              "    </tr>\n",
              "    <tr>\n",
              "      <th>Prejudice Remover</th>\n",
              "      <td>0.688028</td>\n",
              "      <td>0.110774</td>\n",
              "      <td>0.052286</td>\n",
              "      <td>0.841229</td>\n",
              "      <td>-0.056631</td>\n",
              "      <td>0.147869</td>\n",
              "      <td>0.722252</td>\n",
              "      <td>0.447470</td>\n",
              "      <td>0.587415</td>\n",
              "      <td>3.783150e+06</td>\n",
              "      <td>5.404035e+06</td>\n",
              "      <td>1.611815e+07</td>\n",
              "      <td>2.249166e+06</td>\n",
              "      <td>0.447470</td>\n",
              "      <td>0.825745</td>\n",
              "      <td>-0.147869</td>\n",
              "      <td>-0.043297</td>\n",
              "      <td>0.356681</td>\n",
              "    </tr>\n",
              "  </tbody>\n",
              "</table>\n",
              "</div>\n",
              "      <button class=\"colab-df-convert\" onclick=\"convertToInteractive('df-546785b3-8c6d-4ca3-b156-a849ee6c5d9b')\"\n",
              "              title=\"Convert this dataframe to an interactive table.\"\n",
              "              style=\"display:none;\">\n",
              "        \n",
              "  <svg xmlns=\"http://www.w3.org/2000/svg\" height=\"24px\"viewBox=\"0 0 24 24\"\n",
              "       width=\"24px\">\n",
              "    <path d=\"M0 0h24v24H0V0z\" fill=\"none\"/>\n",
              "    <path d=\"M18.56 5.44l.94 2.06.94-2.06 2.06-.94-2.06-.94-.94-2.06-.94 2.06-2.06.94zm-11 1L8.5 8.5l.94-2.06 2.06-.94-2.06-.94L8.5 2.5l-.94 2.06-2.06.94zm10 10l.94 2.06.94-2.06 2.06-.94-2.06-.94-.94-2.06-.94 2.06-2.06.94z\"/><path d=\"M17.41 7.96l-1.37-1.37c-.4-.4-.92-.59-1.43-.59-.52 0-1.04.2-1.43.59L10.3 9.45l-7.72 7.72c-.78.78-.78 2.05 0 2.83L4 21.41c.39.39.9.59 1.41.59.51 0 1.02-.2 1.41-.59l7.78-7.78 2.81-2.81c.8-.78.8-2.07 0-2.86zM5.41 20L4 18.59l7.72-7.72 1.47 1.35L5.41 20z\"/>\n",
              "  </svg>\n",
              "      </button>\n",
              "      \n",
              "  <style>\n",
              "    .colab-df-container {\n",
              "      display:flex;\n",
              "      flex-wrap:wrap;\n",
              "      gap: 12px;\n",
              "    }\n",
              "\n",
              "    .colab-df-convert {\n",
              "      background-color: #E8F0FE;\n",
              "      border: none;\n",
              "      border-radius: 50%;\n",
              "      cursor: pointer;\n",
              "      display: none;\n",
              "      fill: #1967D2;\n",
              "      height: 32px;\n",
              "      padding: 0 0 0 0;\n",
              "      width: 32px;\n",
              "    }\n",
              "\n",
              "    .colab-df-convert:hover {\n",
              "      background-color: #E2EBFA;\n",
              "      box-shadow: 0px 1px 2px rgba(60, 64, 67, 0.3), 0px 1px 3px 1px rgba(60, 64, 67, 0.15);\n",
              "      fill: #174EA6;\n",
              "    }\n",
              "\n",
              "    [theme=dark] .colab-df-convert {\n",
              "      background-color: #3B4455;\n",
              "      fill: #D2E3FC;\n",
              "    }\n",
              "\n",
              "    [theme=dark] .colab-df-convert:hover {\n",
              "      background-color: #434B5C;\n",
              "      box-shadow: 0px 1px 3px 1px rgba(0, 0, 0, 0.15);\n",
              "      filter: drop-shadow(0px 1px 2px rgba(0, 0, 0, 0.3));\n",
              "      fill: #FFFFFF;\n",
              "    }\n",
              "  </style>\n",
              "\n",
              "      <script>\n",
              "        const buttonEl =\n",
              "          document.querySelector('#df-546785b3-8c6d-4ca3-b156-a849ee6c5d9b button.colab-df-convert');\n",
              "        buttonEl.style.display =\n",
              "          google.colab.kernel.accessAllowed ? 'block' : 'none';\n",
              "\n",
              "        async function convertToInteractive(key) {\n",
              "          const element = document.querySelector('#df-546785b3-8c6d-4ca3-b156-a849ee6c5d9b');\n",
              "          const dataTable =\n",
              "            await google.colab.kernel.invokeFunction('convertToInteractive',\n",
              "                                                     [key], {});\n",
              "          if (!dataTable) return;\n",
              "\n",
              "          const docLinkHtml = 'Like what you see? Visit the ' +\n",
              "            '<a target=\"_blank\" href=https://colab.research.google.com/notebooks/data_table.ipynb>data table notebook</a>'\n",
              "            + ' to learn more about interactive tables.';\n",
              "          element.innerHTML = '';\n",
              "          dataTable['output_type'] = 'display_data';\n",
              "          await google.colab.output.renderOutput(dataTable, element);\n",
              "          const docLink = document.createElement('div');\n",
              "          docLink.innerHTML = docLinkHtml;\n",
              "          element.appendChild(docLink);\n",
              "        }\n",
              "      </script>\n",
              "    </div>\n",
              "  </div>\n",
              "  "
            ]
          },
          "metadata": {},
          "execution_count": 106
        }
      ],
      "source": [
        "pd.set_option('display.multi_sparse', False)\n",
        "results = [lr_orig_metrics, lr_transf_metrics, pr_orig_metrics]\n",
        "debias = pd.Series(['Unaware']+['Reweighing']+['Prejudice Remover'], name='Bias Mitigator')\n",
        "pd.concat([pd.DataFrame(metrics) for metrics in results], axis=0).set_index([debias])"
      ]
    }
  ],
  "metadata": {
    "kernelspec": {
      "display_name": "Python 3 (ipykernel)",
      "language": "python",
      "name": "python3"
    },
    "language_info": {
      "codemirror_mode": {
        "name": "ipython",
        "version": 3
      },
      "file_extension": ".py",
      "mimetype": "text/x-python",
      "name": "python",
      "nbconvert_exporter": "python",
      "pygments_lexer": "ipython3",
      "version": "3.9.12"
    },
    "colab": {
      "name": "medical_usecase_AIF360.ipynb",
      "provenance": [],
      "collapsed_sections": [
        "VbEAu_Ypdhtm",
        "YPICBOJ2dht8",
        "SEE3QBVwjnbQ",
        "CJNWEns2j3DO",
        "CTWfyzIFkSk8",
        "AFk8CyQ2tRZH",
        "rj05QUGQEvjW",
        "Wbu6QjjZkbFR",
        "PNNPsXa9oDCe",
        "c42P5WFzqZfW",
        "aywuRnzvqjK_",
        "S6hqxM96qqpT",
        "nw_SOQVhrBFg",
        "vM-JDpMKshNc",
        "brCvcA4udhuH",
        "J9Z_vQcmdhuK",
        "HtWwXOxOdhuX",
        "75UhzM2-dhuX",
        "rlgNt8wSdhua",
        "7BM7qSUCdhuk",
        "liKWcJTndhun"
      ]
    }
  },
  "nbformat": 4,
  "nbformat_minor": 0
}
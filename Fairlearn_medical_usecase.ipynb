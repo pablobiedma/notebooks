{
  "cells": [
    {
      "cell_type": "markdown",
      "metadata": {
        "id": "o-CaPdtr1QEj"
      },
      "source": [
        "# Design Brief \n",
        "\n",
        "An insurance company has tasked you to develop a healthcare utilization scoring model that they will be able to employ when deciding the price of insurance for individuals. The model classification task is to predict whether a person would have 'high' healthcare utilization. Consequently they want to use pricing segmentation, such that individuals with 'low' utilization will pay an X% of their salary for the insurance, while the price for those with a 'high' healthcare utilization score will be 2X% of their income. To complete the task, the company has provided you with the 2015 Consolidated Medical Expenditure data.\n",
        "\n",
        "As in the previous use case that you have seen, I am asking you again to speak out loud while trying to explore the use-case to answer this question. You can of course use any tool that you would typically use, but you are encouraged to also make use of the toolkit I just presented to you.\n"
      ]
    },
    {
      "cell_type": "markdown",
      "metadata": {
        "id": "drLFiUZE1QEf"
      },
      "source": [
        "# Set-up\n",
        "\n",
        "You first need to install the required libraries for the project. The main libraries are the fairlearn and sklearn ones. We also recommend using numpy or pandas to easily manipulate and explore the data.\n"
      ]
    },
    {
      "cell_type": "code",
      "source": [
        "!pip install fairlearn"
      ],
      "metadata": {
        "id": "dS4cj3rf3VL4",
        "colab": {
          "base_uri": "https://localhost:8080/"
        },
        "outputId": "2668207c-29c0-4ce3-84f6-ac546e29c334"
      },
      "execution_count": null,
      "outputs": [
        {
          "output_type": "stream",
          "name": "stdout",
          "text": [
            "Looking in indexes: https://pypi.org/simple, https://us-python.pkg.dev/colab-wheels/public/simple/\n",
            "Collecting fairlearn\n",
            "  Downloading fairlearn-0.7.0-py3-none-any.whl (177 kB)\n",
            "\u001b[K     |████████████████████████████████| 177 kB 7.7 MB/s \n",
            "\u001b[?25hRequirement already satisfied: scipy>=1.4.1 in /usr/local/lib/python3.7/dist-packages (from fairlearn) (1.4.1)\n",
            "Requirement already satisfied: pandas>=0.25.1 in /usr/local/lib/python3.7/dist-packages (from fairlearn) (1.3.5)\n",
            "Requirement already satisfied: scikit-learn>=0.22.1 in /usr/local/lib/python3.7/dist-packages (from fairlearn) (1.0.2)\n",
            "Requirement already satisfied: numpy>=1.17.2 in /usr/local/lib/python3.7/dist-packages (from fairlearn) (1.21.6)\n",
            "Requirement already satisfied: pytz>=2017.3 in /usr/local/lib/python3.7/dist-packages (from pandas>=0.25.1->fairlearn) (2022.1)\n",
            "Requirement already satisfied: python-dateutil>=2.7.3 in /usr/local/lib/python3.7/dist-packages (from pandas>=0.25.1->fairlearn) (2.8.2)\n",
            "Requirement already satisfied: six>=1.5 in /usr/local/lib/python3.7/dist-packages (from python-dateutil>=2.7.3->pandas>=0.25.1->fairlearn) (1.15.0)\n",
            "Requirement already satisfied: threadpoolctl>=2.0.0 in /usr/local/lib/python3.7/dist-packages (from scikit-learn>=0.22.1->fairlearn) (3.1.0)\n",
            "Requirement already satisfied: joblib>=0.11 in /usr/local/lib/python3.7/dist-packages (from scikit-learn>=0.22.1->fairlearn) (1.1.0)\n",
            "Installing collected packages: fairlearn\n",
            "Successfully installed fairlearn-0.7.0\n"
          ]
        }
      ]
    },
    {
      "cell_type": "markdown",
      "metadata": {
        "id": "VHsGoTbv1QEh"
      },
      "source": [
        "## Load required libraries"
      ]
    },
    {
      "cell_type": "code",
      "execution_count": null,
      "metadata": {
        "id": "WiYCznII1QEi"
      },
      "outputs": [],
      "source": [
        "import sys\n",
        "sys.path.insert(0, '../')\n",
        "\n",
        "import numpy as np\n",
        "import pandas as pd\n",
        "import matplotlib.pyplot as plt\n",
        "import matplotlib.axes \n",
        "%matplotlib inline\n",
        "# from IPython.display import Markdown, display\n",
        "\n",
        "# Data processing\n",
        "from sklearn.model_selection import train_test_split\n",
        "\n",
        "# Models\n",
        "import lightgbm as lgb\n",
        "from sklearn.calibration import CalibratedClassifierCV \n",
        "\n",
        "# Fairness metrics\n",
        "from fairlearn.metrics import (\n",
        "    MetricFrame,\n",
        "    selection_rate, demographic_parity_difference, demographic_parity_ratio,\n",
        "    false_positive_rate, false_negative_rate,\n",
        "    true_positive_rate, true_negative_rate,\n",
        "    false_positive_rate_difference, false_negative_rate_difference,\n",
        "    equalized_odds_difference, equalized_odds_ratio)\n",
        "\n",
        "from sklearn.metrics import (\n",
        "    balanced_accuracy_score,\n",
        "    roc_auc_score,\n",
        "    accuracy_score,\n",
        "    recall_score,\n",
        "    confusion_matrix,\n",
        "    roc_auc_score,\n",
        "    roc_curve,\n",
        "    plot_roc_curve)\n",
        "\n",
        "# Scalers\n",
        "from sklearn.preprocessing import StandardScaler\n",
        "\n",
        "# Classifiers\n",
        "from sklearn.ensemble import RandomForestClassifier\n",
        "from sklearn.linear_model import LogisticRegression\n",
        "from sklearn.pipeline import make_pipeline\n",
        "\n",
        "# Bias mitigation techniques\n",
        "from fairlearn.preprocessing import CorrelationRemover\n",
        "from fairlearn.postprocessing import ThresholdOptimizer\n",
        "from fairlearn.reductions import GridSearch, EqualizedOdds, ExponentiatedGradient, TruePositiveRateParity\n",
        "\n",
        "np.random.seed(1)"
      ]
    },
    {
      "cell_type": "markdown",
      "metadata": {
        "id": "xDaZF8Tr1QEk"
      },
      "source": [
        "# Dataset\n"
      ]
    },
    {
      "cell_type": "markdown",
      "source": [
        "Load the data."
      ],
      "metadata": {
        "id": "1cnTzy3cWlrN"
      }
    },
    {
      "cell_type": "code",
      "source": [
        "df = pd.read_csv(\"https://raw.githubusercontent.com/pablobiedma/datasets/main/dataset.csv\")\n",
        "df.head()"
      ],
      "metadata": {
        "colab": {
          "base_uri": "https://localhost:8080/",
          "height": 236
        },
        "id": "pSx6ei7ivu-N",
        "outputId": "0ed3ddc6-aeb1-48b5-8f50-d682db88cc6e"
      },
      "execution_count": null,
      "outputs": [
        {
          "output_type": "execute_result",
          "data": {
            "text/plain": [
              "   REGION  AGE  SEX  RACE  MARRY  ACTDTY  HONRDC  RTHLTH  MNHLTH  HIBPDX  ...  \\\n",
              "0       2   53    1     1      5       2       2       4       3       1  ...   \n",
              "1       2   56    2     1      3       2       2       4       3       1  ...   \n",
              "2       2   23    2     1      5       2       2       1       1       2  ...   \n",
              "3       2    3    1     1      6       3       3       1       3      -1  ...   \n",
              "4       3   27    1     0      1       1       4       2       1       2  ...   \n",
              "\n",
              "   DFSEE42  ADSMOK42  K6SUM42  PHQ242  EMPST  POVCAT  INSCOV  UTILIZATION  \\\n",
              "0        2         2        3       0      4       1       2            1   \n",
              "1        2         2       17       6      4       3       2            1   \n",
              "2        2         2        7       0      1       2       2            0   \n",
              "3        2        -1       -1      -1     -1       2       2            0   \n",
              "4        2        -1       -1      -1      1       3       1            0   \n",
              "\n",
              "      PERWT15F  WEIGHT  \n",
              "0  21854.98171    65.0  \n",
              "1  18169.60482     NaN  \n",
              "2  17191.83252     NaN  \n",
              "3  20261.48546    58.0  \n",
              "4      0.00000    51.0  \n",
              "\n",
              "[5 rows x 41 columns]"
            ],
            "text/html": [
              "\n",
              "  <div id=\"df-cfdf4c27-f617-4218-8746-e77b98939352\">\n",
              "    <div class=\"colab-df-container\">\n",
              "      <div>\n",
              "<style scoped>\n",
              "    .dataframe tbody tr th:only-of-type {\n",
              "        vertical-align: middle;\n",
              "    }\n",
              "\n",
              "    .dataframe tbody tr th {\n",
              "        vertical-align: top;\n",
              "    }\n",
              "\n",
              "    .dataframe thead th {\n",
              "        text-align: right;\n",
              "    }\n",
              "</style>\n",
              "<table border=\"1\" class=\"dataframe\">\n",
              "  <thead>\n",
              "    <tr style=\"text-align: right;\">\n",
              "      <th></th>\n",
              "      <th>REGION</th>\n",
              "      <th>AGE</th>\n",
              "      <th>SEX</th>\n",
              "      <th>RACE</th>\n",
              "      <th>MARRY</th>\n",
              "      <th>ACTDTY</th>\n",
              "      <th>HONRDC</th>\n",
              "      <th>RTHLTH</th>\n",
              "      <th>MNHLTH</th>\n",
              "      <th>HIBPDX</th>\n",
              "      <th>...</th>\n",
              "      <th>DFSEE42</th>\n",
              "      <th>ADSMOK42</th>\n",
              "      <th>K6SUM42</th>\n",
              "      <th>PHQ242</th>\n",
              "      <th>EMPST</th>\n",
              "      <th>POVCAT</th>\n",
              "      <th>INSCOV</th>\n",
              "      <th>UTILIZATION</th>\n",
              "      <th>PERWT15F</th>\n",
              "      <th>WEIGHT</th>\n",
              "    </tr>\n",
              "  </thead>\n",
              "  <tbody>\n",
              "    <tr>\n",
              "      <th>0</th>\n",
              "      <td>2</td>\n",
              "      <td>53</td>\n",
              "      <td>1</td>\n",
              "      <td>1</td>\n",
              "      <td>5</td>\n",
              "      <td>2</td>\n",
              "      <td>2</td>\n",
              "      <td>4</td>\n",
              "      <td>3</td>\n",
              "      <td>1</td>\n",
              "      <td>...</td>\n",
              "      <td>2</td>\n",
              "      <td>2</td>\n",
              "      <td>3</td>\n",
              "      <td>0</td>\n",
              "      <td>4</td>\n",
              "      <td>1</td>\n",
              "      <td>2</td>\n",
              "      <td>1</td>\n",
              "      <td>21854.98171</td>\n",
              "      <td>65.0</td>\n",
              "    </tr>\n",
              "    <tr>\n",
              "      <th>1</th>\n",
              "      <td>2</td>\n",
              "      <td>56</td>\n",
              "      <td>2</td>\n",
              "      <td>1</td>\n",
              "      <td>3</td>\n",
              "      <td>2</td>\n",
              "      <td>2</td>\n",
              "      <td>4</td>\n",
              "      <td>3</td>\n",
              "      <td>1</td>\n",
              "      <td>...</td>\n",
              "      <td>2</td>\n",
              "      <td>2</td>\n",
              "      <td>17</td>\n",
              "      <td>6</td>\n",
              "      <td>4</td>\n",
              "      <td>3</td>\n",
              "      <td>2</td>\n",
              "      <td>1</td>\n",
              "      <td>18169.60482</td>\n",
              "      <td>NaN</td>\n",
              "    </tr>\n",
              "    <tr>\n",
              "      <th>2</th>\n",
              "      <td>2</td>\n",
              "      <td>23</td>\n",
              "      <td>2</td>\n",
              "      <td>1</td>\n",
              "      <td>5</td>\n",
              "      <td>2</td>\n",
              "      <td>2</td>\n",
              "      <td>1</td>\n",
              "      <td>1</td>\n",
              "      <td>2</td>\n",
              "      <td>...</td>\n",
              "      <td>2</td>\n",
              "      <td>2</td>\n",
              "      <td>7</td>\n",
              "      <td>0</td>\n",
              "      <td>1</td>\n",
              "      <td>2</td>\n",
              "      <td>2</td>\n",
              "      <td>0</td>\n",
              "      <td>17191.83252</td>\n",
              "      <td>NaN</td>\n",
              "    </tr>\n",
              "    <tr>\n",
              "      <th>3</th>\n",
              "      <td>2</td>\n",
              "      <td>3</td>\n",
              "      <td>1</td>\n",
              "      <td>1</td>\n",
              "      <td>6</td>\n",
              "      <td>3</td>\n",
              "      <td>3</td>\n",
              "      <td>1</td>\n",
              "      <td>3</td>\n",
              "      <td>-1</td>\n",
              "      <td>...</td>\n",
              "      <td>2</td>\n",
              "      <td>-1</td>\n",
              "      <td>-1</td>\n",
              "      <td>-1</td>\n",
              "      <td>-1</td>\n",
              "      <td>2</td>\n",
              "      <td>2</td>\n",
              "      <td>0</td>\n",
              "      <td>20261.48546</td>\n",
              "      <td>58.0</td>\n",
              "    </tr>\n",
              "    <tr>\n",
              "      <th>4</th>\n",
              "      <td>3</td>\n",
              "      <td>27</td>\n",
              "      <td>1</td>\n",
              "      <td>0</td>\n",
              "      <td>1</td>\n",
              "      <td>1</td>\n",
              "      <td>4</td>\n",
              "      <td>2</td>\n",
              "      <td>1</td>\n",
              "      <td>2</td>\n",
              "      <td>...</td>\n",
              "      <td>2</td>\n",
              "      <td>-1</td>\n",
              "      <td>-1</td>\n",
              "      <td>-1</td>\n",
              "      <td>1</td>\n",
              "      <td>3</td>\n",
              "      <td>1</td>\n",
              "      <td>0</td>\n",
              "      <td>0.00000</td>\n",
              "      <td>51.0</td>\n",
              "    </tr>\n",
              "  </tbody>\n",
              "</table>\n",
              "<p>5 rows × 41 columns</p>\n",
              "</div>\n",
              "      <button class=\"colab-df-convert\" onclick=\"convertToInteractive('df-cfdf4c27-f617-4218-8746-e77b98939352')\"\n",
              "              title=\"Convert this dataframe to an interactive table.\"\n",
              "              style=\"display:none;\">\n",
              "        \n",
              "  <svg xmlns=\"http://www.w3.org/2000/svg\" height=\"24px\"viewBox=\"0 0 24 24\"\n",
              "       width=\"24px\">\n",
              "    <path d=\"M0 0h24v24H0V0z\" fill=\"none\"/>\n",
              "    <path d=\"M18.56 5.44l.94 2.06.94-2.06 2.06-.94-2.06-.94-.94-2.06-.94 2.06-2.06.94zm-11 1L8.5 8.5l.94-2.06 2.06-.94-2.06-.94L8.5 2.5l-.94 2.06-2.06.94zm10 10l.94 2.06.94-2.06 2.06-.94-2.06-.94-.94-2.06-.94 2.06-2.06.94z\"/><path d=\"M17.41 7.96l-1.37-1.37c-.4-.4-.92-.59-1.43-.59-.52 0-1.04.2-1.43.59L10.3 9.45l-7.72 7.72c-.78.78-.78 2.05 0 2.83L4 21.41c.39.39.9.59 1.41.59.51 0 1.02-.2 1.41-.59l7.78-7.78 2.81-2.81c.8-.78.8-2.07 0-2.86zM5.41 20L4 18.59l7.72-7.72 1.47 1.35L5.41 20z\"/>\n",
              "  </svg>\n",
              "      </button>\n",
              "      \n",
              "  <style>\n",
              "    .colab-df-container {\n",
              "      display:flex;\n",
              "      flex-wrap:wrap;\n",
              "      gap: 12px;\n",
              "    }\n",
              "\n",
              "    .colab-df-convert {\n",
              "      background-color: #E8F0FE;\n",
              "      border: none;\n",
              "      border-radius: 50%;\n",
              "      cursor: pointer;\n",
              "      display: none;\n",
              "      fill: #1967D2;\n",
              "      height: 32px;\n",
              "      padding: 0 0 0 0;\n",
              "      width: 32px;\n",
              "    }\n",
              "\n",
              "    .colab-df-convert:hover {\n",
              "      background-color: #E2EBFA;\n",
              "      box-shadow: 0px 1px 2px rgba(60, 64, 67, 0.3), 0px 1px 3px 1px rgba(60, 64, 67, 0.15);\n",
              "      fill: #174EA6;\n",
              "    }\n",
              "\n",
              "    [theme=dark] .colab-df-convert {\n",
              "      background-color: #3B4455;\n",
              "      fill: #D2E3FC;\n",
              "    }\n",
              "\n",
              "    [theme=dark] .colab-df-convert:hover {\n",
              "      background-color: #434B5C;\n",
              "      box-shadow: 0px 1px 3px 1px rgba(0, 0, 0, 0.15);\n",
              "      filter: drop-shadow(0px 1px 2px rgba(0, 0, 0, 0.3));\n",
              "      fill: #FFFFFF;\n",
              "    }\n",
              "  </style>\n",
              "\n",
              "      <script>\n",
              "        const buttonEl =\n",
              "          document.querySelector('#df-cfdf4c27-f617-4218-8746-e77b98939352 button.colab-df-convert');\n",
              "        buttonEl.style.display =\n",
              "          google.colab.kernel.accessAllowed ? 'block' : 'none';\n",
              "\n",
              "        async function convertToInteractive(key) {\n",
              "          const element = document.querySelector('#df-cfdf4c27-f617-4218-8746-e77b98939352');\n",
              "          const dataTable =\n",
              "            await google.colab.kernel.invokeFunction('convertToInteractive',\n",
              "                                                     [key], {});\n",
              "          if (!dataTable) return;\n",
              "\n",
              "          const docLinkHtml = 'Like what you see? Visit the ' +\n",
              "            '<a target=\"_blank\" href=https://colab.research.google.com/notebooks/data_table.ipynb>data table notebook</a>'\n",
              "            + ' to learn more about interactive tables.';\n",
              "          element.innerHTML = '';\n",
              "          dataTable['output_type'] = 'display_data';\n",
              "          await google.colab.output.renderOutput(dataTable, element);\n",
              "          const docLink = document.createElement('div');\n",
              "          docLink.innerHTML = docLinkHtml;\n",
              "          element.appendChild(docLink);\n",
              "        }\n",
              "      </script>\n",
              "    </div>\n",
              "  </div>\n",
              "  "
            ]
          },
          "metadata": {},
          "execution_count": 5
        }
      ]
    },
    {
      "cell_type": "code",
      "source": [
        "print(\"Number of records: \" + str(df.shape[0]))\n",
        "print(\"Number of features: \" + str(df.shape[1]))"
      ],
      "metadata": {
        "colab": {
          "base_uri": "https://localhost:8080/"
        },
        "id": "wZlAEkUJjKj6",
        "outputId": "8ff92ba4-2f6d-4145-f4e2-86eda1c80edf"
      },
      "execution_count": null,
      "outputs": [
        {
          "output_type": "stream",
          "name": "stdout",
          "text": [
            "Number of records: 4400\n",
            "Number of features: 41\n"
          ]
        }
      ]
    },
    {
      "cell_type": "markdown",
      "source": [
        "## Dataset description\n",
        "\n",
        "The specific data used is the [2015 Full Year Consolidated Data File](https://meps.ahrq.gov/mepsweb/data_stats/download_data_files_detail.jsp?cboPufNumber=HC-181).\n",
        "\n",
        "<!-- (as well as the [2016 Full Year Consolidated Data File](https://meps.ahrq.gov/mepsweb/data_stats/download_data_files_detail.jsp?cboPufNumber=HC-192) ). -->\n",
        " \n",
        "Other features used for modeling include demographics  (such as age, gender, active duty status), physical/mental health assessments, diagnosis codes (such as history of diagnosis of cancer, or diabetes), and limitations (such as cognitive or hearing or vision limitation).\n",
        "\n",
        "To measure utilization, a composite feature, 'UTILIZATION', was created to measure the total number of trips requiring medical care by summing up the following features: the number of office based visits, the number of outpatient visits, the number of ER visits, the number of inpatient nights, and  the number of home health visits.\n",
        "After summing up all these values, the feature was made cateorical, where a sum >= 10 resulted in the value 1 (considered 'high' utilization) and a sum < 10 in the value 0. \n",
        "\n",
        "<!-- (High utilization respondents constitute around 17% of each dataset.) -->"
      ],
      "metadata": {
        "id": "kXnS93QQWtTS"
      }
    },
    {
      "cell_type": "markdown",
      "source": [
        "|features| description|\n",
        "|---|---|\n",
        "| RACE, AGE, SEX, REGION, MARRY | demographic features |\n",
        "| ACTDTY, HONRDC | military service (active or discharge) |\n",
        "| EMPST | employment status |\n",
        "| POVCAT | poverty status |\n",
        "| INSCOV | health insurance coverage indicator|\n",
        "| PERWT15F | person-level weight - calculated based on region, <br> status, race, sex, age & poverty status| \n",
        "| HIBPDX | blood pressure|\n",
        "| CHDDX, ANGIDX, MIDX, OHRTDX | heart diseases |\n",
        "| STRKDX, EMPHDX, CHBRON, CHOLDX, CANCERDX, <br> DIABDX, JTPAIN, ARTHTYPE, ASTHDX, ADHDADDX | other specific diseases (eg. diabetes, cancer, asthma etc.) |\n",
        "| PREGNT | pregnant status |\n",
        "| ADSMOK42 | (non)smoker |\n",
        "| WLKLIM | famility walking dificulties |\n",
        "| ACTLIM, SOCLIM, COGLIM | work/school, social & cognitive limitations |\n",
        "| DFHEAR42, DFSEE42 | hearing & visual impairment |\n",
        "| PHQ242, K6SUM42, MNHLTH, RTHLTH | mental health-related information |\n",
        "| UTILIZATION | healthcare utilization|"
      ],
      "metadata": {
        "id": "Z24HchHKBeVK"
      }
    },
    {
      "cell_type": "markdown",
      "source": [
        "# A1\n",
        "<!-- Data skew -->"
      ],
      "metadata": {
        "id": "d8wr4ahH3bJg"
      }
    },
    {
      "cell_type": "code",
      "source": [
        "print(df.skew())"
      ],
      "metadata": {
        "colab": {
          "base_uri": "https://localhost:8080/",
          "height": 164
        },
        "id": "cA2XB9-c3bmw",
        "outputId": "8ffcd777-9b02-429a-b204-8daab0f0df41"
      },
      "execution_count": null,
      "outputs": [
        {
          "output_type": "error",
          "ename": "NameError",
          "evalue": "ignored",
          "traceback": [
            "\u001b[0;31m---------------------------------------------------------------------------\u001b[0m",
            "\u001b[0;31mNameError\u001b[0m                                 Traceback (most recent call last)",
            "\u001b[0;32m<ipython-input-6-b9bdaf19c078>\u001b[0m in \u001b[0;36m<module>\u001b[0;34m()\u001b[0m\n\u001b[0;32m----> 1\u001b[0;31m \u001b[0mprint\u001b[0m\u001b[0;34m(\u001b[0m\u001b[0mdf\u001b[0m\u001b[0;34m.\u001b[0m\u001b[0mskew\u001b[0m\u001b[0;34m(\u001b[0m\u001b[0;34m)\u001b[0m\u001b[0;34m)\u001b[0m\u001b[0;34m\u001b[0m\u001b[0;34m\u001b[0m\u001b[0m\n\u001b[0m",
            "\u001b[0;31mNameError\u001b[0m: name 'df' is not defined"
          ]
        }
      ]
    },
    {
      "cell_type": "markdown",
      "source": [
        "# A2 \n",
        "<!-- Dataset composition race -->"
      ],
      "metadata": {
        "id": "D1eEqFnW3gq4"
      }
    },
    {
      "cell_type": "code",
      "source": [
        "df[\"UTILIZATION\"].value_counts().plot(kind='bar', rot=45);"
      ],
      "metadata": {
        "colab": {
          "base_uri": "https://localhost:8080/",
          "height": 288
        },
        "id": "OiTlQeun3jfs",
        "outputId": "953d1be3-99e0-4c0c-ab21-24c2eb47ebf2"
      },
      "execution_count": null,
      "outputs": [
        {
          "output_type": "display_data",
          "data": {
            "text/plain": [
              "<Figure size 432x288 with 1 Axes>"
            ],
            "image/png": "[encoded data removed]"
          },
          "metadata": {
            "needs_background": "light"
          }
        }
      ]
    },
    {
      "cell_type": "markdown",
      "source": [
        "# A3\n",
        "<!-- Dataset composition sex -->"
      ],
      "metadata": {
        "id": "V104eMHZ3z6X"
      }
    },
    {
      "cell_type": "code",
      "source": [
        "print(df[\"EMPST\"].value_counts()) # counts\n",
        "\n",
        "df[\"EMPST\"].value_counts().plot(kind='bar', rot=45);"
      ],
      "metadata": {
        "colab": {
          "base_uri": "https://localhost:8080/",
          "height": 373
        },
        "id": "z49wvAgk32i0",
        "outputId": "94f74c1a-0662-4d25-83b9-5edf7129e2a3"
      },
      "execution_count": null,
      "outputs": [
        {
          "output_type": "stream",
          "name": "stdout",
          "text": [
            " 1    1965\n",
            " 4    1237\n",
            "-1    1080\n",
            " 3     113\n",
            " 2       5\n",
            "Name: EMPST, dtype: int64\n"
          ]
        },
        {
          "output_type": "display_data",
          "data": {
            "text/plain": [
              "<Figure size 432x288 with 1 Axes>"
            ],
            "image/png": "[encoded data removed]"
          },
          "metadata": {
            "needs_background": "light"
          }
        }
      ]
    },
    {
      "cell_type": "markdown",
      "source": [
        "# A4\n",
        "<!-- Dataset composition age -->"
      ],
      "metadata": {
        "id": "XItvyhiG38gI"
      }
    },
    {
      "cell_type": "code",
      "source": [
        "df[\"AGE\"].hist(density=1)"
      ],
      "metadata": {
        "colab": {
          "base_uri": "https://localhost:8080/",
          "height": 283
        },
        "id": "IiK9JV_m39El",
        "outputId": "6cb3e283-f0c9-42e1-c71e-ac3c63992fdd"
      },
      "execution_count": null,
      "outputs": [
        {
          "output_type": "execute_result",
          "data": {
            "text/plain": [
              "<matplotlib.axes._subplots.AxesSubplot at 0x7fd218fb2610>"
            ]
          },
          "metadata": {},
          "execution_count": 8
        },
        {
          "output_type": "display_data",
          "data": {
            "text/plain": [
              "<Figure size 432x288 with 1 Axes>"
            ],
            "image/png": "[encoded data removed]"
          },
          "metadata": {
            "needs_background": "light"
          }
        }
      ]
    },
    {
      "cell_type": "markdown",
      "source": [
        "# A5\n",
        "<!-- Label imbalance: check how many samples are labeled as positive and how many as negative -->"
      ],
      "metadata": {
        "id": "xWnYhSS_8ARD"
      }
    },
    {
      "cell_type": "code",
      "source": [
        "df[\"UTILIZATION\"].value_counts(normalize=True) # frequencies"
      ],
      "metadata": {
        "colab": {
          "base_uri": "https://localhost:8080/"
        },
        "id": "h5jI-vYo8A4g",
        "outputId": "4ff0eedb-3930-49cc-bbca-7750df393fbc"
      },
      "execution_count": null,
      "outputs": [
        {
          "output_type": "execute_result",
          "data": {
            "text/plain": [
              "0    0.826818\n",
              "1    0.173182\n",
              "Name: UTILIZATION, dtype: float64"
            ]
          },
          "metadata": {},
          "execution_count": 9
        }
      ]
    },
    {
      "cell_type": "markdown",
      "source": [
        "# A6\n",
        "<!-- Examine how much the label frequencies vary within each group defined by race: -->\n",
        "\n"
      ],
      "metadata": {
        "id": "7UtjlMrB8IJl"
      }
    },
    {
      "cell_type": "code",
      "source": [
        "import seaborn as sns\n",
        "sns.set()\n",
        "sns.barplot(x=\"UTILIZATION\", y=\"RACE\", data=df, ci=95)"
      ],
      "metadata": {
        "colab": {
          "base_uri": "https://localhost:8080/",
          "height": 306
        },
        "id": "ge_n97v58I32",
        "outputId": "b88c1fa5-fad1-4e11-f2dc-b12b4479816b"
      },
      "execution_count": null,
      "outputs": [
        {
          "output_type": "execute_result",
          "data": {
            "text/plain": [
              "<matplotlib.axes._subplots.AxesSubplot at 0x7fd218200b50>"
            ]
          },
          "metadata": {},
          "execution_count": 10
        },
        {
          "output_type": "display_data",
          "data": {
            "text/plain": [
              "<Figure size 432x288 with 1 Axes>"
            ],
            "image/png": "[encoded data removed]"
          },
          "metadata": {}
        }
      ]
    },
    {
      "cell_type": "markdown",
      "source": [
        "# A7\n",
        "<!-- Correlations between attributes -->"
      ],
      "metadata": {
        "id": "6mrJRN5_8QKZ"
      }
    },
    {
      "cell_type": "code",
      "source": [
        "import seaborn as sns\n",
        "print(df.corr())\n",
        "\n",
        "sns.heatmap(df.corr());"
      ],
      "metadata": {
        "colab": {
          "base_uri": "https://localhost:8080/",
          "height": 1000
        },
        "id": "f-tx5sYm8R7j",
        "outputId": "aefc8d86-743a-47e6-f014-2dbd9d4d0b79"
      },
      "execution_count": null,
      "outputs": [
        {
          "output_type": "stream",
          "name": "stdout",
          "text": [
            "               REGION       AGE       SEX      RACE     MARRY    ACTDTY  \\\n",
            "REGION       1.000000 -0.044567  0.022588 -0.120140  0.011745 -0.011883   \n",
            "AGE         -0.044567  1.000000  0.073172  0.222487 -0.707474  0.309410   \n",
            "SEX          0.022588  0.073172  1.000000 -0.011451 -0.051751  0.011689   \n",
            "RACE        -0.120140  0.222487 -0.011451  1.000000 -0.184606  0.117538   \n",
            "MARRY        0.011745 -0.707474 -0.051751 -0.184606  1.000000  0.003535   \n",
            "ACTDTY      -0.011883  0.309410  0.011689  0.117538  0.003535  1.000000   \n",
            "HONRDC       0.042901 -0.728660  0.008473 -0.181948  0.598865  0.141421   \n",
            "RTHLTH      -0.025198  0.344514  0.072363  0.010076 -0.216952  0.079507   \n",
            "MNHLTH      -0.018612  0.216507  0.038419  0.034807 -0.116147  0.045404   \n",
            "HIBPDX      -0.036585  0.596337  0.053337  0.136499 -0.575276 -0.328479   \n",
            "CHDDX       -0.041104  0.700425  0.062751  0.150865 -0.636527 -0.260801   \n",
            "ANGIDX      -0.041643  0.719157  0.059540  0.153599 -0.643771 -0.241980   \n",
            "MIDX        -0.042945  0.713989  0.062255  0.155039 -0.642176 -0.246117   \n",
            "OHRTDX      -0.041209  0.682479  0.048262  0.131669 -0.625012 -0.273396   \n",
            "STRKDX      -0.046398  0.713226  0.053281  0.158813 -0.643217 -0.246155   \n",
            "EMPHDX      -0.041584  0.724643  0.058062  0.155484 -0.645506 -0.236336   \n",
            "CHBRON      -0.043767  0.717475  0.051952  0.152420 -0.642440 -0.239846   \n",
            "CHOLDX      -0.035910  0.604022  0.059464  0.128213 -0.572372 -0.321122   \n",
            "CANCERDX    -0.044587  0.680364  0.052896  0.129728 -0.626200 -0.281661   \n",
            "DIABDX      -0.040332  0.681319  0.054389  0.158853 -0.622544 -0.268884   \n",
            "JTPAIN      -0.033075  0.606483  0.042044  0.090624 -0.582821 -0.314537   \n",
            "ARTHDX      -0.028818  0.608987  0.027884  0.103007 -0.588597 -0.325163   \n",
            "ARTHTYPE    -0.068431  0.509821  0.090491  0.199909 -0.302713  0.271381   \n",
            "ASTHDX       0.004582 -0.024981 -0.077466 -0.025029 -0.009727 -0.038529   \n",
            "ADHDADDX     0.046938 -0.607166 -0.043778 -0.152935  0.563041  0.127106   \n",
            "PREGNT      -0.004566 -0.136710  0.484640 -0.048417 -0.008045 -0.380965   \n",
            "WLKLIM       0.050611 -0.389342 -0.065182 -0.142048  0.175061 -0.272752   \n",
            "ACTLIM      -0.001410  0.228865  0.008290 -0.013028 -0.207457 -0.185752   \n",
            "SOCLIM       0.016689 -0.190748 -0.006126 -0.082822  0.075453 -0.116104   \n",
            "COGLIM      -0.041433  0.698627  0.056236  0.151992 -0.637519 -0.254017   \n",
            "DFHEAR42     0.018193  0.049460  0.030804 -0.017953 -0.051922 -0.116123   \n",
            "DFSEE42      0.027013  0.107928  0.012005  0.025389 -0.087900 -0.066008   \n",
            "ADSMOK42     0.007367  0.620826  0.078373  0.139318 -0.529811 -0.119324   \n",
            "K6SUM42     -0.016908  0.318489  0.062455  0.113449 -0.221965 -0.008155   \n",
            "PHQ242      -0.026330  0.432501  0.072415  0.099447 -0.317243 -0.037024   \n",
            "EMPST       -0.031688  0.624754  0.129447  0.108814 -0.439631  0.019023   \n",
            "POVCAT      -0.024203  0.257906 -0.058123  0.233758 -0.310073 -0.010580   \n",
            "INSCOV       0.033180 -0.118993 -0.007263 -0.245673  0.166325 -0.011638   \n",
            "UTILIZATION -0.074247  0.348385  0.089286  0.175526 -0.193694  0.235131   \n",
            "PERWT15F    -0.164024  0.189584 -0.014214  0.521147 -0.177783  0.094325   \n",
            "WEIGHT      -0.042416  0.028626 -0.000907 -0.004915 -0.020095  0.005773   \n",
            "\n",
            "               HONRDC    RTHLTH    MNHLTH    HIBPDX  ...   DFSEE42  ADSMOK42  \\\n",
            "REGION       0.042901 -0.025198 -0.018612 -0.036585  ...  0.027013  0.007367   \n",
            "AGE         -0.728660  0.344514  0.216507  0.596337  ...  0.107928  0.620826   \n",
            "SEX          0.008473  0.072363  0.038419  0.053337  ...  0.012005  0.078373   \n",
            "RACE        -0.181948  0.010076  0.034807  0.136499  ...  0.025389  0.139318   \n",
            "MARRY        0.598865 -0.216952 -0.116147 -0.575276  ... -0.087900 -0.529811   \n",
            "ACTDTY       0.141421  0.079507  0.045404 -0.328479  ... -0.066008 -0.119324   \n",
            "HONRDC       1.000000 -0.248213 -0.160679 -0.823076  ... -0.111015 -0.684945   \n",
            "RTHLTH      -0.248213  1.000000  0.668539  0.169492  ...  0.000613  0.211519   \n",
            "MNHLTH      -0.160679  0.668539  1.000000  0.102575  ...  0.020547  0.105546   \n",
            "HIBPDX      -0.823076  0.169492  0.102575  1.000000  ...  0.124696  0.707869   \n",
            "CHDDX       -0.864745  0.244205  0.153478  0.950968  ...  0.124241  0.750965   \n",
            "ANGIDX      -0.874244  0.257192  0.160868  0.950171  ...  0.123509  0.758627   \n",
            "MIDX        -0.871333  0.252732  0.157988  0.950550  ...  0.124652  0.755425   \n",
            "OHRTDX      -0.857567  0.237208  0.149678  0.946942  ...  0.123597  0.740993   \n",
            "STRKDX      -0.871758  0.248392  0.152143  0.950657  ...  0.125524  0.757965   \n",
            "EMPHDX      -0.877184  0.261269  0.163194  0.948243  ...  0.125674  0.760923   \n",
            "CHBRON      -0.873977  0.268333  0.171617  0.945553  ...  0.122907  0.756122   \n",
            "CHOLDX      -0.823400  0.186962  0.104013  0.946900  ...  0.124116  0.712944   \n",
            "CANCERDX    -0.856306  0.246507  0.154878  0.941144  ...  0.125681  0.742138   \n",
            "DIABDX      -0.860941  0.217641  0.133480  0.951706  ...  0.129455  0.746760   \n",
            "JTPAIN      -0.818078  0.181275  0.116326  0.927367  ...  0.128286  0.705337   \n",
            "ARTHDX      -0.827023  0.184294  0.115181  0.944340  ...  0.128827  0.716904   \n",
            "ARTHTYPE    -0.313697  0.297947  0.177825  0.163034  ...  0.001559  0.259748   \n",
            "ASTHDX       0.000707 -0.144494 -0.119068  0.017904  ... -0.027931 -0.019020   \n",
            "ADHDADDX     0.689484 -0.240276 -0.131103 -0.736883  ...  0.084722 -0.618295   \n",
            "PREGNT      -0.166989 -0.005731 -0.001146  0.262983  ...  0.050772  0.135764   \n",
            "WLKLIM       0.228702 -0.287199 -0.184388 -0.103881  ...  0.017989 -0.194399   \n",
            "ACTLIM      -0.279740  0.004579  0.011280  0.323944  ...  0.366430  0.225357   \n",
            "SOCLIM       0.116895 -0.153117 -0.139054 -0.051383  ...  0.011757 -0.086090   \n",
            "COGLIM      -0.862841  0.241404  0.138345  0.944511  ...  0.131648  0.751823   \n",
            "DFHEAR42    -0.068175  0.008251  0.013940  0.115401  ...  0.892144  0.143800   \n",
            "DFSEE42     -0.111015  0.000613  0.020547  0.124696  ...  1.000000  0.163057   \n",
            "ADSMOK42    -0.684945  0.211519  0.105546  0.707869  ...  0.163057  1.000000   \n",
            "K6SUM42     -0.328370  0.300226  0.303733  0.285907  ...  0.057906  0.425999   \n",
            "PHQ242      -0.442998  0.339665  0.317423  0.400306  ...  0.080060  0.590643   \n",
            "EMPST       -0.648768  0.310512  0.258796  0.545600  ...  0.083763  0.458427   \n",
            "POVCAT      -0.234156 -0.085330 -0.108530  0.236607  ...  0.076372  0.203696   \n",
            "INSCOV       0.080721  0.040089  0.065171 -0.060783  ... -0.063753 -0.088177   \n",
            "UTILIZATION -0.208374  0.307674  0.207211  0.105215  ...  0.000929  0.220796   \n",
            "PERWT15F    -0.153407 -0.024980 -0.010380  0.129844  ...  0.064290  0.181747   \n",
            "WEIGHT      -0.016895  0.015775  0.012672  0.020581  ... -0.030516  0.020881   \n",
            "\n",
            "              K6SUM42    PHQ242     EMPST    POVCAT    INSCOV  UTILIZATION  \\\n",
            "REGION      -0.016908 -0.026330 -0.031688 -0.024203  0.033180    -0.074247   \n",
            "AGE          0.318489  0.432501  0.624754  0.257906 -0.118993     0.348385   \n",
            "SEX          0.062455  0.072415  0.129447 -0.058123 -0.007263     0.089286   \n",
            "RACE         0.113449  0.099447  0.108814  0.233758 -0.245673     0.175526   \n",
            "MARRY       -0.221965 -0.317243 -0.439631 -0.310073  0.166325    -0.193694   \n",
            "ACTDTY      -0.008155 -0.037024  0.019023 -0.010580 -0.011638     0.235131   \n",
            "HONRDC      -0.328370 -0.442998 -0.648768 -0.234156  0.080721    -0.208374   \n",
            "RTHLTH       0.300226  0.339665  0.310512 -0.085330  0.040089     0.307674   \n",
            "MNHLTH       0.303733  0.317423  0.258796 -0.108530  0.065171     0.207211   \n",
            "HIBPDX       0.285907  0.400306  0.545600  0.236607 -0.060783     0.105215   \n",
            "CHDDX        0.342120  0.467087  0.597576  0.245036 -0.075367     0.154726   \n",
            "ANGIDX       0.345426  0.470940  0.612955  0.244694 -0.075898     0.171805   \n",
            "MIDX         0.345642  0.472649  0.608998  0.245801 -0.075318     0.170757   \n",
            "OHRTDX       0.331159  0.453882  0.586340  0.236268 -0.065059     0.138275   \n",
            "STRKDX       0.341745  0.464525  0.605793  0.247406 -0.078974     0.168212   \n",
            "EMPHDX       0.349809  0.479118  0.616766  0.245865 -0.077397     0.179445   \n",
            "CHBRON       0.347847  0.468578  0.611430  0.246514 -0.077458     0.173754   \n",
            "CHOLDX       0.308879  0.425123  0.553536  0.221700 -0.051457     0.103066   \n",
            "CANCERDX     0.338322  0.466244  0.592842  0.227857 -0.065542     0.140174   \n",
            "DIABDX       0.334929  0.453815  0.584405  0.249770 -0.079828     0.145253   \n",
            "JTPAIN       0.288175  0.406114  0.549877  0.217698 -0.056445     0.082117   \n",
            "ARTHDX       0.301171  0.414879  0.546756  0.227101 -0.050070     0.079180   \n",
            "ARTHTYPE     0.208342  0.278098  0.330518  0.103215 -0.103364     0.367903   \n",
            "ASTHDX      -0.109014 -0.118750 -0.052762  0.019308  0.012866    -0.141052   \n",
            "ADHDADDX    -0.284466 -0.391571 -0.436158 -0.176637  0.042289    -0.180055   \n",
            "PREGNT       0.051110  0.056803  0.196202 -0.080752  0.022308    -0.045458   \n",
            "WLKLIM      -0.268260 -0.322162 -0.331828  0.000389  0.002838    -0.408439   \n",
            "ACTLIM       0.020769  0.047220  0.166061  0.159274 -0.068139    -0.096941   \n",
            "SOCLIM      -0.194228 -0.266290 -0.217846  0.032962 -0.014131    -0.261269   \n",
            "COGLIM       0.319877  0.437216  0.587241  0.254648 -0.085120     0.148998   \n",
            "DFHEAR42     0.037167  0.058439  0.049627  0.059062 -0.048827    -0.027617   \n",
            "DFSEE42      0.057906  0.080060  0.083763  0.076372 -0.063753     0.000929   \n",
            "ADSMOK42     0.425999  0.590643  0.458427  0.203696 -0.088177     0.220796   \n",
            "K6SUM42      1.000000  0.767280  0.321573  0.004795 -0.005176     0.256872   \n",
            "PHQ242       0.767280  1.000000  0.401239  0.014884  0.012969     0.288972   \n",
            "EMPST        0.321573  0.401239  1.000000  0.026071  0.064523     0.302705   \n",
            "POVCAT       0.004795  0.014884  0.026071  1.000000 -0.445520     0.076422   \n",
            "INSCOV      -0.005176  0.012969  0.064523 -0.445520  1.000000    -0.081416   \n",
            "UTILIZATION  0.256872  0.288972  0.302705  0.076422 -0.081416     1.000000   \n",
            "PERWT15F     0.086470  0.092310  0.090757  0.334778 -0.241104     0.150768   \n",
            "WEIGHT       0.014939  0.022971  0.045479 -0.004768  0.002877    -0.002517   \n",
            "\n",
            "             PERWT15F    WEIGHT  \n",
            "REGION      -0.164024 -0.042416  \n",
            "AGE          0.189584  0.028626  \n",
            "SEX         -0.014214 -0.000907  \n",
            "RACE         0.521147 -0.004915  \n",
            "MARRY       -0.177783 -0.020095  \n",
            "ACTDTY       0.094325  0.005773  \n",
            "HONRDC      -0.153407 -0.016895  \n",
            "RTHLTH      -0.024980  0.015775  \n",
            "MNHLTH      -0.010380  0.012672  \n",
            "HIBPDX       0.129844  0.020581  \n",
            "CHDDX        0.135031  0.024411  \n",
            "ANGIDX       0.133926  0.027505  \n",
            "MIDX         0.134736  0.027181  \n",
            "OHRTDX       0.116622  0.021257  \n",
            "STRKDX       0.141427  0.025306  \n",
            "EMPHDX       0.136249  0.025700  \n",
            "CHBRON       0.136477  0.028003  \n",
            "CHOLDX       0.112809  0.027345  \n",
            "CANCERDX     0.118197  0.026053  \n",
            "DIABDX       0.140358  0.021615  \n",
            "JTPAIN       0.092988  0.029493  \n",
            "ARTHDX       0.101752  0.025852  \n",
            "ARTHTYPE     0.138866  0.008355  \n",
            "ASTHDX      -0.036863 -0.012002  \n",
            "ADHDADDX    -0.117230 -0.019532  \n",
            "PREGNT      -0.045351 -0.010702  \n",
            "WLKLIM      -0.078447 -0.012938  \n",
            "ACTLIM       0.028282  0.000147  \n",
            "SOCLIM      -0.028994 -0.008808  \n",
            "COGLIM       0.139202  0.031509  \n",
            "DFHEAR42     0.043063 -0.033431  \n",
            "DFSEE42      0.064290 -0.030516  \n",
            "ADSMOK42     0.181747  0.020881  \n",
            "K6SUM42      0.086470  0.014939  \n",
            "PHQ242       0.092310  0.022971  \n",
            "EMPST        0.090757  0.045479  \n",
            "POVCAT       0.334778 -0.004768  \n",
            "INSCOV      -0.241104  0.002877  \n",
            "UTILIZATION  0.150768 -0.002517  \n",
            "PERWT15F     1.000000  0.020255  \n",
            "WEIGHT       0.020255  1.000000  \n",
            "\n",
            "[41 rows x 41 columns]\n"
          ]
        },
        {
          "output_type": "display_data",
          "data": {
            "text/plain": [
              "<Figure size 432x288 with 2 Axes>"
            ],
            "image/png": "[encoded data removed]"
          },
          "metadata": {
            "needs_background": "light"
          }
        }
      ]
    },
    {
      "cell_type": "markdown",
      "source": [
        "# A8\n",
        "<!-- Missing Values -->\n"
      ],
      "metadata": {
        "id": "Qt7Fkx3-8kwC"
      }
    },
    {
      "cell_type": "code",
      "source": [
        "pd_data = df\n",
        "print(\"Number of missing values for each attribute: \", pd_data.isnull().sum())"
      ],
      "metadata": {
        "colab": {
          "base_uri": "https://localhost:8080/"
        },
        "id": "KOR9gIvF8lae",
        "outputId": "12b1f98f-5a1a-406b-e421-8ff6d18e0c0a"
      },
      "execution_count": null,
      "outputs": [
        {
          "output_type": "stream",
          "name": "stdout",
          "text": [
            "Number of missing values for each attribute:  REGION           0\n",
            "AGE              0\n",
            "SEX              0\n",
            "RACE             0\n",
            "MARRY            0\n",
            "ACTDTY           0\n",
            "HONRDC           0\n",
            "RTHLTH           0\n",
            "MNHLTH           0\n",
            "HIBPDX           0\n",
            "CHDDX            0\n",
            "ANGIDX           0\n",
            "MIDX             0\n",
            "OHRTDX           0\n",
            "STRKDX           0\n",
            "EMPHDX           0\n",
            "CHBRON           0\n",
            "CHOLDX           0\n",
            "CANCERDX         0\n",
            "DIABDX           0\n",
            "JTPAIN           0\n",
            "ARTHDX           0\n",
            "ARTHTYPE         0\n",
            "ASTHDX           0\n",
            "ADHDADDX         0\n",
            "PREGNT           0\n",
            "WLKLIM           0\n",
            "ACTLIM           0\n",
            "SOCLIM           0\n",
            "COGLIM           0\n",
            "DFHEAR42         0\n",
            "DFSEE42          0\n",
            "ADSMOK42         0\n",
            "K6SUM42          0\n",
            "PHQ242           0\n",
            "EMPST            0\n",
            "POVCAT           0\n",
            "INSCOV           0\n",
            "UTILIZATION      0\n",
            "PERWT15F         0\n",
            "WEIGHT         790\n",
            "dtype: int64\n"
          ]
        }
      ]
    },
    {
      "cell_type": "markdown",
      "source": [
        "# A9\n",
        "<!-- Drop any missing values that may exist. -->"
      ],
      "metadata": {
        "id": "5pp4bIstqFje"
      }
    },
    {
      "cell_type": "code",
      "source": [
        "df = df.dropna()"
      ],
      "metadata": {
        "id": "N4E0Rid7qIvn"
      },
      "execution_count": null,
      "outputs": []
    },
    {
      "cell_type": "code",
      "source": [
        "pd_data = df\n",
        "print(\"Number of missing values for each attribute: \", pd_data.isnull().sum())"
      ],
      "metadata": {
        "colab": {
          "base_uri": "https://localhost:8080/"
        },
        "id": "8K_j1vKvqKoT",
        "outputId": "037aadba-d203-441d-ac1f-e3f547fc70c4"
      },
      "execution_count": null,
      "outputs": [
        {
          "output_type": "stream",
          "name": "stdout",
          "text": [
            "Number of missing values for each attribute:  REGION         0\n",
            "AGE            0\n",
            "SEX            0\n",
            "RACE           0\n",
            "MARRY          0\n",
            "ACTDTY         0\n",
            "HONRDC         0\n",
            "RTHLTH         0\n",
            "MNHLTH         0\n",
            "HIBPDX         0\n",
            "CHDDX          0\n",
            "ANGIDX         0\n",
            "MIDX           0\n",
            "OHRTDX         0\n",
            "STRKDX         0\n",
            "EMPHDX         0\n",
            "CHBRON         0\n",
            "CHOLDX         0\n",
            "CANCERDX       0\n",
            "DIABDX         0\n",
            "JTPAIN         0\n",
            "ARTHDX         0\n",
            "ARTHTYPE       0\n",
            "ASTHDX         0\n",
            "ADHDADDX       0\n",
            "PREGNT         0\n",
            "WLKLIM         0\n",
            "ACTLIM         0\n",
            "SOCLIM         0\n",
            "COGLIM         0\n",
            "DFHEAR42       0\n",
            "DFSEE42        0\n",
            "ADSMOK42       0\n",
            "K6SUM42        0\n",
            "PHQ242         0\n",
            "EMPST          0\n",
            "POVCAT         0\n",
            "INSCOV         0\n",
            "UTILIZATION    0\n",
            "PERWT15F       0\n",
            "WEIGHT         0\n",
            "dtype: int64\n"
          ]
        }
      ]
    },
    {
      "cell_type": "markdown",
      "source": [
        "# A10\n",
        "<!-- Duplicated values -->"
      ],
      "metadata": {
        "id": "cOmNIBhY8oQ4"
      }
    },
    {
      "cell_type": "code",
      "source": [
        "print(df.duplicated().sum())"
      ],
      "metadata": {
        "colab": {
          "base_uri": "https://localhost:8080/"
        },
        "id": "3N2LAoxg8tp3",
        "outputId": "d336b09a-739a-4239-aaf1-2417bac2bdf7"
      },
      "execution_count": null,
      "outputs": [
        {
          "output_type": "stream",
          "name": "stdout",
          "text": [
            "870\n"
          ]
        }
      ]
    },
    {
      "cell_type": "markdown",
      "source": [
        "# A11\n",
        "<!-- Drop any duplicates that might exist. -->"
      ],
      "metadata": {
        "id": "PEG7rHdq8yqY"
      }
    },
    {
      "cell_type": "code",
      "source": [
        "df = df.drop_duplicates()"
      ],
      "metadata": {
        "id": "83HUhuEK8zQp"
      },
      "execution_count": null,
      "outputs": []
    },
    {
      "cell_type": "code",
      "source": [
        "print(df.duplicated().sum())"
      ],
      "metadata": {
        "colab": {
          "base_uri": "https://localhost:8080/"
        },
        "id": "TWSlTDLip89e",
        "outputId": "6ed90eb4-89b5-4ef4-f51e-2cf4e943ebc7"
      },
      "execution_count": null,
      "outputs": [
        {
          "output_type": "stream",
          "name": "stdout",
          "text": [
            "870\n"
          ]
        }
      ]
    },
    {
      "cell_type": "markdown",
      "source": [
        "# A12\n",
        "<!-- Outliers -->"
      ],
      "metadata": {
        "id": "sLtjq_t083gN"
      }
    },
    {
      "cell_type": "code",
      "source": [
        "# PERWT15F = person level weight (region, status, race, sex, age, poverty status)\n",
        "sns.boxplot(df['PERWT15F'])"
      ],
      "metadata": {
        "colab": {
          "base_uri": "https://localhost:8080/",
          "height": 357
        },
        "id": "9cMOVXTe84AU",
        "outputId": "2604b9c8-ff1b-42e5-f037-89e445ef7b98"
      },
      "execution_count": null,
      "outputs": [
        {
          "output_type": "stream",
          "name": "stderr",
          "text": [
            "/usr/local/lib/python3.7/dist-packages/seaborn/_decorators.py:43: FutureWarning: Pass the following variable as a keyword arg: x. From version 0.12, the only valid positional argument will be `data`, and passing other arguments without an explicit keyword will result in an error or misinterpretation.\n",
            "  FutureWarning\n"
          ]
        },
        {
          "output_type": "execute_result",
          "data": {
            "text/plain": [
              "<matplotlib.axes._subplots.AxesSubplot at 0x7fd21589e090>"
            ]
          },
          "metadata": {},
          "execution_count": 18
        },
        {
          "output_type": "display_data",
          "data": {
            "text/plain": [
              "<Figure size 432x288 with 1 Axes>"
            ],
            "image/png": "[encoded data removed]"
          },
          "metadata": {}
        }
      ]
    },
    {
      "cell_type": "markdown",
      "source": [
        "# B1 \n",
        "<!-- Define target and sensitive attributes. -->"
      ],
      "metadata": {
        "id": "xND4V7dzKQI1"
      }
    },
    {
      "cell_type": "code",
      "source": [
        "# Define target and sensitive attributes.\n",
        "target_variable = \"UTILIZATION\"\n",
        "sensitive = [\"RACE\", \"SEX\"] # Or just: [\"RACE\"]\n",
        "\n",
        "Y, A = df.loc[:, target_variable], df.loc[:, sensitive]"
      ],
      "metadata": {
        "id": "a9SZ4Ch1KfNj"
      },
      "execution_count": null,
      "outputs": []
    },
    {
      "cell_type": "markdown",
      "source": [
        "# B2 \n",
        "<!-- Mark categorical features. -->"
      ],
      "metadata": {
        "id": "qGMqUblgMToC"
      }
    },
    {
      "cell_type": "code",
      "source": [
        "# Mark categorical features.\n",
        "categorical_features=['REGION','SEX','MARRY',\n",
        "                      'ACTDTY','HONRDC','RTHLTH','MNHLTH','HIBPDX','CHDDX','ANGIDX',\n",
        "                      'MIDX','OHRTDX','STRKDX','EMPHDX','CHBRON','CHOLDX','CANCERDX','DIABDX',\n",
        "                      'JTPAIN','ARTHDX','ARTHTYPE','ASTHDX','ADHDADDX','PREGNT','WLKLIM',\n",
        "                      'ACTLIM','SOCLIM','COGLIM','DFHEAR42','DFSEE42','ADSMOK42',\n",
        "                      'PHQ242','EMPST','POVCAT','INSCOV']\n",
        "\n",
        "df_raw = df\n",
        "for col_name in categorical_features:\n",
        "  df[col_name] = df[col_name].astype(\"category\")"
      ],
      "metadata": {
        "id": "vr8zGfE6MSqh"
      },
      "execution_count": null,
      "outputs": []
    },
    {
      "cell_type": "markdown",
      "source": [
        "# B3\n",
        "<!-- Drop the features that we don't want to use in our model and expand the categorical features into 0/1 indicators (\"dummies\"). -->"
      ],
      "metadata": {
        "id": "QMpOGhvDKfbn"
      }
    },
    {
      "cell_type": "code",
      "source": [
        "# Drop the features that we don't want to use in our model and expand the categorical features into 0/1 indicators (\"dummies\").\n",
        "X = pd.get_dummies(df.drop(columns=[\n",
        "    \"RACE\",\n",
        "    \"SEX\", \n",
        "    \"UTILIZATION\"\n",
        "]))"
      ],
      "metadata": {
        "id": "qJTBz2IJKjB_"
      },
      "execution_count": null,
      "outputs": []
    },
    {
      "cell_type": "markdown",
      "source": [
        "# C1\n",
        "<!-- Next, we split data into training and test. -->"
      ],
      "metadata": {
        "id": "egRFfVB8M20M"
      }
    },
    {
      "cell_type": "code",
      "source": [
        "# Train-test split\n",
        "random_seed = 445\n",
        "np.random.seed(random_seed)\n",
        "\n",
        "X_train, X_test, Y_train, Y_test, A_train, A_test, df_train, df_test = train_test_split(\n",
        "    X,\n",
        "    Y,\n",
        "    A,\n",
        "    df,\n",
        "    test_size=0.50,\n",
        "    stratify=Y,\n",
        "    random_state=random_seed\n",
        ")"
      ],
      "metadata": {
        "id": "qJdfKJhxM6x_",
        "colab": {
          "base_uri": "https://localhost:8080/",
          "height": 363
        },
        "outputId": "aeec7204-6e2e-42b1-cf97-8fa714da9396"
      },
      "execution_count": null,
      "outputs": [
        {
          "output_type": "error",
          "ename": "ValueError",
          "evalue": "ignored",
          "traceback": [
            "\u001b[0;31m---------------------------------------------------------------------------\u001b[0m",
            "\u001b[0;31mValueError\u001b[0m                                Traceback (most recent call last)",
            "\u001b[0;32m<ipython-input-16-21c9f010b185>\u001b[0m in \u001b[0;36m<module>\u001b[0;34m()\u001b[0m\n\u001b[1;32m     10\u001b[0m     \u001b[0mtest_size\u001b[0m\u001b[0;34m=\u001b[0m\u001b[0;36m0.50\u001b[0m\u001b[0;34m,\u001b[0m\u001b[0;34m\u001b[0m\u001b[0;34m\u001b[0m\u001b[0m\n\u001b[1;32m     11\u001b[0m     \u001b[0mstratify\u001b[0m\u001b[0;34m=\u001b[0m\u001b[0mY\u001b[0m\u001b[0;34m,\u001b[0m\u001b[0;34m\u001b[0m\u001b[0;34m\u001b[0m\u001b[0m\n\u001b[0;32m---> 12\u001b[0;31m     \u001b[0mrandom_state\u001b[0m\u001b[0;34m=\u001b[0m\u001b[0mrandom_seed\u001b[0m\u001b[0;34m\u001b[0m\u001b[0;34m\u001b[0m\u001b[0m\n\u001b[0m\u001b[1;32m     13\u001b[0m )\n",
            "\u001b[0;32m/usr/local/lib/python3.7/dist-packages/sklearn/model_selection/_split.py\u001b[0m in \u001b[0;36mtrain_test_split\u001b[0;34m(test_size, train_size, random_state, shuffle, stratify, *arrays)\u001b[0m\n\u001b[1;32m   2415\u001b[0m         \u001b[0;32mraise\u001b[0m \u001b[0mValueError\u001b[0m\u001b[0;34m(\u001b[0m\u001b[0;34m\"At least one array required as input\"\u001b[0m\u001b[0;34m)\u001b[0m\u001b[0;34m\u001b[0m\u001b[0;34m\u001b[0m\u001b[0m\n\u001b[1;32m   2416\u001b[0m \u001b[0;34m\u001b[0m\u001b[0m\n\u001b[0;32m-> 2417\u001b[0;31m     \u001b[0marrays\u001b[0m \u001b[0;34m=\u001b[0m \u001b[0mindexable\u001b[0m\u001b[0;34m(\u001b[0m\u001b[0;34m*\u001b[0m\u001b[0marrays\u001b[0m\u001b[0;34m)\u001b[0m\u001b[0;34m\u001b[0m\u001b[0;34m\u001b[0m\u001b[0m\n\u001b[0m\u001b[1;32m   2418\u001b[0m \u001b[0;34m\u001b[0m\u001b[0m\n\u001b[1;32m   2419\u001b[0m     \u001b[0mn_samples\u001b[0m \u001b[0;34m=\u001b[0m \u001b[0m_num_samples\u001b[0m\u001b[0;34m(\u001b[0m\u001b[0marrays\u001b[0m\u001b[0;34m[\u001b[0m\u001b[0;36m0\u001b[0m\u001b[0;34m]\u001b[0m\u001b[0;34m)\u001b[0m\u001b[0;34m\u001b[0m\u001b[0;34m\u001b[0m\u001b[0m\n",
            "\u001b[0;32m/usr/local/lib/python3.7/dist-packages/sklearn/utils/validation.py\u001b[0m in \u001b[0;36mindexable\u001b[0;34m(*iterables)\u001b[0m\n\u001b[1;32m    376\u001b[0m \u001b[0;34m\u001b[0m\u001b[0m\n\u001b[1;32m    377\u001b[0m     \u001b[0mresult\u001b[0m \u001b[0;34m=\u001b[0m \u001b[0;34m[\u001b[0m\u001b[0m_make_indexable\u001b[0m\u001b[0;34m(\u001b[0m\u001b[0mX\u001b[0m\u001b[0;34m)\u001b[0m \u001b[0;32mfor\u001b[0m \u001b[0mX\u001b[0m \u001b[0;32min\u001b[0m \u001b[0miterables\u001b[0m\u001b[0;34m]\u001b[0m\u001b[0;34m\u001b[0m\u001b[0;34m\u001b[0m\u001b[0m\n\u001b[0;32m--> 378\u001b[0;31m     \u001b[0mcheck_consistent_length\u001b[0m\u001b[0;34m(\u001b[0m\u001b[0;34m*\u001b[0m\u001b[0mresult\u001b[0m\u001b[0;34m)\u001b[0m\u001b[0;34m\u001b[0m\u001b[0;34m\u001b[0m\u001b[0m\n\u001b[0m\u001b[1;32m    379\u001b[0m     \u001b[0;32mreturn\u001b[0m \u001b[0mresult\u001b[0m\u001b[0;34m\u001b[0m\u001b[0;34m\u001b[0m\u001b[0m\n\u001b[1;32m    380\u001b[0m \u001b[0;34m\u001b[0m\u001b[0m\n",
            "\u001b[0;32m/usr/local/lib/python3.7/dist-packages/sklearn/utils/validation.py\u001b[0m in \u001b[0;36mcheck_consistent_length\u001b[0;34m(*arrays)\u001b[0m\n\u001b[1;32m    332\u001b[0m         raise ValueError(\n\u001b[1;32m    333\u001b[0m             \u001b[0;34m\"Found input variables with inconsistent numbers of samples: %r\"\u001b[0m\u001b[0;34m\u001b[0m\u001b[0;34m\u001b[0m\u001b[0m\n\u001b[0;32m--> 334\u001b[0;31m             \u001b[0;34m%\u001b[0m \u001b[0;34m[\u001b[0m\u001b[0mint\u001b[0m\u001b[0;34m(\u001b[0m\u001b[0ml\u001b[0m\u001b[0;34m)\u001b[0m \u001b[0;32mfor\u001b[0m \u001b[0ml\u001b[0m \u001b[0;32min\u001b[0m \u001b[0mlengths\u001b[0m\u001b[0;34m]\u001b[0m\u001b[0;34m\u001b[0m\u001b[0;34m\u001b[0m\u001b[0m\n\u001b[0m\u001b[1;32m    335\u001b[0m         )\n\u001b[1;32m    336\u001b[0m \u001b[0;34m\u001b[0m\u001b[0m\n",
            "\u001b[0;31mValueError\u001b[0m: Found input variables with inconsistent numbers of samples: [4400, 4400, 4400, 3610]"
          ]
        }
      ]
    },
    {
      "cell_type": "markdown",
      "source": [
        "# C2\n",
        "<!-- Our performance metric is balanced accuracy, so for the purposes of training (but not evaluation!) we will resample the data set, so that it has the same number of positive and negative examples. This means that we can use estimators that optimize standard accuracy (although some estimators allow the use us importance weights).\n",
        "\n",
        "Because we are downsampling the number of negative examples, we create a training dataset with a significantly lower number of data points. For more complex machine learning models, this lower number of training data points may affect the model's accuracy. -->"
      ],
      "metadata": {
        "id": "Vm5zsSQ4NGpV"
      }
    },
    {
      "cell_type": "code",
      "source": [
        "def resample_dataset(X_train, Y_train, A_train):\n",
        "\n",
        "  negative_ids = Y_train[Y_train == 0].index\n",
        "  positive_ids = Y_train[Y_train == 1].index\n",
        "  balanced_ids = positive_ids.union(np.random.choice(a=negative_ids, size=len(positive_ids)))\n",
        "\n",
        "  X_train = X_train.loc[balanced_ids, :]\n",
        "  Y_train = Y_train.loc[balanced_ids]\n",
        "  A_train = A_train.loc[balanced_ids, :]\n",
        "  return X_train, Y_train, A_train\n",
        "\n",
        "X_train_bal, Y_train_bal, A_train_bal = resample_dataset(X_train, Y_train, A_train)\n",
        "\n",
        "print(\"Before: \" + str(X_train.shape[0]) + \" records.\")\n",
        "print(\"After: \" + str(X_train_bal.shape[0])+ \" records.\")"
      ],
      "metadata": {
        "colab": {
          "base_uri": "https://localhost:8080/"
        },
        "id": "qIfqAwouNHIk",
        "outputId": "b1458d4e-5168-4b95-92c8-635069a1ee1b"
      },
      "execution_count": null,
      "outputs": [
        {
          "output_type": "stream",
          "name": "stdout",
          "text": [
            "Before: 2200 records.\n",
            "After: 762 records.\n"
          ]
        }
      ]
    },
    {
      "cell_type": "markdown",
      "source": [
        "# C3\n",
        "<!-- **Train the model** -->"
      ],
      "metadata": {
        "id": "-592DfQ5X3Uw"
      }
    },
    {
      "cell_type": "markdown",
      "source": [
        "We train a logistic regression model and save its predictions on test data for analysis."
      ],
      "metadata": {
        "id": "Q1KvNXcgOJub"
      }
    },
    {
      "cell_type": "code",
      "source": [
        "from sklearn.pipeline import Pipeline\n",
        "unmitigated_pipeline = Pipeline(steps=[\n",
        "    (\"preprocessing\", StandardScaler()),\n",
        "    (\"logistic_regression\", LogisticRegression(max_iter=1000))\n",
        "])\n",
        "\n",
        "unmitigated_pipeline.fit(X_train_bal, Y_train_bal)\n",
        "\n",
        "Y_pred_proba = unmitigated_pipeline.predict_proba(X_test)[:,1] \n",
        "Y_pred = unmitigated_pipeline.predict(X_test)                  "
      ],
      "metadata": {
        "id": "dN68pCONOKKp",
        "colab": {
          "base_uri": "https://localhost:8080/",
          "height": 380
        },
        "outputId": "4b9b1332-f4fc-4e86-892e-69e2f90b3cc6"
      },
      "execution_count": null,
      "outputs": [
        {
          "output_type": "error",
          "ename": "ValueError",
          "evalue": "ignored",
          "traceback": [
            "\u001b[0;31m---------------------------------------------------------------------------\u001b[0m",
            "\u001b[0;31mValueError\u001b[0m                                Traceback (most recent call last)",
            "\u001b[0;32m<ipython-input-15-9a24cb1aaa93>\u001b[0m in \u001b[0;36m<module>\u001b[0;34m()\u001b[0m\n\u001b[1;32m      5\u001b[0m ])\n\u001b[1;32m      6\u001b[0m \u001b[0;34m\u001b[0m\u001b[0m\n\u001b[0;32m----> 7\u001b[0;31m \u001b[0munmitigated_pipeline\u001b[0m\u001b[0;34m.\u001b[0m\u001b[0mfit\u001b[0m\u001b[0;34m(\u001b[0m\u001b[0mX_train_bal\u001b[0m\u001b[0;34m,\u001b[0m \u001b[0mY_train_bal\u001b[0m\u001b[0;34m)\u001b[0m\u001b[0;34m\u001b[0m\u001b[0;34m\u001b[0m\u001b[0m\n\u001b[0m\u001b[1;32m      8\u001b[0m \u001b[0;34m\u001b[0m\u001b[0m\n\u001b[1;32m      9\u001b[0m \u001b[0mY_pred_proba\u001b[0m \u001b[0;34m=\u001b[0m \u001b[0munmitigated_pipeline\u001b[0m\u001b[0;34m.\u001b[0m\u001b[0mpredict_proba\u001b[0m\u001b[0;34m(\u001b[0m\u001b[0mX_test\u001b[0m\u001b[0;34m)\u001b[0m\u001b[0;34m[\u001b[0m\u001b[0;34m:\u001b[0m\u001b[0;34m,\u001b[0m\u001b[0;36m1\u001b[0m\u001b[0;34m]\u001b[0m\u001b[0;34m\u001b[0m\u001b[0;34m\u001b[0m\u001b[0m\n",
            "\u001b[0;32m/usr/local/lib/python3.7/dist-packages/sklearn/pipeline.py\u001b[0m in \u001b[0;36mfit\u001b[0;34m(self, X, y, **fit_params)\u001b[0m\n\u001b[1;32m    392\u001b[0m             \u001b[0;32mif\u001b[0m \u001b[0mself\u001b[0m\u001b[0;34m.\u001b[0m\u001b[0m_final_estimator\u001b[0m \u001b[0;34m!=\u001b[0m \u001b[0;34m\"passthrough\"\u001b[0m\u001b[0;34m:\u001b[0m\u001b[0;34m\u001b[0m\u001b[0;34m\u001b[0m\u001b[0m\n\u001b[1;32m    393\u001b[0m                 \u001b[0mfit_params_last_step\u001b[0m \u001b[0;34m=\u001b[0m \u001b[0mfit_params_steps\u001b[0m\u001b[0;34m[\u001b[0m\u001b[0mself\u001b[0m\u001b[0;34m.\u001b[0m\u001b[0msteps\u001b[0m\u001b[0;34m[\u001b[0m\u001b[0;34m-\u001b[0m\u001b[0;36m1\u001b[0m\u001b[0;34m]\u001b[0m\u001b[0;34m[\u001b[0m\u001b[0;36m0\u001b[0m\u001b[0;34m]\u001b[0m\u001b[0;34m]\u001b[0m\u001b[0;34m\u001b[0m\u001b[0;34m\u001b[0m\u001b[0m\n\u001b[0;32m--> 394\u001b[0;31m                 \u001b[0mself\u001b[0m\u001b[0;34m.\u001b[0m\u001b[0m_final_estimator\u001b[0m\u001b[0;34m.\u001b[0m\u001b[0mfit\u001b[0m\u001b[0;34m(\u001b[0m\u001b[0mXt\u001b[0m\u001b[0;34m,\u001b[0m \u001b[0my\u001b[0m\u001b[0;34m,\u001b[0m \u001b[0;34m**\u001b[0m\u001b[0mfit_params_last_step\u001b[0m\u001b[0;34m)\u001b[0m\u001b[0;34m\u001b[0m\u001b[0;34m\u001b[0m\u001b[0m\n\u001b[0m\u001b[1;32m    395\u001b[0m \u001b[0;34m\u001b[0m\u001b[0m\n\u001b[1;32m    396\u001b[0m         \u001b[0;32mreturn\u001b[0m \u001b[0mself\u001b[0m\u001b[0;34m\u001b[0m\u001b[0;34m\u001b[0m\u001b[0m\n",
            "\u001b[0;32m/usr/local/lib/python3.7/dist-packages/sklearn/linear_model/_logistic.py\u001b[0m in \u001b[0;36mfit\u001b[0;34m(self, X, y, sample_weight)\u001b[0m\n\u001b[1;32m   1512\u001b[0m             \u001b[0mdtype\u001b[0m\u001b[0;34m=\u001b[0m\u001b[0m_dtype\u001b[0m\u001b[0;34m,\u001b[0m\u001b[0;34m\u001b[0m\u001b[0;34m\u001b[0m\u001b[0m\n\u001b[1;32m   1513\u001b[0m             \u001b[0morder\u001b[0m\u001b[0;34m=\u001b[0m\u001b[0;34m\"C\"\u001b[0m\u001b[0;34m,\u001b[0m\u001b[0;34m\u001b[0m\u001b[0;34m\u001b[0m\u001b[0m\n\u001b[0;32m-> 1514\u001b[0;31m             \u001b[0maccept_large_sparse\u001b[0m\u001b[0;34m=\u001b[0m\u001b[0msolver\u001b[0m \u001b[0;32mnot\u001b[0m \u001b[0;32min\u001b[0m \u001b[0;34m[\u001b[0m\u001b[0;34m\"liblinear\"\u001b[0m\u001b[0;34m,\u001b[0m \u001b[0;34m\"sag\"\u001b[0m\u001b[0;34m,\u001b[0m \u001b[0;34m\"saga\"\u001b[0m\u001b[0;34m]\u001b[0m\u001b[0;34m,\u001b[0m\u001b[0;34m\u001b[0m\u001b[0;34m\u001b[0m\u001b[0m\n\u001b[0m\u001b[1;32m   1515\u001b[0m         )\n\u001b[1;32m   1516\u001b[0m         \u001b[0mcheck_classification_targets\u001b[0m\u001b[0;34m(\u001b[0m\u001b[0my\u001b[0m\u001b[0;34m)\u001b[0m\u001b[0;34m\u001b[0m\u001b[0;34m\u001b[0m\u001b[0m\n",
            "\u001b[0;32m/usr/local/lib/python3.7/dist-packages/sklearn/base.py\u001b[0m in \u001b[0;36m_validate_data\u001b[0;34m(self, X, y, reset, validate_separately, **check_params)\u001b[0m\n\u001b[1;32m    579\u001b[0m                 \u001b[0my\u001b[0m \u001b[0;34m=\u001b[0m \u001b[0mcheck_array\u001b[0m\u001b[0;34m(\u001b[0m\u001b[0my\u001b[0m\u001b[0;34m,\u001b[0m \u001b[0;34m**\u001b[0m\u001b[0mcheck_y_params\u001b[0m\u001b[0;34m)\u001b[0m\u001b[0;34m\u001b[0m\u001b[0;34m\u001b[0m\u001b[0m\n\u001b[1;32m    580\u001b[0m             \u001b[0;32melse\u001b[0m\u001b[0;34m:\u001b[0m\u001b[0;34m\u001b[0m\u001b[0;34m\u001b[0m\u001b[0m\n\u001b[0;32m--> 581\u001b[0;31m                 \u001b[0mX\u001b[0m\u001b[0;34m,\u001b[0m \u001b[0my\u001b[0m \u001b[0;34m=\u001b[0m \u001b[0mcheck_X_y\u001b[0m\u001b[0;34m(\u001b[0m\u001b[0mX\u001b[0m\u001b[0;34m,\u001b[0m \u001b[0my\u001b[0m\u001b[0;34m,\u001b[0m \u001b[0;34m**\u001b[0m\u001b[0mcheck_params\u001b[0m\u001b[0;34m)\u001b[0m\u001b[0;34m\u001b[0m\u001b[0;34m\u001b[0m\u001b[0m\n\u001b[0m\u001b[1;32m    582\u001b[0m             \u001b[0mout\u001b[0m \u001b[0;34m=\u001b[0m \u001b[0mX\u001b[0m\u001b[0;34m,\u001b[0m \u001b[0my\u001b[0m\u001b[0;34m\u001b[0m\u001b[0;34m\u001b[0m\u001b[0m\n\u001b[1;32m    583\u001b[0m \u001b[0;34m\u001b[0m\u001b[0m\n",
            "\u001b[0;32m/usr/local/lib/python3.7/dist-packages/sklearn/utils/validation.py\u001b[0m in \u001b[0;36mcheck_X_y\u001b[0;34m(X, y, accept_sparse, accept_large_sparse, dtype, order, copy, force_all_finite, ensure_2d, allow_nd, multi_output, ensure_min_samples, ensure_min_features, y_numeric, estimator)\u001b[0m\n\u001b[1;32m    974\u001b[0m         \u001b[0mensure_min_samples\u001b[0m\u001b[0;34m=\u001b[0m\u001b[0mensure_min_samples\u001b[0m\u001b[0;34m,\u001b[0m\u001b[0;34m\u001b[0m\u001b[0;34m\u001b[0m\u001b[0m\n\u001b[1;32m    975\u001b[0m         \u001b[0mensure_min_features\u001b[0m\u001b[0;34m=\u001b[0m\u001b[0mensure_min_features\u001b[0m\u001b[0;34m,\u001b[0m\u001b[0;34m\u001b[0m\u001b[0;34m\u001b[0m\u001b[0m\n\u001b[0;32m--> 976\u001b[0;31m         \u001b[0mestimator\u001b[0m\u001b[0;34m=\u001b[0m\u001b[0mestimator\u001b[0m\u001b[0;34m,\u001b[0m\u001b[0;34m\u001b[0m\u001b[0;34m\u001b[0m\u001b[0m\n\u001b[0m\u001b[1;32m    977\u001b[0m     )\n\u001b[1;32m    978\u001b[0m \u001b[0;34m\u001b[0m\u001b[0m\n",
            "\u001b[0;32m/usr/local/lib/python3.7/dist-packages/sklearn/utils/validation.py\u001b[0m in \u001b[0;36mcheck_array\u001b[0;34m(array, accept_sparse, accept_large_sparse, dtype, order, copy, force_all_finite, ensure_2d, allow_nd, ensure_min_samples, ensure_min_features, estimator)\u001b[0m\n\u001b[1;32m    798\u001b[0m \u001b[0;34m\u001b[0m\u001b[0m\n\u001b[1;32m    799\u001b[0m         \u001b[0;32mif\u001b[0m \u001b[0mforce_all_finite\u001b[0m\u001b[0;34m:\u001b[0m\u001b[0;34m\u001b[0m\u001b[0;34m\u001b[0m\u001b[0m\n\u001b[0;32m--> 800\u001b[0;31m             \u001b[0m_assert_all_finite\u001b[0m\u001b[0;34m(\u001b[0m\u001b[0marray\u001b[0m\u001b[0;34m,\u001b[0m \u001b[0mallow_nan\u001b[0m\u001b[0;34m=\u001b[0m\u001b[0mforce_all_finite\u001b[0m \u001b[0;34m==\u001b[0m \u001b[0;34m\"allow-nan\"\u001b[0m\u001b[0;34m)\u001b[0m\u001b[0;34m\u001b[0m\u001b[0;34m\u001b[0m\u001b[0m\n\u001b[0m\u001b[1;32m    801\u001b[0m \u001b[0;34m\u001b[0m\u001b[0m\n\u001b[1;32m    802\u001b[0m     \u001b[0;32mif\u001b[0m \u001b[0mensure_min_samples\u001b[0m \u001b[0;34m>\u001b[0m \u001b[0;36m0\u001b[0m\u001b[0;34m:\u001b[0m\u001b[0;34m\u001b[0m\u001b[0;34m\u001b[0m\u001b[0m\n",
            "\u001b[0;32m/usr/local/lib/python3.7/dist-packages/sklearn/utils/validation.py\u001b[0m in \u001b[0;36m_assert_all_finite\u001b[0;34m(X, allow_nan, msg_dtype)\u001b[0m\n\u001b[1;32m    114\u001b[0m             raise ValueError(\n\u001b[1;32m    115\u001b[0m                 msg_err.format(\n\u001b[0;32m--> 116\u001b[0;31m                     \u001b[0mtype_err\u001b[0m\u001b[0;34m,\u001b[0m \u001b[0mmsg_dtype\u001b[0m \u001b[0;32mif\u001b[0m \u001b[0mmsg_dtype\u001b[0m \u001b[0;32mis\u001b[0m \u001b[0;32mnot\u001b[0m \u001b[0;32mNone\u001b[0m \u001b[0;32melse\u001b[0m \u001b[0mX\u001b[0m\u001b[0;34m.\u001b[0m\u001b[0mdtype\u001b[0m\u001b[0;34m\u001b[0m\u001b[0;34m\u001b[0m\u001b[0m\n\u001b[0m\u001b[1;32m    117\u001b[0m                 )\n\u001b[1;32m    118\u001b[0m             )\n",
            "\u001b[0;31mValueError\u001b[0m: Input contains NaN, infinity or a value too large for dtype('float64')."
          ]
        }
      ]
    },
    {
      "cell_type": "markdown",
      "source": [
        "Check model performance on test data."
      ],
      "metadata": {
        "id": "NO8FuSr2ON2o"
      }
    },
    {
      "cell_type": "code",
      "source": [
        "# Show balanced accuracy rate of the 0/1 predictions\n",
        "print(balanced_accuracy_score(Y_test, Y_pred))\n",
        "print(roc_auc_score(Y_test, Y_pred))\n",
        "print(confusion_matrix(Y_test, Y_pred))"
      ],
      "metadata": {
        "colab": {
          "base_uri": "https://localhost:8080/"
        },
        "id": "SwpqiKUiOOUT",
        "outputId": "dcd50feb-8370-4a4b-9901-266a35aa7550"
      },
      "execution_count": null,
      "outputs": [
        {
          "output_type": "stream",
          "name": "stdout",
          "text": [
            "0.751705538302746\n",
            "0.751705538302746\n",
            "[[1171  342]\n",
            " [  79  213]]\n"
          ]
        }
      ]
    },
    {
      "cell_type": "markdown",
      "source": [
        "# D1\n",
        "<!-- **Fairness assessment** -->"
      ],
      "metadata": {
        "id": "eQBbty6FX5yA"
      }
    },
    {
      "cell_type": "markdown",
      "source": [
        "Evaluate fairness rates."
      ],
      "metadata": {
        "id": "KkMVEEOattpv"
      }
    },
    {
      "cell_type": "code",
      "source": [
        "metrics_dict = {\n",
        "    \"selection_rate\": selection_rate,\n",
        "    \"false_negative_rate\": false_negative_rate,\n",
        "    \"true_negative_rate\": true_negative_rate,\n",
        "    \"false_positive_rate\": false_positive_rate,\n",
        "    \"true_positive_rate\": true_positive_rate,\n",
        "    \"balanced_accuracy\": balanced_accuracy_score,\n",
        "}"
      ],
      "metadata": {
        "id": "tKhSCDcwOSt8"
      },
      "execution_count": null,
      "outputs": []
    },
    {
      "cell_type": "code",
      "source": [
        "# For SEX attribute\n",
        "metricframe_unmitigated = MetricFrame(metrics=metrics_dict,\n",
        "                  y_true=Y_test,\n",
        "                  y_pred=Y_pred,\n",
        "                  sensitive_features=df_test['SEX'])\n",
        "\n",
        "# The disaggregated metrics are then stored in a pandas DataFrame:\n",
        "metricframe_unmitigated.by_group"
      ],
      "metadata": {
        "colab": {
          "base_uri": "https://localhost:8080/",
          "height": 142
        },
        "id": "B6caN_1btUcm",
        "outputId": "bb6fd297-857d-4fa5-b417-7ef2747c6fe7"
      },
      "execution_count": null,
      "outputs": [
        {
          "output_type": "execute_result",
          "data": {
            "text/plain": [
              "    selection_rate false_negative_rate true_negative_rate false_positive_rate  \\\n",
              "SEX                                                                             \n",
              "1         0.274564            0.272109           0.796178            0.203822   \n",
              "2         0.357542            0.268966           0.737303            0.262697   \n",
              "\n",
              "    true_positive_rate balanced_accuracy  \n",
              "SEX                                       \n",
              "1             0.727891          0.762035  \n",
              "2             0.731034          0.734169  "
            ],
            "text/html": [
              "\n",
              "  <div id=\"df-fbf6fd2b-d357-4fea-a151-563cc23b397c\">\n",
              "    <div class=\"colab-df-container\">\n",
              "      <div>\n",
              "<style scoped>\n",
              "    .dataframe tbody tr th:only-of-type {\n",
              "        vertical-align: middle;\n",
              "    }\n",
              "\n",
              "    .dataframe tbody tr th {\n",
              "        vertical-align: top;\n",
              "    }\n",
              "\n",
              "    .dataframe thead th {\n",
              "        text-align: right;\n",
              "    }\n",
              "</style>\n",
              "<table border=\"1\" class=\"dataframe\">\n",
              "  <thead>\n",
              "    <tr style=\"text-align: right;\">\n",
              "      <th></th>\n",
              "      <th>selection_rate</th>\n",
              "      <th>false_negative_rate</th>\n",
              "      <th>true_negative_rate</th>\n",
              "      <th>false_positive_rate</th>\n",
              "      <th>true_positive_rate</th>\n",
              "      <th>balanced_accuracy</th>\n",
              "    </tr>\n",
              "    <tr>\n",
              "      <th>SEX</th>\n",
              "      <th></th>\n",
              "      <th></th>\n",
              "      <th></th>\n",
              "      <th></th>\n",
              "      <th></th>\n",
              "      <th></th>\n",
              "    </tr>\n",
              "  </thead>\n",
              "  <tbody>\n",
              "    <tr>\n",
              "      <th>1</th>\n",
              "      <td>0.274564</td>\n",
              "      <td>0.272109</td>\n",
              "      <td>0.796178</td>\n",
              "      <td>0.203822</td>\n",
              "      <td>0.727891</td>\n",
              "      <td>0.762035</td>\n",
              "    </tr>\n",
              "    <tr>\n",
              "      <th>2</th>\n",
              "      <td>0.357542</td>\n",
              "      <td>0.268966</td>\n",
              "      <td>0.737303</td>\n",
              "      <td>0.262697</td>\n",
              "      <td>0.731034</td>\n",
              "      <td>0.734169</td>\n",
              "    </tr>\n",
              "  </tbody>\n",
              "</table>\n",
              "</div>\n",
              "      <button class=\"colab-df-convert\" onclick=\"convertToInteractive('df-fbf6fd2b-d357-4fea-a151-563cc23b397c')\"\n",
              "              title=\"Convert this dataframe to an interactive table.\"\n",
              "              style=\"display:none;\">\n",
              "        \n",
              "  <svg xmlns=\"http://www.w3.org/2000/svg\" height=\"24px\"viewBox=\"0 0 24 24\"\n",
              "       width=\"24px\">\n",
              "    <path d=\"M0 0h24v24H0V0z\" fill=\"none\"/>\n",
              "    <path d=\"M18.56 5.44l.94 2.06.94-2.06 2.06-.94-2.06-.94-.94-2.06-.94 2.06-2.06.94zm-11 1L8.5 8.5l.94-2.06 2.06-.94-2.06-.94L8.5 2.5l-.94 2.06-2.06.94zm10 10l.94 2.06.94-2.06 2.06-.94-2.06-.94-.94-2.06-.94 2.06-2.06.94z\"/><path d=\"M17.41 7.96l-1.37-1.37c-.4-.4-.92-.59-1.43-.59-.52 0-1.04.2-1.43.59L10.3 9.45l-7.72 7.72c-.78.78-.78 2.05 0 2.83L4 21.41c.39.39.9.59 1.41.59.51 0 1.02-.2 1.41-.59l7.78-7.78 2.81-2.81c.8-.78.8-2.07 0-2.86zM5.41 20L4 18.59l7.72-7.72 1.47 1.35L5.41 20z\"/>\n",
              "  </svg>\n",
              "      </button>\n",
              "      \n",
              "  <style>\n",
              "    .colab-df-container {\n",
              "      display:flex;\n",
              "      flex-wrap:wrap;\n",
              "      gap: 12px;\n",
              "    }\n",
              "\n",
              "    .colab-df-convert {\n",
              "      background-color: #E8F0FE;\n",
              "      border: none;\n",
              "      border-radius: 50%;\n",
              "      cursor: pointer;\n",
              "      display: none;\n",
              "      fill: #1967D2;\n",
              "      height: 32px;\n",
              "      padding: 0 0 0 0;\n",
              "      width: 32px;\n",
              "    }\n",
              "\n",
              "    .colab-df-convert:hover {\n",
              "      background-color: #E2EBFA;\n",
              "      box-shadow: 0px 1px 2px rgba(60, 64, 67, 0.3), 0px 1px 3px 1px rgba(60, 64, 67, 0.15);\n",
              "      fill: #174EA6;\n",
              "    }\n",
              "\n",
              "    [theme=dark] .colab-df-convert {\n",
              "      background-color: #3B4455;\n",
              "      fill: #D2E3FC;\n",
              "    }\n",
              "\n",
              "    [theme=dark] .colab-df-convert:hover {\n",
              "      background-color: #434B5C;\n",
              "      box-shadow: 0px 1px 3px 1px rgba(0, 0, 0, 0.15);\n",
              "      filter: drop-shadow(0px 1px 2px rgba(0, 0, 0, 0.3));\n",
              "      fill: #FFFFFF;\n",
              "    }\n",
              "  </style>\n",
              "\n",
              "      <script>\n",
              "        const buttonEl =\n",
              "          document.querySelector('#df-fbf6fd2b-d357-4fea-a151-563cc23b397c button.colab-df-convert');\n",
              "        buttonEl.style.display =\n",
              "          google.colab.kernel.accessAllowed ? 'block' : 'none';\n",
              "\n",
              "        async function convertToInteractive(key) {\n",
              "          const element = document.querySelector('#df-fbf6fd2b-d357-4fea-a151-563cc23b397c');\n",
              "          const dataTable =\n",
              "            await google.colab.kernel.invokeFunction('convertToInteractive',\n",
              "                                                     [key], {});\n",
              "          if (!dataTable) return;\n",
              "\n",
              "          const docLinkHtml = 'Like what you see? Visit the ' +\n",
              "            '<a target=\"_blank\" href=https://colab.research.google.com/notebooks/data_table.ipynb>data table notebook</a>'\n",
              "            + ' to learn more about interactive tables.';\n",
              "          element.innerHTML = '';\n",
              "          dataTable['output_type'] = 'display_data';\n",
              "          await google.colab.output.renderOutput(dataTable, element);\n",
              "          const docLink = document.createElement('div');\n",
              "          docLink.innerHTML = docLinkHtml;\n",
              "          element.appendChild(docLink);\n",
              "        }\n",
              "      </script>\n",
              "    </div>\n",
              "  </div>\n",
              "  "
            ]
          },
          "metadata": {},
          "execution_count": 40
        }
      ]
    },
    {
      "cell_type": "code",
      "source": [
        "# For RACE attribute\n",
        "metricframe_unmitigated = MetricFrame(metrics=metrics_dict,\n",
        "                  y_true=Y_test,\n",
        "                  y_pred=Y_pred,\n",
        "                  sensitive_features=df_test['RACE'])\n",
        "\n",
        "# The disaggregated metrics are then stored in a pandas DataFrame:\n",
        "metricframe_unmitigated.by_group"
      ],
      "metadata": {
        "colab": {
          "base_uri": "https://localhost:8080/",
          "height": 142
        },
        "id": "AXeYYsMjtcbr",
        "outputId": "30c88e30-e659-49ed-b788-c516c6dae8f2"
      },
      "execution_count": null,
      "outputs": [
        {
          "output_type": "execute_result",
          "data": {
            "text/plain": [
              "     selection_rate false_negative_rate true_negative_rate  \\\n",
              "RACE                                                         \n",
              "0          0.262542            0.319728           0.795996   \n",
              "1          0.395731             0.22069           0.724138   \n",
              "\n",
              "     false_positive_rate true_positive_rate balanced_accuracy  \n",
              "RACE                                                           \n",
              "0               0.204004           0.680272          0.738134  \n",
              "1               0.275862            0.77931          0.751724  "
            ],
            "text/html": [
              "\n",
              "  <div id=\"df-a0e2554a-eb0f-4ea8-bf03-54c6ef7ffc51\">\n",
              "    <div class=\"colab-df-container\">\n",
              "      <div>\n",
              "<style scoped>\n",
              "    .dataframe tbody tr th:only-of-type {\n",
              "        vertical-align: middle;\n",
              "    }\n",
              "\n",
              "    .dataframe tbody tr th {\n",
              "        vertical-align: top;\n",
              "    }\n",
              "\n",
              "    .dataframe thead th {\n",
              "        text-align: right;\n",
              "    }\n",
              "</style>\n",
              "<table border=\"1\" class=\"dataframe\">\n",
              "  <thead>\n",
              "    <tr style=\"text-align: right;\">\n",
              "      <th></th>\n",
              "      <th>selection_rate</th>\n",
              "      <th>false_negative_rate</th>\n",
              "      <th>true_negative_rate</th>\n",
              "      <th>false_positive_rate</th>\n",
              "      <th>true_positive_rate</th>\n",
              "      <th>balanced_accuracy</th>\n",
              "    </tr>\n",
              "    <tr>\n",
              "      <th>RACE</th>\n",
              "      <th></th>\n",
              "      <th></th>\n",
              "      <th></th>\n",
              "      <th></th>\n",
              "      <th></th>\n",
              "      <th></th>\n",
              "    </tr>\n",
              "  </thead>\n",
              "  <tbody>\n",
              "    <tr>\n",
              "      <th>0</th>\n",
              "      <td>0.262542</td>\n",
              "      <td>0.319728</td>\n",
              "      <td>0.795996</td>\n",
              "      <td>0.204004</td>\n",
              "      <td>0.680272</td>\n",
              "      <td>0.738134</td>\n",
              "    </tr>\n",
              "    <tr>\n",
              "      <th>1</th>\n",
              "      <td>0.395731</td>\n",
              "      <td>0.22069</td>\n",
              "      <td>0.724138</td>\n",
              "      <td>0.275862</td>\n",
              "      <td>0.77931</td>\n",
              "      <td>0.751724</td>\n",
              "    </tr>\n",
              "  </tbody>\n",
              "</table>\n",
              "</div>\n",
              "      <button class=\"colab-df-convert\" onclick=\"convertToInteractive('df-a0e2554a-eb0f-4ea8-bf03-54c6ef7ffc51')\"\n",
              "              title=\"Convert this dataframe to an interactive table.\"\n",
              "              style=\"display:none;\">\n",
              "        \n",
              "  <svg xmlns=\"http://www.w3.org/2000/svg\" height=\"24px\"viewBox=\"0 0 24 24\"\n",
              "       width=\"24px\">\n",
              "    <path d=\"M0 0h24v24H0V0z\" fill=\"none\"/>\n",
              "    <path d=\"M18.56 5.44l.94 2.06.94-2.06 2.06-.94-2.06-.94-.94-2.06-.94 2.06-2.06.94zm-11 1L8.5 8.5l.94-2.06 2.06-.94-2.06-.94L8.5 2.5l-.94 2.06-2.06.94zm10 10l.94 2.06.94-2.06 2.06-.94-2.06-.94-.94-2.06-.94 2.06-2.06.94z\"/><path d=\"M17.41 7.96l-1.37-1.37c-.4-.4-.92-.59-1.43-.59-.52 0-1.04.2-1.43.59L10.3 9.45l-7.72 7.72c-.78.78-.78 2.05 0 2.83L4 21.41c.39.39.9.59 1.41.59.51 0 1.02-.2 1.41-.59l7.78-7.78 2.81-2.81c.8-.78.8-2.07 0-2.86zM5.41 20L4 18.59l7.72-7.72 1.47 1.35L5.41 20z\"/>\n",
              "  </svg>\n",
              "      </button>\n",
              "      \n",
              "  <style>\n",
              "    .colab-df-container {\n",
              "      display:flex;\n",
              "      flex-wrap:wrap;\n",
              "      gap: 12px;\n",
              "    }\n",
              "\n",
              "    .colab-df-convert {\n",
              "      background-color: #E8F0FE;\n",
              "      border: none;\n",
              "      border-radius: 50%;\n",
              "      cursor: pointer;\n",
              "      display: none;\n",
              "      fill: #1967D2;\n",
              "      height: 32px;\n",
              "      padding: 0 0 0 0;\n",
              "      width: 32px;\n",
              "    }\n",
              "\n",
              "    .colab-df-convert:hover {\n",
              "      background-color: #E2EBFA;\n",
              "      box-shadow: 0px 1px 2px rgba(60, 64, 67, 0.3), 0px 1px 3px 1px rgba(60, 64, 67, 0.15);\n",
              "      fill: #174EA6;\n",
              "    }\n",
              "\n",
              "    [theme=dark] .colab-df-convert {\n",
              "      background-color: #3B4455;\n",
              "      fill: #D2E3FC;\n",
              "    }\n",
              "\n",
              "    [theme=dark] .colab-df-convert:hover {\n",
              "      background-color: #434B5C;\n",
              "      box-shadow: 0px 1px 3px 1px rgba(0, 0, 0, 0.15);\n",
              "      filter: drop-shadow(0px 1px 2px rgba(0, 0, 0, 0.3));\n",
              "      fill: #FFFFFF;\n",
              "    }\n",
              "  </style>\n",
              "\n",
              "      <script>\n",
              "        const buttonEl =\n",
              "          document.querySelector('#df-a0e2554a-eb0f-4ea8-bf03-54c6ef7ffc51 button.colab-df-convert');\n",
              "        buttonEl.style.display =\n",
              "          google.colab.kernel.accessAllowed ? 'block' : 'none';\n",
              "\n",
              "        async function convertToInteractive(key) {\n",
              "          const element = document.querySelector('#df-a0e2554a-eb0f-4ea8-bf03-54c6ef7ffc51');\n",
              "          const dataTable =\n",
              "            await google.colab.kernel.invokeFunction('convertToInteractive',\n",
              "                                                     [key], {});\n",
              "          if (!dataTable) return;\n",
              "\n",
              "          const docLinkHtml = 'Like what you see? Visit the ' +\n",
              "            '<a target=\"_blank\" href=https://colab.research.google.com/notebooks/data_table.ipynb>data table notebook</a>'\n",
              "            + ' to learn more about interactive tables.';\n",
              "          element.innerHTML = '';\n",
              "          dataTable['output_type'] = 'display_data';\n",
              "          await google.colab.output.renderOutput(dataTable, element);\n",
              "          const docLink = document.createElement('div');\n",
              "          docLink.innerHTML = docLinkHtml;\n",
              "          element.appendChild(docLink);\n",
              "        }\n",
              "      </script>\n",
              "    </div>\n",
              "  </div>\n",
              "  "
            ]
          },
          "metadata": {},
          "execution_count": 41
        }
      ]
    },
    {
      "cell_type": "markdown",
      "source": [
        "Evaluate fairness metrics (based on previously computed rates)."
      ],
      "metadata": {
        "id": "G-_hxbBfO-TN"
      }
    },
    {
      "cell_type": "code",
      "source": [
        "# Helper functions\n",
        "def get_metrics_df(models_dict, y_true, group):\n",
        "    metrics_dict = {\n",
        "        \"Demographic parity difference\": (\n",
        "            lambda x: demographic_parity_difference(y_true, x, sensitive_features=group), True),\n",
        "        \"Demographic parity ratio\": (\n",
        "            lambda x: demographic_parity_ratio(y_true, x, sensitive_features=group), True),\n",
        "        \"------\": (lambda x: \"\", True),\n",
        "        \"False positive rate difference\": (\n",
        "            lambda x: false_positive_rate_difference(y_true, x, sensitive_features=group), True),\n",
        "        \"False negative rate difference\": (\n",
        "            lambda x: false_negative_rate_difference(y_true, x, sensitive_features=group), True),  \n",
        "        \"------\": (lambda x: \"\", True),\n",
        "        \"Equalized odds difference\": (\n",
        "            lambda x: equalized_odds_difference(y_true, x, sensitive_features=group), True),\n",
        "        \"Equalized odds ratio\": (\n",
        "            lambda x: equalized_odds_ratio(y_true, x, sensitive_features=group), True),\n",
        "        \"  ------\": (lambda x: \"\", True),\n",
        "        \"Overall AUC\": (\n",
        "            lambda x: roc_auc_score(y_true, x), False),\n",
        "#        \"AUC difference\": (\n",
        "#            lambda x: MetricFrame(metrics=roc_auc_score, y_true=y_true, y_pred=x, sensitive_features=group).difference(method='between_groups'), False),\n",
        "        \"------\": (lambda x: \"\", True),\n",
        "        \"Overall balanced error rate\": (\n",
        "            lambda x: 1-balanced_accuracy_score(y_true, x), True),\n",
        "        \"Balanced error rate difference\": (\n",
        "            lambda x: MetricFrame(metrics=balanced_accuracy_score, y_true=y_true, y_pred=x, sensitive_features=group).difference(method='between_groups'), True),\n",
        "    }\n",
        "\n",
        "    df_dict = {}\n",
        "    for metric_name, (metric_func, use_preds) in metrics_dict.items():\n",
        "        df_dict[metric_name] = [metric_func(preds) if use_preds else metric_func(scores) \n",
        "                                for model_name, (preds, scores) in models_dict.items()]\n",
        "    return pd.DataFrame.from_dict(df_dict, orient=\"index\", columns=models_dict.keys())\n",
        "\n",
        "# Metrics\n",
        "models_dict = {\"Unmitigated\": (Y_pred, Y_pred_proba)}\n",
        "get_metrics_df(models_dict, Y_test, A_test) # both RACE and SEX"
      ],
      "metadata": {
        "colab": {
          "base_uri": "https://localhost:8080/",
          "height": 390
        },
        "id": "2CGfo1SXO-1E",
        "outputId": "603fa81f-af50-4642-a01a-5b5e6bd43432"
      },
      "execution_count": null,
      "outputs": [
        {
          "output_type": "execute_result",
          "data": {
            "text/plain": [
              "                               Unmitigated\n",
              "Demographic parity difference     0.215187\n",
              "Demographic parity ratio          0.509971\n",
              "------                                    \n",
              "False positive rate difference    0.122768\n",
              "False negative rate difference    0.111408\n",
              "Equalized odds difference         0.122768\n",
              "Equalized odds ratio              0.589103\n",
              "  ------                                  \n",
              "Overall AUC                       0.824351\n",
              "Overall balanced error rate       0.248294\n",
              "Balanced error rate difference    0.036716"
            ],
            "text/html": [
              "\n",
              "  <div id=\"df-acd8dc5b-85f7-4a49-aa74-d03899693326\">\n",
              "    <div class=\"colab-df-container\">\n",
              "      <div>\n",
              "<style scoped>\n",
              "    .dataframe tbody tr th:only-of-type {\n",
              "        vertical-align: middle;\n",
              "    }\n",
              "\n",
              "    .dataframe tbody tr th {\n",
              "        vertical-align: top;\n",
              "    }\n",
              "\n",
              "    .dataframe thead th {\n",
              "        text-align: right;\n",
              "    }\n",
              "</style>\n",
              "<table border=\"1\" class=\"dataframe\">\n",
              "  <thead>\n",
              "    <tr style=\"text-align: right;\">\n",
              "      <th></th>\n",
              "      <th>Unmitigated</th>\n",
              "    </tr>\n",
              "  </thead>\n",
              "  <tbody>\n",
              "    <tr>\n",
              "      <th>Demographic parity difference</th>\n",
              "      <td>0.215187</td>\n",
              "    </tr>\n",
              "    <tr>\n",
              "      <th>Demographic parity ratio</th>\n",
              "      <td>0.509971</td>\n",
              "    </tr>\n",
              "    <tr>\n",
              "      <th>------</th>\n",
              "      <td></td>\n",
              "    </tr>\n",
              "    <tr>\n",
              "      <th>False positive rate difference</th>\n",
              "      <td>0.122768</td>\n",
              "    </tr>\n",
              "    <tr>\n",
              "      <th>False negative rate difference</th>\n",
              "      <td>0.111408</td>\n",
              "    </tr>\n",
              "    <tr>\n",
              "      <th>Equalized odds difference</th>\n",
              "      <td>0.122768</td>\n",
              "    </tr>\n",
              "    <tr>\n",
              "      <th>Equalized odds ratio</th>\n",
              "      <td>0.589103</td>\n",
              "    </tr>\n",
              "    <tr>\n",
              "      <th>------</th>\n",
              "      <td></td>\n",
              "    </tr>\n",
              "    <tr>\n",
              "      <th>Overall AUC</th>\n",
              "      <td>0.824351</td>\n",
              "    </tr>\n",
              "    <tr>\n",
              "      <th>Overall balanced error rate</th>\n",
              "      <td>0.248294</td>\n",
              "    </tr>\n",
              "    <tr>\n",
              "      <th>Balanced error rate difference</th>\n",
              "      <td>0.036716</td>\n",
              "    </tr>\n",
              "  </tbody>\n",
              "</table>\n",
              "</div>\n",
              "      <button class=\"colab-df-convert\" onclick=\"convertToInteractive('df-acd8dc5b-85f7-4a49-aa74-d03899693326')\"\n",
              "              title=\"Convert this dataframe to an interactive table.\"\n",
              "              style=\"display:none;\">\n",
              "        \n",
              "  <svg xmlns=\"http://www.w3.org/2000/svg\" height=\"24px\"viewBox=\"0 0 24 24\"\n",
              "       width=\"24px\">\n",
              "    <path d=\"M0 0h24v24H0V0z\" fill=\"none\"/>\n",
              "    <path d=\"M18.56 5.44l.94 2.06.94-2.06 2.06-.94-2.06-.94-.94-2.06-.94 2.06-2.06.94zm-11 1L8.5 8.5l.94-2.06 2.06-.94-2.06-.94L8.5 2.5l-.94 2.06-2.06.94zm10 10l.94 2.06.94-2.06 2.06-.94-2.06-.94-.94-2.06-.94 2.06-2.06.94z\"/><path d=\"M17.41 7.96l-1.37-1.37c-.4-.4-.92-.59-1.43-.59-.52 0-1.04.2-1.43.59L10.3 9.45l-7.72 7.72c-.78.78-.78 2.05 0 2.83L4 21.41c.39.39.9.59 1.41.59.51 0 1.02-.2 1.41-.59l7.78-7.78 2.81-2.81c.8-.78.8-2.07 0-2.86zM5.41 20L4 18.59l7.72-7.72 1.47 1.35L5.41 20z\"/>\n",
              "  </svg>\n",
              "      </button>\n",
              "      \n",
              "  <style>\n",
              "    .colab-df-container {\n",
              "      display:flex;\n",
              "      flex-wrap:wrap;\n",
              "      gap: 12px;\n",
              "    }\n",
              "\n",
              "    .colab-df-convert {\n",
              "      background-color: #E8F0FE;\n",
              "      border: none;\n",
              "      border-radius: 50%;\n",
              "      cursor: pointer;\n",
              "      display: none;\n",
              "      fill: #1967D2;\n",
              "      height: 32px;\n",
              "      padding: 0 0 0 0;\n",
              "      width: 32px;\n",
              "    }\n",
              "\n",
              "    .colab-df-convert:hover {\n",
              "      background-color: #E2EBFA;\n",
              "      box-shadow: 0px 1px 2px rgba(60, 64, 67, 0.3), 0px 1px 3px 1px rgba(60, 64, 67, 0.15);\n",
              "      fill: #174EA6;\n",
              "    }\n",
              "\n",
              "    [theme=dark] .colab-df-convert {\n",
              "      background-color: #3B4455;\n",
              "      fill: #D2E3FC;\n",
              "    }\n",
              "\n",
              "    [theme=dark] .colab-df-convert:hover {\n",
              "      background-color: #434B5C;\n",
              "      box-shadow: 0px 1px 3px 1px rgba(0, 0, 0, 0.15);\n",
              "      filter: drop-shadow(0px 1px 2px rgba(0, 0, 0, 0.3));\n",
              "      fill: #FFFFFF;\n",
              "    }\n",
              "  </style>\n",
              "\n",
              "      <script>\n",
              "        const buttonEl =\n",
              "          document.querySelector('#df-acd8dc5b-85f7-4a49-aa74-d03899693326 button.colab-df-convert');\n",
              "        buttonEl.style.display =\n",
              "          google.colab.kernel.accessAllowed ? 'block' : 'none';\n",
              "\n",
              "        async function convertToInteractive(key) {\n",
              "          const element = document.querySelector('#df-acd8dc5b-85f7-4a49-aa74-d03899693326');\n",
              "          const dataTable =\n",
              "            await google.colab.kernel.invokeFunction('convertToInteractive',\n",
              "                                                     [key], {});\n",
              "          if (!dataTable) return;\n",
              "\n",
              "          const docLinkHtml = 'Like what you see? Visit the ' +\n",
              "            '<a target=\"_blank\" href=https://colab.research.google.com/notebooks/data_table.ipynb>data table notebook</a>'\n",
              "            + ' to learn more about interactive tables.';\n",
              "          element.innerHTML = '';\n",
              "          dataTable['output_type'] = 'display_data';\n",
              "          await google.colab.output.renderOutput(dataTable, element);\n",
              "          const docLink = document.createElement('div');\n",
              "          docLink.innerHTML = docLinkHtml;\n",
              "          element.appendChild(docLink);\n",
              "        }\n",
              "      </script>\n",
              "    </div>\n",
              "  </div>\n",
              "  "
            ]
          },
          "metadata": {},
          "execution_count": 42
        }
      ]
    },
    {
      "cell_type": "markdown",
      "source": [
        "# D2 \n",
        "<!-- **Postprocessing with ThresholdOptimizer** -->"
      ],
      "metadata": {
        "id": "62Do2MndX8rT"
      }
    },
    {
      "cell_type": "code",
      "source": [
        "# Now we instantite ThresholdOptimizer with the logistic regression estimator\n",
        "# The constraint false negative rate parity requires that all the groups have equal values of false negative rate.\n",
        "\n",
        "postprocess_est = ThresholdOptimizer(\n",
        "    estimator=unmitigated_pipeline,\n",
        "    constraints=\"false_negative_rate_parity\",\n",
        "    objective=\"balanced_accuracy_score\",\n",
        "    prefit=True,\n",
        "    predict_method='predict_proba'\n",
        ")"
      ],
      "metadata": {
        "id": "gUJThngOPGoE"
      },
      "execution_count": null,
      "outputs": []
    },
    {
      "cell_type": "code",
      "source": [
        "postprocess_est.fit(X_train_bal, Y_train_bal, sensitive_features=A_train_bal)\n",
        "# Record and evaluate the output of the trained ThresholdOptimizer on test data\n",
        "\n",
        "Y_pred_postprocess = postprocess_est.predict(X_test, sensitive_features=A_test)"
      ],
      "metadata": {
        "id": "r1f_QgokPHIV"
      },
      "execution_count": null,
      "outputs": []
    },
    {
      "cell_type": "markdown",
      "source": [
        "# D3\n",
        "<!-- Evaluate fairness rates (comparison between unmitigated & postprocessing). -->"
      ],
      "metadata": {
        "id": "2_-TQZd5um0M"
      }
    },
    {
      "cell_type": "markdown",
      "source": [
        "Evaluate fairness rates (comparison between unmitigated & postprocessing)."
      ],
      "metadata": {
        "id": "8CqXi0ubR-g3"
      }
    },
    {
      "cell_type": "code",
      "source": [
        "metricframe_postprocess = MetricFrame(\n",
        "    metrics=metrics_dict,\n",
        "    y_true=Y_test,\n",
        "    y_pred=Y_pred_postprocess,\n",
        "    sensitive_features=df_test['RACE'] # df_test['SEX'] \n",
        ")\n",
        "\n",
        "pd.concat([metricframe_unmitigated.by_group,\n",
        "           metricframe_postprocess.by_group],\n",
        "           keys=['Unmitigated', 'ThresholdOptimizer'],\n",
        "           axis=0)"
      ],
      "metadata": {
        "colab": {
          "base_uri": "https://localhost:8080/",
          "height": 204
        },
        "id": "FOF_brjYPIv9",
        "outputId": "c2c614c7-36ca-4123-e706-0e44b7641e92"
      },
      "execution_count": null,
      "outputs": [
        {
          "output_type": "execute_result",
          "data": {
            "text/plain": [
              "                        selection_rate false_negative_rate true_negative_rate  \\\n",
              "                   RACE                                                         \n",
              "Unmitigated        0          0.262542            0.319728           0.795996   \n",
              "                   1          0.395731             0.22069           0.724138   \n",
              "ThresholdOptimizer 0          0.337793            0.251701           0.719733   \n",
              "                   1          0.387521            0.248276           0.726293   \n",
              "\n",
              "                        false_positive_rate true_positive_rate  \\\n",
              "                   RACE                                          \n",
              "Unmitigated        0               0.204004           0.680272   \n",
              "                   1               0.275862            0.77931   \n",
              "ThresholdOptimizer 0               0.280267           0.748299   \n",
              "                   1               0.273707           0.751724   \n",
              "\n",
              "                        balanced_accuracy  \n",
              "                   RACE                    \n",
              "Unmitigated        0             0.738134  \n",
              "                   1             0.751724  \n",
              "ThresholdOptimizer 0             0.734016  \n",
              "                   1             0.739009  "
            ],
            "text/html": [
              "\n",
              "  <div id=\"df-3586c846-5787-4844-9b63-fe170cd113b8\">\n",
              "    <div class=\"colab-df-container\">\n",
              "      <div>\n",
              "<style scoped>\n",
              "    .dataframe tbody tr th:only-of-type {\n",
              "        vertical-align: middle;\n",
              "    }\n",
              "\n",
              "    .dataframe tbody tr th {\n",
              "        vertical-align: top;\n",
              "    }\n",
              "\n",
              "    .dataframe thead th {\n",
              "        text-align: right;\n",
              "    }\n",
              "</style>\n",
              "<table border=\"1\" class=\"dataframe\">\n",
              "  <thead>\n",
              "    <tr style=\"text-align: right;\">\n",
              "      <th></th>\n",
              "      <th></th>\n",
              "      <th>selection_rate</th>\n",
              "      <th>false_negative_rate</th>\n",
              "      <th>true_negative_rate</th>\n",
              "      <th>false_positive_rate</th>\n",
              "      <th>true_positive_rate</th>\n",
              "      <th>balanced_accuracy</th>\n",
              "    </tr>\n",
              "    <tr>\n",
              "      <th></th>\n",
              "      <th>RACE</th>\n",
              "      <th></th>\n",
              "      <th></th>\n",
              "      <th></th>\n",
              "      <th></th>\n",
              "      <th></th>\n",
              "      <th></th>\n",
              "    </tr>\n",
              "  </thead>\n",
              "  <tbody>\n",
              "    <tr>\n",
              "      <th rowspan=\"2\" valign=\"top\">Unmitigated</th>\n",
              "      <th>0</th>\n",
              "      <td>0.262542</td>\n",
              "      <td>0.319728</td>\n",
              "      <td>0.795996</td>\n",
              "      <td>0.204004</td>\n",
              "      <td>0.680272</td>\n",
              "      <td>0.738134</td>\n",
              "    </tr>\n",
              "    <tr>\n",
              "      <th>1</th>\n",
              "      <td>0.395731</td>\n",
              "      <td>0.22069</td>\n",
              "      <td>0.724138</td>\n",
              "      <td>0.275862</td>\n",
              "      <td>0.77931</td>\n",
              "      <td>0.751724</td>\n",
              "    </tr>\n",
              "    <tr>\n",
              "      <th rowspan=\"2\" valign=\"top\">ThresholdOptimizer</th>\n",
              "      <th>0</th>\n",
              "      <td>0.337793</td>\n",
              "      <td>0.251701</td>\n",
              "      <td>0.719733</td>\n",
              "      <td>0.280267</td>\n",
              "      <td>0.748299</td>\n",
              "      <td>0.734016</td>\n",
              "    </tr>\n",
              "    <tr>\n",
              "      <th>1</th>\n",
              "      <td>0.387521</td>\n",
              "      <td>0.248276</td>\n",
              "      <td>0.726293</td>\n",
              "      <td>0.273707</td>\n",
              "      <td>0.751724</td>\n",
              "      <td>0.739009</td>\n",
              "    </tr>\n",
              "  </tbody>\n",
              "</table>\n",
              "</div>\n",
              "      <button class=\"colab-df-convert\" onclick=\"convertToInteractive('df-3586c846-5787-4844-9b63-fe170cd113b8')\"\n",
              "              title=\"Convert this dataframe to an interactive table.\"\n",
              "              style=\"display:none;\">\n",
              "        \n",
              "  <svg xmlns=\"http://www.w3.org/2000/svg\" height=\"24px\"viewBox=\"0 0 24 24\"\n",
              "       width=\"24px\">\n",
              "    <path d=\"M0 0h24v24H0V0z\" fill=\"none\"/>\n",
              "    <path d=\"M18.56 5.44l.94 2.06.94-2.06 2.06-.94-2.06-.94-.94-2.06-.94 2.06-2.06.94zm-11 1L8.5 8.5l.94-2.06 2.06-.94-2.06-.94L8.5 2.5l-.94 2.06-2.06.94zm10 10l.94 2.06.94-2.06 2.06-.94-2.06-.94-.94-2.06-.94 2.06-2.06.94z\"/><path d=\"M17.41 7.96l-1.37-1.37c-.4-.4-.92-.59-1.43-.59-.52 0-1.04.2-1.43.59L10.3 9.45l-7.72 7.72c-.78.78-.78 2.05 0 2.83L4 21.41c.39.39.9.59 1.41.59.51 0 1.02-.2 1.41-.59l7.78-7.78 2.81-2.81c.8-.78.8-2.07 0-2.86zM5.41 20L4 18.59l7.72-7.72 1.47 1.35L5.41 20z\"/>\n",
              "  </svg>\n",
              "      </button>\n",
              "      \n",
              "  <style>\n",
              "    .colab-df-container {\n",
              "      display:flex;\n",
              "      flex-wrap:wrap;\n",
              "      gap: 12px;\n",
              "    }\n",
              "\n",
              "    .colab-df-convert {\n",
              "      background-color: #E8F0FE;\n",
              "      border: none;\n",
              "      border-radius: 50%;\n",
              "      cursor: pointer;\n",
              "      display: none;\n",
              "      fill: #1967D2;\n",
              "      height: 32px;\n",
              "      padding: 0 0 0 0;\n",
              "      width: 32px;\n",
              "    }\n",
              "\n",
              "    .colab-df-convert:hover {\n",
              "      background-color: #E2EBFA;\n",
              "      box-shadow: 0px 1px 2px rgba(60, 64, 67, 0.3), 0px 1px 3px 1px rgba(60, 64, 67, 0.15);\n",
              "      fill: #174EA6;\n",
              "    }\n",
              "\n",
              "    [theme=dark] .colab-df-convert {\n",
              "      background-color: #3B4455;\n",
              "      fill: #D2E3FC;\n",
              "    }\n",
              "\n",
              "    [theme=dark] .colab-df-convert:hover {\n",
              "      background-color: #434B5C;\n",
              "      box-shadow: 0px 1px 3px 1px rgba(0, 0, 0, 0.15);\n",
              "      filter: drop-shadow(0px 1px 2px rgba(0, 0, 0, 0.3));\n",
              "      fill: #FFFFFF;\n",
              "    }\n",
              "  </style>\n",
              "\n",
              "      <script>\n",
              "        const buttonEl =\n",
              "          document.querySelector('#df-3586c846-5787-4844-9b63-fe170cd113b8 button.colab-df-convert');\n",
              "        buttonEl.style.display =\n",
              "          google.colab.kernel.accessAllowed ? 'block' : 'none';\n",
              "\n",
              "        async function convertToInteractive(key) {\n",
              "          const element = document.querySelector('#df-3586c846-5787-4844-9b63-fe170cd113b8');\n",
              "          const dataTable =\n",
              "            await google.colab.kernel.invokeFunction('convertToInteractive',\n",
              "                                                     [key], {});\n",
              "          if (!dataTable) return;\n",
              "\n",
              "          const docLinkHtml = 'Like what you see? Visit the ' +\n",
              "            '<a target=\"_blank\" href=https://colab.research.google.com/notebooks/data_table.ipynb>data table notebook</a>'\n",
              "            + ' to learn more about interactive tables.';\n",
              "          element.innerHTML = '';\n",
              "          dataTable['output_type'] = 'display_data';\n",
              "          await google.colab.output.renderOutput(dataTable, element);\n",
              "          const docLink = document.createElement('div');\n",
              "          docLink.innerHTML = docLinkHtml;\n",
              "          element.appendChild(docLink);\n",
              "        }\n",
              "      </script>\n",
              "    </div>\n",
              "  </div>\n",
              "  "
            ]
          },
          "metadata": {},
          "execution_count": 45
        }
      ]
    },
    {
      "cell_type": "markdown",
      "source": [
        "Evaluate fairness metrics (based on previously computed rates)."
      ],
      "metadata": {
        "id": "_CiPwFQ8uryB"
      }
    },
    {
      "cell_type": "code",
      "source": [
        "models_dict = {\"Unmitigated\": (Y_pred, Y_pred_proba),\n",
        "              \"ThresholdOptimizer\": (Y_pred_postprocess, Y_pred_postprocess)}\n",
        "get_metrics_df(models_dict, Y_test, A_test)"
      ],
      "metadata": {
        "colab": {
          "base_uri": "https://localhost:8080/",
          "height": 426
        },
        "id": "Kn8OISimPKZp",
        "outputId": "032df29b-da9e-430f-850b-af5436a708c1"
      },
      "execution_count": null,
      "outputs": [
        {
          "output_type": "execute_result",
          "data": {
            "text/plain": [
              "                               Unmitigated ThresholdOptimizer\n",
              "Demographic parity difference     0.273567           0.137472\n",
              "Demographic parity ratio          0.424888           0.631415\n",
              "------                                                       \n",
              "False positive rate difference    0.175969           0.104843\n",
              "False negative rate difference    0.161458           0.084821\n",
              "Equalized odds difference         0.175969           0.104843\n",
              "Equalized odds ratio              0.460812           0.631523\n",
              "  ------                                                     \n",
              "Overall AUC                       0.831299           0.762969\n",
              "AUC difference                    0.033483           0.031227\n",
              "Overall balanced error rate       0.229402           0.237031\n",
              "Balanced error rate difference    0.042083           0.031227"
            ],
            "text/html": [
              "\n",
              "  <div id=\"df-e9fb8ffb-1b06-4e69-be27-021b638fd8a2\">\n",
              "    <div class=\"colab-df-container\">\n",
              "      <div>\n",
              "<style scoped>\n",
              "    .dataframe tbody tr th:only-of-type {\n",
              "        vertical-align: middle;\n",
              "    }\n",
              "\n",
              "    .dataframe tbody tr th {\n",
              "        vertical-align: top;\n",
              "    }\n",
              "\n",
              "    .dataframe thead th {\n",
              "        text-align: right;\n",
              "    }\n",
              "</style>\n",
              "<table border=\"1\" class=\"dataframe\">\n",
              "  <thead>\n",
              "    <tr style=\"text-align: right;\">\n",
              "      <th></th>\n",
              "      <th>Unmitigated</th>\n",
              "      <th>ThresholdOptimizer</th>\n",
              "    </tr>\n",
              "  </thead>\n",
              "  <tbody>\n",
              "    <tr>\n",
              "      <th>Demographic parity difference</th>\n",
              "      <td>0.273567</td>\n",
              "      <td>0.137472</td>\n",
              "    </tr>\n",
              "    <tr>\n",
              "      <th>Demographic parity ratio</th>\n",
              "      <td>0.424888</td>\n",
              "      <td>0.631415</td>\n",
              "    </tr>\n",
              "    <tr>\n",
              "      <th>------</th>\n",
              "      <td></td>\n",
              "      <td></td>\n",
              "    </tr>\n",
              "    <tr>\n",
              "      <th>False positive rate difference</th>\n",
              "      <td>0.175969</td>\n",
              "      <td>0.104843</td>\n",
              "    </tr>\n",
              "    <tr>\n",
              "      <th>False negative rate difference</th>\n",
              "      <td>0.161458</td>\n",
              "      <td>0.084821</td>\n",
              "    </tr>\n",
              "    <tr>\n",
              "      <th>Equalized odds difference</th>\n",
              "      <td>0.175969</td>\n",
              "      <td>0.104843</td>\n",
              "    </tr>\n",
              "    <tr>\n",
              "      <th>Equalized odds ratio</th>\n",
              "      <td>0.460812</td>\n",
              "      <td>0.631523</td>\n",
              "    </tr>\n",
              "    <tr>\n",
              "      <th>------</th>\n",
              "      <td></td>\n",
              "      <td></td>\n",
              "    </tr>\n",
              "    <tr>\n",
              "      <th>Overall AUC</th>\n",
              "      <td>0.831299</td>\n",
              "      <td>0.762969</td>\n",
              "    </tr>\n",
              "    <tr>\n",
              "      <th>AUC difference</th>\n",
              "      <td>0.033483</td>\n",
              "      <td>0.031227</td>\n",
              "    </tr>\n",
              "    <tr>\n",
              "      <th>Overall balanced error rate</th>\n",
              "      <td>0.229402</td>\n",
              "      <td>0.237031</td>\n",
              "    </tr>\n",
              "    <tr>\n",
              "      <th>Balanced error rate difference</th>\n",
              "      <td>0.042083</td>\n",
              "      <td>0.031227</td>\n",
              "    </tr>\n",
              "  </tbody>\n",
              "</table>\n",
              "</div>\n",
              "      <button class=\"colab-df-convert\" onclick=\"convertToInteractive('df-e9fb8ffb-1b06-4e69-be27-021b638fd8a2')\"\n",
              "              title=\"Convert this dataframe to an interactive table.\"\n",
              "              style=\"display:none;\">\n",
              "        \n",
              "  <svg xmlns=\"http://www.w3.org/2000/svg\" height=\"24px\"viewBox=\"0 0 24 24\"\n",
              "       width=\"24px\">\n",
              "    <path d=\"M0 0h24v24H0V0z\" fill=\"none\"/>\n",
              "    <path d=\"M18.56 5.44l.94 2.06.94-2.06 2.06-.94-2.06-.94-.94-2.06-.94 2.06-2.06.94zm-11 1L8.5 8.5l.94-2.06 2.06-.94-2.06-.94L8.5 2.5l-.94 2.06-2.06.94zm10 10l.94 2.06.94-2.06 2.06-.94-2.06-.94-.94-2.06-.94 2.06-2.06.94z\"/><path d=\"M17.41 7.96l-1.37-1.37c-.4-.4-.92-.59-1.43-.59-.52 0-1.04.2-1.43.59L10.3 9.45l-7.72 7.72c-.78.78-.78 2.05 0 2.83L4 21.41c.39.39.9.59 1.41.59.51 0 1.02-.2 1.41-.59l7.78-7.78 2.81-2.81c.8-.78.8-2.07 0-2.86zM5.41 20L4 18.59l7.72-7.72 1.47 1.35L5.41 20z\"/>\n",
              "  </svg>\n",
              "      </button>\n",
              "      \n",
              "  <style>\n",
              "    .colab-df-container {\n",
              "      display:flex;\n",
              "      flex-wrap:wrap;\n",
              "      gap: 12px;\n",
              "    }\n",
              "\n",
              "    .colab-df-convert {\n",
              "      background-color: #E8F0FE;\n",
              "      border: none;\n",
              "      border-radius: 50%;\n",
              "      cursor: pointer;\n",
              "      display: none;\n",
              "      fill: #1967D2;\n",
              "      height: 32px;\n",
              "      padding: 0 0 0 0;\n",
              "      width: 32px;\n",
              "    }\n",
              "\n",
              "    .colab-df-convert:hover {\n",
              "      background-color: #E2EBFA;\n",
              "      box-shadow: 0px 1px 2px rgba(60, 64, 67, 0.3), 0px 1px 3px 1px rgba(60, 64, 67, 0.15);\n",
              "      fill: #174EA6;\n",
              "    }\n",
              "\n",
              "    [theme=dark] .colab-df-convert {\n",
              "      background-color: #3B4455;\n",
              "      fill: #D2E3FC;\n",
              "    }\n",
              "\n",
              "    [theme=dark] .colab-df-convert:hover {\n",
              "      background-color: #434B5C;\n",
              "      box-shadow: 0px 1px 3px 1px rgba(0, 0, 0, 0.15);\n",
              "      filter: drop-shadow(0px 1px 2px rgba(0, 0, 0, 0.3));\n",
              "      fill: #FFFFFF;\n",
              "    }\n",
              "  </style>\n",
              "\n",
              "      <script>\n",
              "        const buttonEl =\n",
              "          document.querySelector('#df-e9fb8ffb-1b06-4e69-be27-021b638fd8a2 button.colab-df-convert');\n",
              "        buttonEl.style.display =\n",
              "          google.colab.kernel.accessAllowed ? 'block' : 'none';\n",
              "\n",
              "        async function convertToInteractive(key) {\n",
              "          const element = document.querySelector('#df-e9fb8ffb-1b06-4e69-be27-021b638fd8a2');\n",
              "          const dataTable =\n",
              "            await google.colab.kernel.invokeFunction('convertToInteractive',\n",
              "                                                     [key], {});\n",
              "          if (!dataTable) return;\n",
              "\n",
              "          const docLinkHtml = 'Like what you see? Visit the ' +\n",
              "            '<a target=\"_blank\" href=https://colab.research.google.com/notebooks/data_table.ipynb>data table notebook</a>'\n",
              "            + ' to learn more about interactive tables.';\n",
              "          element.innerHTML = '';\n",
              "          dataTable['output_type'] = 'display_data';\n",
              "          await google.colab.output.renderOutput(dataTable, element);\n",
              "          const docLink = document.createElement('div');\n",
              "          docLink.innerHTML = docLinkHtml;\n",
              "          element.appendChild(docLink);\n",
              "        }\n",
              "      </script>\n",
              "    </div>\n",
              "  </div>\n",
              "  "
            ]
          },
          "metadata": {},
          "execution_count": 33
        }
      ]
    },
    {
      "cell_type": "markdown",
      "source": [
        "# D4\n",
        "<!-- **Reductions approach with Exponentiated Gradient** -->"
      ],
      "metadata": {
        "id": "ssuomoOgYERW"
      }
    },
    {
      "cell_type": "markdown",
      "source": [
        "**Reductions approach with Exponentiated Gradient**"
      ],
      "metadata": {
        "id": "Llf_NiK1SNmk"
      }
    },
    {
      "cell_type": "markdown",
      "source": [
        "The constraints supported by ExponentiatedGradient are more general than those supported by ThresholdOptimizer. For example, rather than requiring that false negative rates be equal, it is possible to specify the maxium allowed difference or ratio between the largest and the smallest value."
      ],
      "metadata": {
        "id": "q4JmJzrcPYQB"
      }
    },
    {
      "cell_type": "code",
      "source": [
        "expgrad_est = ExponentiatedGradient(\n",
        "    estimator=LogisticRegression(max_iter=1000, random_state=random_seed),\n",
        "    constraints=TruePositiveRateParity(difference_bound=0.02) #EqualizedOdds()\n",
        ")"
      ],
      "metadata": {
        "id": "kVf7dMtRPY97"
      },
      "execution_count": null,
      "outputs": []
    },
    {
      "cell_type": "markdown",
      "source": [
        "The constraints above are expressed for the true positive parity, they require that the difference between the largest and the smallest true positive rate (TPR) across all groups be at most 0.02. Since false negative rate (FNR) is equal to 1-TPR, this is equivalent to requiring that the difference between the largest and smallest FNR be at most 0.02."
      ],
      "metadata": {
        "id": "wTxCf9tGPb8H"
      }
    },
    {
      "cell_type": "code",
      "source": [
        "# Fit the exponentiated gradient model\n",
        "expgrad_est.fit(X_train_bal, Y_train_bal, sensitive_features=A_train_bal)\n",
        "\n",
        "# Record and evaluate predictions on test data\n",
        "Y_pred_reductions = expgrad_est.predict(X_test, random_state=random_seed)"
      ],
      "metadata": {
        "colab": {
          "base_uri": "https://localhost:8080/"
        },
        "id": "NMGrAaemPfLV",
        "outputId": "5827553d-4c00-4d0d-f25e-d9e76a9ab7bd"
      },
      "execution_count": null,
      "outputs": [
        {
          "output_type": "stream",
          "name": "stderr",
          "text": [
            "/usr/local/lib/python3.7/dist-packages/fairlearn/reductions/_moments/utility_parity.py:251: FutureWarning: Using the level keyword in DataFrame and Series aggregations is deprecated and will be removed in a future version. Use groupby instead. df.sum(level=1) should use df.groupby(level=1).sum().\n",
            "  lambda_event = (lambda_vec[\"+\"] - self.ratio * lambda_vec[\"-\"]).sum(level=_EVENT) / \\\n",
            "/usr/local/lib/python3.7/dist-packages/fairlearn/reductions/_moments/utility_parity.py:251: FutureWarning: Using the level keyword in DataFrame and Series aggregations is deprecated and will be removed in a future version. Use groupby instead. df.sum(level=1) should use df.groupby(level=1).sum().\n",
            "  lambda_event = (lambda_vec[\"+\"] - self.ratio * lambda_vec[\"-\"]).sum(level=_EVENT) / \\\n",
            "/usr/local/lib/python3.7/dist-packages/fairlearn/reductions/_moments/utility_parity.py:251: FutureWarning: Using the level keyword in DataFrame and Series aggregations is deprecated and will be removed in a future version. Use groupby instead. df.sum(level=1) should use df.groupby(level=1).sum().\n",
            "  lambda_event = (lambda_vec[\"+\"] - self.ratio * lambda_vec[\"-\"]).sum(level=_EVENT) / \\\n",
            "/usr/local/lib/python3.7/dist-packages/fairlearn/reductions/_moments/utility_parity.py:251: FutureWarning: Using the level keyword in DataFrame and Series aggregations is deprecated and will be removed in a future version. Use groupby instead. df.sum(level=1) should use df.groupby(level=1).sum().\n",
            "  lambda_event = (lambda_vec[\"+\"] - self.ratio * lambda_vec[\"-\"]).sum(level=_EVENT) / \\\n",
            "/usr/local/lib/python3.7/dist-packages/fairlearn/reductions/_moments/utility_parity.py:251: FutureWarning: Using the level keyword in DataFrame and Series aggregations is deprecated and will be removed in a future version. Use groupby instead. df.sum(level=1) should use df.groupby(level=1).sum().\n",
            "  lambda_event = (lambda_vec[\"+\"] - self.ratio * lambda_vec[\"-\"]).sum(level=_EVENT) / \\\n",
            "/usr/local/lib/python3.7/dist-packages/fairlearn/reductions/_moments/utility_parity.py:251: FutureWarning: Using the level keyword in DataFrame and Series aggregations is deprecated and will be removed in a future version. Use groupby instead. df.sum(level=1) should use df.groupby(level=1).sum().\n",
            "  lambda_event = (lambda_vec[\"+\"] - self.ratio * lambda_vec[\"-\"]).sum(level=_EVENT) / \\\n",
            "/usr/local/lib/python3.7/dist-packages/fairlearn/reductions/_moments/utility_parity.py:251: FutureWarning: Using the level keyword in DataFrame and Series aggregations is deprecated and will be removed in a future version. Use groupby instead. df.sum(level=1) should use df.groupby(level=1).sum().\n",
            "  lambda_event = (lambda_vec[\"+\"] - self.ratio * lambda_vec[\"-\"]).sum(level=_EVENT) / \\\n",
            "/usr/local/lib/python3.7/dist-packages/fairlearn/reductions/_moments/utility_parity.py:251: FutureWarning: Using the level keyword in DataFrame and Series aggregations is deprecated and will be removed in a future version. Use groupby instead. df.sum(level=1) should use df.groupby(level=1).sum().\n",
            "  lambda_event = (lambda_vec[\"+\"] - self.ratio * lambda_vec[\"-\"]).sum(level=_EVENT) / \\\n",
            "/usr/local/lib/python3.7/dist-packages/fairlearn/reductions/_moments/utility_parity.py:251: FutureWarning: Using the level keyword in DataFrame and Series aggregations is deprecated and will be removed in a future version. Use groupby instead. df.sum(level=1) should use df.groupby(level=1).sum().\n",
            "  lambda_event = (lambda_vec[\"+\"] - self.ratio * lambda_vec[\"-\"]).sum(level=_EVENT) / \\\n",
            "/usr/local/lib/python3.7/dist-packages/fairlearn/reductions/_moments/utility_parity.py:251: FutureWarning: Using the level keyword in DataFrame and Series aggregations is deprecated and will be removed in a future version. Use groupby instead. df.sum(level=1) should use df.groupby(level=1).sum().\n",
            "  lambda_event = (lambda_vec[\"+\"] - self.ratio * lambda_vec[\"-\"]).sum(level=_EVENT) / \\\n",
            "/usr/local/lib/python3.7/dist-packages/fairlearn/reductions/_moments/utility_parity.py:251: FutureWarning: Using the level keyword in DataFrame and Series aggregations is deprecated and will be removed in a future version. Use groupby instead. df.sum(level=1) should use df.groupby(level=1).sum().\n",
            "  lambda_event = (lambda_vec[\"+\"] - self.ratio * lambda_vec[\"-\"]).sum(level=_EVENT) / \\\n",
            "/usr/local/lib/python3.7/dist-packages/fairlearn/reductions/_moments/utility_parity.py:251: FutureWarning: Using the level keyword in DataFrame and Series aggregations is deprecated and will be removed in a future version. Use groupby instead. df.sum(level=1) should use df.groupby(level=1).sum().\n",
            "  lambda_event = (lambda_vec[\"+\"] - self.ratio * lambda_vec[\"-\"]).sum(level=_EVENT) / \\\n",
            "/usr/local/lib/python3.7/dist-packages/fairlearn/reductions/_moments/utility_parity.py:251: FutureWarning: Using the level keyword in DataFrame and Series aggregations is deprecated and will be removed in a future version. Use groupby instead. df.sum(level=1) should use df.groupby(level=1).sum().\n",
            "  lambda_event = (lambda_vec[\"+\"] - self.ratio * lambda_vec[\"-\"]).sum(level=_EVENT) / \\\n",
            "/usr/local/lib/python3.7/dist-packages/fairlearn/reductions/_moments/utility_parity.py:251: FutureWarning: Using the level keyword in DataFrame and Series aggregations is deprecated and will be removed in a future version. Use groupby instead. df.sum(level=1) should use df.groupby(level=1).sum().\n",
            "  lambda_event = (lambda_vec[\"+\"] - self.ratio * lambda_vec[\"-\"]).sum(level=_EVENT) / \\\n",
            "/usr/local/lib/python3.7/dist-packages/fairlearn/reductions/_moments/utility_parity.py:251: FutureWarning: Using the level keyword in DataFrame and Series aggregations is deprecated and will be removed in a future version. Use groupby instead. df.sum(level=1) should use df.groupby(level=1).sum().\n",
            "  lambda_event = (lambda_vec[\"+\"] - self.ratio * lambda_vec[\"-\"]).sum(level=_EVENT) / \\\n",
            "/usr/local/lib/python3.7/dist-packages/fairlearn/reductions/_moments/utility_parity.py:251: FutureWarning: Using the level keyword in DataFrame and Series aggregations is deprecated and will be removed in a future version. Use groupby instead. df.sum(level=1) should use df.groupby(level=1).sum().\n",
            "  lambda_event = (lambda_vec[\"+\"] - self.ratio * lambda_vec[\"-\"]).sum(level=_EVENT) / \\\n",
            "/usr/local/lib/python3.7/dist-packages/fairlearn/reductions/_moments/utility_parity.py:251: FutureWarning: Using the level keyword in DataFrame and Series aggregations is deprecated and will be removed in a future version. Use groupby instead. df.sum(level=1) should use df.groupby(level=1).sum().\n",
            "  lambda_event = (lambda_vec[\"+\"] - self.ratio * lambda_vec[\"-\"]).sum(level=_EVENT) / \\\n"
          ]
        }
      ]
    },
    {
      "cell_type": "code",
      "source": [
        "metricframe_reductions_eg = MetricFrame(\n",
        "    metrics=metrics_dict,\n",
        "    y_true=Y_test,\n",
        "    y_pred=Y_pred_reductions,\n",
        "    sensitive_features=df_test['RACE'] # df_test['SEX']\n",
        ")\n",
        "\n",
        "pd.concat([metricframe_unmitigated.by_group,\n",
        "           metricframe_reductions_eg.by_group],\n",
        "           keys=['Unmitigated', 'ExponentiatedGradient'],\n",
        "           axis=0)"
      ],
      "metadata": {
        "colab": {
          "base_uri": "https://localhost:8080/",
          "height": 206
        },
        "id": "FigWpnOFPfkU",
        "outputId": "580dc780-3894-4788-ead4-ac5470467d66"
      },
      "execution_count": null,
      "outputs": [
        {
          "output_type": "execute_result",
          "data": {
            "text/plain": [
              "                           selection_rate false_negative_rate  \\\n",
              "                      RACE                                      \n",
              "Unmitigated           0          0.258359            0.265487   \n",
              "                      1          0.440083            0.193548   \n",
              "ExponentiatedGradient 0          0.277609            0.256637   \n",
              "                      1          0.404959            0.169355   \n",
              "\n",
              "                           true_negative_rate false_positive_rate  \\\n",
              "                      RACE                                          \n",
              "Unmitigated           0              0.803204            0.196796   \n",
              "                      1              0.686111            0.313889   \n",
              "ExponentiatedGradient 0              0.782609            0.217391   \n",
              "                      1              0.741667            0.258333   \n",
              "\n",
              "                           true_positive_rate balanced_accuracy  \n",
              "                      RACE                                       \n",
              "Unmitigated           0              0.734513          0.768858  \n",
              "                      1              0.806452          0.746281  \n",
              "ExponentiatedGradient 0              0.743363          0.762986  \n",
              "                      1              0.830645          0.786156  "
            ],
            "text/html": [
              "\n",
              "  <div id=\"df-31d99272-d540-43d8-b555-ed8204bf475e\">\n",
              "    <div class=\"colab-df-container\">\n",
              "      <div>\n",
              "<style scoped>\n",
              "    .dataframe tbody tr th:only-of-type {\n",
              "        vertical-align: middle;\n",
              "    }\n",
              "\n",
              "    .dataframe tbody tr th {\n",
              "        vertical-align: top;\n",
              "    }\n",
              "\n",
              "    .dataframe thead th {\n",
              "        text-align: right;\n",
              "    }\n",
              "</style>\n",
              "<table border=\"1\" class=\"dataframe\">\n",
              "  <thead>\n",
              "    <tr style=\"text-align: right;\">\n",
              "      <th></th>\n",
              "      <th></th>\n",
              "      <th>selection_rate</th>\n",
              "      <th>false_negative_rate</th>\n",
              "      <th>true_negative_rate</th>\n",
              "      <th>false_positive_rate</th>\n",
              "      <th>true_positive_rate</th>\n",
              "      <th>balanced_accuracy</th>\n",
              "    </tr>\n",
              "    <tr>\n",
              "      <th></th>\n",
              "      <th>RACE</th>\n",
              "      <th></th>\n",
              "      <th></th>\n",
              "      <th></th>\n",
              "      <th></th>\n",
              "      <th></th>\n",
              "      <th></th>\n",
              "    </tr>\n",
              "  </thead>\n",
              "  <tbody>\n",
              "    <tr>\n",
              "      <th rowspan=\"2\" valign=\"top\">Unmitigated</th>\n",
              "      <th>0</th>\n",
              "      <td>0.258359</td>\n",
              "      <td>0.265487</td>\n",
              "      <td>0.803204</td>\n",
              "      <td>0.196796</td>\n",
              "      <td>0.734513</td>\n",
              "      <td>0.768858</td>\n",
              "    </tr>\n",
              "    <tr>\n",
              "      <th>1</th>\n",
              "      <td>0.440083</td>\n",
              "      <td>0.193548</td>\n",
              "      <td>0.686111</td>\n",
              "      <td>0.313889</td>\n",
              "      <td>0.806452</td>\n",
              "      <td>0.746281</td>\n",
              "    </tr>\n",
              "    <tr>\n",
              "      <th rowspan=\"2\" valign=\"top\">ExponentiatedGradient</th>\n",
              "      <th>0</th>\n",
              "      <td>0.277609</td>\n",
              "      <td>0.256637</td>\n",
              "      <td>0.782609</td>\n",
              "      <td>0.217391</td>\n",
              "      <td>0.743363</td>\n",
              "      <td>0.762986</td>\n",
              "    </tr>\n",
              "    <tr>\n",
              "      <th>1</th>\n",
              "      <td>0.404959</td>\n",
              "      <td>0.169355</td>\n",
              "      <td>0.741667</td>\n",
              "      <td>0.258333</td>\n",
              "      <td>0.830645</td>\n",
              "      <td>0.786156</td>\n",
              "    </tr>\n",
              "  </tbody>\n",
              "</table>\n",
              "</div>\n",
              "      <button class=\"colab-df-convert\" onclick=\"convertToInteractive('df-31d99272-d540-43d8-b555-ed8204bf475e')\"\n",
              "              title=\"Convert this dataframe to an interactive table.\"\n",
              "              style=\"display:none;\">\n",
              "        \n",
              "  <svg xmlns=\"http://www.w3.org/2000/svg\" height=\"24px\"viewBox=\"0 0 24 24\"\n",
              "       width=\"24px\">\n",
              "    <path d=\"M0 0h24v24H0V0z\" fill=\"none\"/>\n",
              "    <path d=\"M18.56 5.44l.94 2.06.94-2.06 2.06-.94-2.06-.94-.94-2.06-.94 2.06-2.06.94zm-11 1L8.5 8.5l.94-2.06 2.06-.94-2.06-.94L8.5 2.5l-.94 2.06-2.06.94zm10 10l.94 2.06.94-2.06 2.06-.94-2.06-.94-.94-2.06-.94 2.06-2.06.94z\"/><path d=\"M17.41 7.96l-1.37-1.37c-.4-.4-.92-.59-1.43-.59-.52 0-1.04.2-1.43.59L10.3 9.45l-7.72 7.72c-.78.78-.78 2.05 0 2.83L4 21.41c.39.39.9.59 1.41.59.51 0 1.02-.2 1.41-.59l7.78-7.78 2.81-2.81c.8-.78.8-2.07 0-2.86zM5.41 20L4 18.59l7.72-7.72 1.47 1.35L5.41 20z\"/>\n",
              "  </svg>\n",
              "      </button>\n",
              "      \n",
              "  <style>\n",
              "    .colab-df-container {\n",
              "      display:flex;\n",
              "      flex-wrap:wrap;\n",
              "      gap: 12px;\n",
              "    }\n",
              "\n",
              "    .colab-df-convert {\n",
              "      background-color: #E8F0FE;\n",
              "      border: none;\n",
              "      border-radius: 50%;\n",
              "      cursor: pointer;\n",
              "      display: none;\n",
              "      fill: #1967D2;\n",
              "      height: 32px;\n",
              "      padding: 0 0 0 0;\n",
              "      width: 32px;\n",
              "    }\n",
              "\n",
              "    .colab-df-convert:hover {\n",
              "      background-color: #E2EBFA;\n",
              "      box-shadow: 0px 1px 2px rgba(60, 64, 67, 0.3), 0px 1px 3px 1px rgba(60, 64, 67, 0.15);\n",
              "      fill: #174EA6;\n",
              "    }\n",
              "\n",
              "    [theme=dark] .colab-df-convert {\n",
              "      background-color: #3B4455;\n",
              "      fill: #D2E3FC;\n",
              "    }\n",
              "\n",
              "    [theme=dark] .colab-df-convert:hover {\n",
              "      background-color: #434B5C;\n",
              "      box-shadow: 0px 1px 3px 1px rgba(0, 0, 0, 0.15);\n",
              "      filter: drop-shadow(0px 1px 2px rgba(0, 0, 0, 0.3));\n",
              "      fill: #FFFFFF;\n",
              "    }\n",
              "  </style>\n",
              "\n",
              "      <script>\n",
              "        const buttonEl =\n",
              "          document.querySelector('#df-31d99272-d540-43d8-b555-ed8204bf475e button.colab-df-convert');\n",
              "        buttonEl.style.display =\n",
              "          google.colab.kernel.accessAllowed ? 'block' : 'none';\n",
              "\n",
              "        async function convertToInteractive(key) {\n",
              "          const element = document.querySelector('#df-31d99272-d540-43d8-b555-ed8204bf475e');\n",
              "          const dataTable =\n",
              "            await google.colab.kernel.invokeFunction('convertToInteractive',\n",
              "                                                     [key], {});\n",
              "          if (!dataTable) return;\n",
              "\n",
              "          const docLinkHtml = 'Like what you see? Visit the ' +\n",
              "            '<a target=\"_blank\" href=https://colab.research.google.com/notebooks/data_table.ipynb>data table notebook</a>'\n",
              "            + ' to learn more about interactive tables.';\n",
              "          element.innerHTML = '';\n",
              "          dataTable['output_type'] = 'display_data';\n",
              "          await google.colab.output.renderOutput(dataTable, element);\n",
              "          const docLink = document.createElement('div');\n",
              "          docLink.innerHTML = docLinkHtml;\n",
              "          element.appendChild(docLink);\n",
              "        }\n",
              "      </script>\n",
              "    </div>\n",
              "  </div>\n",
              "  "
            ]
          },
          "metadata": {},
          "execution_count": 36
        }
      ]
    },
    {
      "cell_type": "markdown",
      "source": [
        "During the training process, the ExponentiatedGradient algorithm iteratively trains multiple inner models on a reweighted training dataset. The algorithm stores each of these predictors and then randomizes among them at deployment time.\n",
        "\n",
        "In this section explore the performance of the individual predictors learned by the ExponentiatedGradient algorithm. First, note that since the base estimator was LogisticRegression all these predictors are different logistic regression models:"
      ],
      "metadata": {
        "id": "n5OhUnt9PlDv"
      }
    },
    {
      "cell_type": "code",
      "source": [
        "predictors = expgrad_est.predictors_\n",
        "\n",
        "# Collect predictions by all predictors and calculate balanced error\n",
        "# as well as the false negative difference for all of them\n",
        "\n",
        "sweep_preds = [clf.predict(X_test) for clf in predictors]\n",
        "balanced_error_sweep = [1-balanced_accuracy_score(Y_test, Y_sweep) for Y_sweep in sweep_preds]\n",
        "fnr_diff_sweep = [false_negative_rate_difference(Y_test, Y_sweep, sensitive_features=A_test) for Y_sweep in sweep_preds]"
      ],
      "metadata": {
        "id": "wukR1rESPlkS"
      },
      "execution_count": null,
      "outputs": []
    },
    {
      "cell_type": "code",
      "source": [
        "# Show the balanced error / fnr difference values of all predictors on a raster plot  \n",
        "\n",
        "plt.scatter(balanced_error_sweep, fnr_diff_sweep, label=\"ExponentiatedGradient - Iterations\")\n",
        "for i in range(len(predictors)):\n",
        "  plt.annotate(str(i), xy=(balanced_error_sweep[i]+0.001, fnr_diff_sweep[i]+0.001))\n",
        "\n",
        "# Also include in the plot the combined ExponentiatedGradient model\n",
        "# as well as the 2 previously fitted models\n",
        "\n",
        "plt.scatter(1-balanced_accuracy_score(Y_test, Y_pred_reductions),\n",
        "            false_negative_rate_difference(Y_test, Y_pred_reductions, sensitive_features=A_test),\n",
        "            label=\"ExponentiatedGradient - Combined model\")\n",
        "plt.scatter(1-balanced_accuracy_score(Y_test, Y_pred),\n",
        "            false_negative_rate_difference(Y_test, Y_pred, sensitive_features=A_test),\n",
        "            label=\"Unmitigated\")\n",
        "plt.scatter(1-balanced_accuracy_score(Y_test, Y_pred_postprocess),\n",
        "            false_negative_rate_difference(Y_test, Y_pred_postprocess, sensitive_features=A_test),\n",
        "            label=\"ThresholdOptimizer\")\n",
        "\n",
        "plt.xlabel(\"Balanced Error Rate\")\n",
        "plt.ylabel(\"False Negative Rate Difference\")\n",
        "plt.legend(bbox_to_anchor=(1.9,1))\n",
        "plt.show()"
      ],
      "metadata": {
        "colab": {
          "base_uri": "https://localhost:8080/",
          "height": 285
        },
        "id": "hqARGAMZPnKl",
        "outputId": "666d1eb3-4c8a-4006-92b6-317dd1819320"
      },
      "execution_count": null,
      "outputs": [
        {
          "output_type": "display_data",
          "data": {
            "text/plain": [
              "<Figure size 432x288 with 1 Axes>"
            ],
            "image/png": "[encoded data removed]"
          },
          "metadata": {}
        }
      ]
    },
    {
      "cell_type": "markdown",
      "source": [
        "Model performance - overall (Race)"
      ],
      "metadata": {
        "id": "Q7UpN02iPvZM"
      }
    },
    {
      "cell_type": "code",
      "source": [
        "overall_df = pd.DataFrame.from_dict({\n",
        "    \"Unmitigated\": metricframe_unmitigated.overall,\n",
        "    \"Postprocessing\": metricframe_postprocess.overall,\n",
        "    \"Reductions (EG)\": metricframe_reductions_eg.overall\n",
        "})\n",
        "overall_df.transpose().plot.bar(subplots=True, layout= [1,6], figsize=(19, 5), legend=False, rot=-45, position=1.5);"
      ],
      "metadata": {
        "colab": {
          "base_uri": "https://localhost:8080/",
          "height": 398
        },
        "id": "EjEh4tqwPvzQ",
        "outputId": "eee737d1-26af-4626-8458-a66d8efa239f"
      },
      "execution_count": null,
      "outputs": [
        {
          "output_type": "display_data",
          "data": {
            "text/plain": [
              "<Figure size 1368x360 with 6 Axes>"
            ],
            "image/png": "[encoded data removed]"
          },
          "metadata": {}
        }
      ]
    },
    {
      "cell_type": "markdown",
      "source": [
        "# D5\n",
        "<!-- **Reductions approach with Gradient Descend** -->"
      ],
      "metadata": {
        "id": "3g-iSGxgYUC6"
      }
    },
    {
      "cell_type": "markdown",
      "source": [
        "**Reductions approach with Gradient Descend**"
      ],
      "metadata": {
        "id": "-HaneN-aSgZ_"
      }
    },
    {
      "cell_type": "code",
      "source": [
        "# Train GridSearch\n",
        "sweep = GridSearch(estimator=LogisticRegression(max_iter=1000, random_state=random_seed),\n",
        "                   constraints=TruePositiveRateParity(difference_bound=0.02),\n",
        "                   grid_size=50,\n",
        "                   grid_limit=3)\n",
        "\n",
        "sweep.fit(X_train_bal, Y_train_bal, sensitive_features=A_train_bal)\n",
        "\n",
        "# Record and evaluate predictions on test data\n",
        "Y_pred_reductions = sweep.predict(X_test)"
      ],
      "metadata": {
        "colab": {
          "base_uri": "https://localhost:8080/"
        },
        "id": "iv-l1rdVQYOr",
        "outputId": "ceacf6d0-2a68-4e23-8a90-1ab46b1e2d07"
      },
      "execution_count": null,
      "outputs": [
        {
          "output_type": "stream",
          "name": "stderr",
          "text": [
            "/usr/local/lib/python3.7/dist-packages/fairlearn/reductions/_moments/utility_parity.py:251: FutureWarning: Using the level keyword in DataFrame and Series aggregations is deprecated and will be removed in a future version. Use groupby instead. df.sum(level=1) should use df.groupby(level=1).sum().\n",
            "  lambda_event = (lambda_vec[\"+\"] - self.ratio * lambda_vec[\"-\"]).sum(level=_EVENT) / \\\n",
            "/usr/local/lib/python3.7/dist-packages/fairlearn/reductions/_moments/utility_parity.py:251: FutureWarning: Using the level keyword in DataFrame and Series aggregations is deprecated and will be removed in a future version. Use groupby instead. df.sum(level=1) should use df.groupby(level=1).sum().\n",
            "  lambda_event = (lambda_vec[\"+\"] - self.ratio * lambda_vec[\"-\"]).sum(level=_EVENT) / \\\n",
            "/usr/local/lib/python3.7/dist-packages/fairlearn/reductions/_moments/utility_parity.py:251: FutureWarning: Using the level keyword in DataFrame and Series aggregations is deprecated and will be removed in a future version. Use groupby instead. df.sum(level=1) should use df.groupby(level=1).sum().\n",
            "  lambda_event = (lambda_vec[\"+\"] - self.ratio * lambda_vec[\"-\"]).sum(level=_EVENT) / \\\n",
            "/usr/local/lib/python3.7/dist-packages/sklearn/linear_model/_logistic.py:818: ConvergenceWarning: lbfgs failed to converge (status=1):\n",
            "STOP: TOTAL NO. of ITERATIONS REACHED LIMIT.\n",
            "\n",
            "Increase the number of iterations (max_iter) or scale the data as shown in:\n",
            "    https://scikit-learn.org/stable/modules/preprocessing.html\n",
            "Please also refer to the documentation for alternative solver options:\n",
            "    https://scikit-learn.org/stable/modules/linear_model.html#logistic-regression\n",
            "  extra_warning_msg=_LOGISTIC_SOLVER_CONVERGENCE_MSG,\n",
            "/usr/local/lib/python3.7/dist-packages/fairlearn/reductions/_moments/utility_parity.py:251: FutureWarning: Using the level keyword in DataFrame and Series aggregations is deprecated and will be removed in a future version. Use groupby instead. df.sum(level=1) should use df.groupby(level=1).sum().\n",
            "  lambda_event = (lambda_vec[\"+\"] - self.ratio * lambda_vec[\"-\"]).sum(level=_EVENT) / \\\n",
            "/usr/local/lib/python3.7/dist-packages/sklearn/linear_model/_logistic.py:818: ConvergenceWarning: lbfgs failed to converge (status=1):\n",
            "STOP: TOTAL NO. of ITERATIONS REACHED LIMIT.\n",
            "\n",
            "Increase the number of iterations (max_iter) or scale the data as shown in:\n",
            "    https://scikit-learn.org/stable/modules/preprocessing.html\n",
            "Please also refer to the documentation for alternative solver options:\n",
            "    https://scikit-learn.org/stable/modules/linear_model.html#logistic-regression\n",
            "  extra_warning_msg=_LOGISTIC_SOLVER_CONVERGENCE_MSG,\n",
            "/usr/local/lib/python3.7/dist-packages/fairlearn/reductions/_moments/utility_parity.py:251: FutureWarning: Using the level keyword in DataFrame and Series aggregations is deprecated and will be removed in a future version. Use groupby instead. df.sum(level=1) should use df.groupby(level=1).sum().\n",
            "  lambda_event = (lambda_vec[\"+\"] - self.ratio * lambda_vec[\"-\"]).sum(level=_EVENT) / \\\n",
            "/usr/local/lib/python3.7/dist-packages/fairlearn/reductions/_moments/utility_parity.py:251: FutureWarning: Using the level keyword in DataFrame and Series aggregations is deprecated and will be removed in a future version. Use groupby instead. df.sum(level=1) should use df.groupby(level=1).sum().\n",
            "  lambda_event = (lambda_vec[\"+\"] - self.ratio * lambda_vec[\"-\"]).sum(level=_EVENT) / \\\n",
            "/usr/local/lib/python3.7/dist-packages/sklearn/linear_model/_logistic.py:818: ConvergenceWarning: lbfgs failed to converge (status=1):\n",
            "STOP: TOTAL NO. of ITERATIONS REACHED LIMIT.\n",
            "\n",
            "Increase the number of iterations (max_iter) or scale the data as shown in:\n",
            "    https://scikit-learn.org/stable/modules/preprocessing.html\n",
            "Please also refer to the documentation for alternative solver options:\n",
            "    https://scikit-learn.org/stable/modules/linear_model.html#logistic-regression\n",
            "  extra_warning_msg=_LOGISTIC_SOLVER_CONVERGENCE_MSG,\n",
            "/usr/local/lib/python3.7/dist-packages/fairlearn/reductions/_moments/utility_parity.py:251: FutureWarning: Using the level keyword in DataFrame and Series aggregations is deprecated and will be removed in a future version. Use groupby instead. df.sum(level=1) should use df.groupby(level=1).sum().\n",
            "  lambda_event = (lambda_vec[\"+\"] - self.ratio * lambda_vec[\"-\"]).sum(level=_EVENT) / \\\n",
            "/usr/local/lib/python3.7/dist-packages/sklearn/linear_model/_logistic.py:818: ConvergenceWarning: lbfgs failed to converge (status=1):\n",
            "STOP: TOTAL NO. of ITERATIONS REACHED LIMIT.\n",
            "\n",
            "Increase the number of iterations (max_iter) or scale the data as shown in:\n",
            "    https://scikit-learn.org/stable/modules/preprocessing.html\n",
            "Please also refer to the documentation for alternative solver options:\n",
            "    https://scikit-learn.org/stable/modules/linear_model.html#logistic-regression\n",
            "  extra_warning_msg=_LOGISTIC_SOLVER_CONVERGENCE_MSG,\n",
            "/usr/local/lib/python3.7/dist-packages/fairlearn/reductions/_moments/utility_parity.py:251: FutureWarning: Using the level keyword in DataFrame and Series aggregations is deprecated and will be removed in a future version. Use groupby instead. df.sum(level=1) should use df.groupby(level=1).sum().\n",
            "  lambda_event = (lambda_vec[\"+\"] - self.ratio * lambda_vec[\"-\"]).sum(level=_EVENT) / \\\n",
            "/usr/local/lib/python3.7/dist-packages/fairlearn/reductions/_moments/utility_parity.py:251: FutureWarning: Using the level keyword in DataFrame and Series aggregations is deprecated and will be removed in a future version. Use groupby instead. df.sum(level=1) should use df.groupby(level=1).sum().\n",
            "  lambda_event = (lambda_vec[\"+\"] - self.ratio * lambda_vec[\"-\"]).sum(level=_EVENT) / \\\n",
            "/usr/local/lib/python3.7/dist-packages/fairlearn/reductions/_moments/utility_parity.py:251: FutureWarning: Using the level keyword in DataFrame and Series aggregations is deprecated and will be removed in a future version. Use groupby instead. df.sum(level=1) should use df.groupby(level=1).sum().\n",
            "  lambda_event = (lambda_vec[\"+\"] - self.ratio * lambda_vec[\"-\"]).sum(level=_EVENT) / \\\n",
            "/usr/local/lib/python3.7/dist-packages/fairlearn/reductions/_moments/utility_parity.py:251: FutureWarning: Using the level keyword in DataFrame and Series aggregations is deprecated and will be removed in a future version. Use groupby instead. df.sum(level=1) should use df.groupby(level=1).sum().\n",
            "  lambda_event = (lambda_vec[\"+\"] - self.ratio * lambda_vec[\"-\"]).sum(level=_EVENT) / \\\n",
            "/usr/local/lib/python3.7/dist-packages/fairlearn/reductions/_moments/utility_parity.py:251: FutureWarning: Using the level keyword in DataFrame and Series aggregations is deprecated and will be removed in a future version. Use groupby instead. df.sum(level=1) should use df.groupby(level=1).sum().\n",
            "  lambda_event = (lambda_vec[\"+\"] - self.ratio * lambda_vec[\"-\"]).sum(level=_EVENT) / \\\n",
            "/usr/local/lib/python3.7/dist-packages/fairlearn/reductions/_moments/utility_parity.py:251: FutureWarning: Using the level keyword in DataFrame and Series aggregations is deprecated and will be removed in a future version. Use groupby instead. df.sum(level=1) should use df.groupby(level=1).sum().\n",
            "  lambda_event = (lambda_vec[\"+\"] - self.ratio * lambda_vec[\"-\"]).sum(level=_EVENT) / \\\n",
            "/usr/local/lib/python3.7/dist-packages/fairlearn/reductions/_moments/utility_parity.py:251: FutureWarning: Using the level keyword in DataFrame and Series aggregations is deprecated and will be removed in a future version. Use groupby instead. df.sum(level=1) should use df.groupby(level=1).sum().\n",
            "  lambda_event = (lambda_vec[\"+\"] - self.ratio * lambda_vec[\"-\"]).sum(level=_EVENT) / \\\n",
            "/usr/local/lib/python3.7/dist-packages/fairlearn/reductions/_moments/utility_parity.py:251: FutureWarning: Using the level keyword in DataFrame and Series aggregations is deprecated and will be removed in a future version. Use groupby instead. df.sum(level=1) should use df.groupby(level=1).sum().\n",
            "  lambda_event = (lambda_vec[\"+\"] - self.ratio * lambda_vec[\"-\"]).sum(level=_EVENT) / \\\n",
            "/usr/local/lib/python3.7/dist-packages/fairlearn/reductions/_moments/utility_parity.py:251: FutureWarning: Using the level keyword in DataFrame and Series aggregations is deprecated and will be removed in a future version. Use groupby instead. df.sum(level=1) should use df.groupby(level=1).sum().\n",
            "  lambda_event = (lambda_vec[\"+\"] - self.ratio * lambda_vec[\"-\"]).sum(level=_EVENT) / \\\n",
            "/usr/local/lib/python3.7/dist-packages/fairlearn/reductions/_moments/utility_parity.py:251: FutureWarning: Using the level keyword in DataFrame and Series aggregations is deprecated and will be removed in a future version. Use groupby instead. df.sum(level=1) should use df.groupby(level=1).sum().\n",
            "  lambda_event = (lambda_vec[\"+\"] - self.ratio * lambda_vec[\"-\"]).sum(level=_EVENT) / \\\n",
            "/usr/local/lib/python3.7/dist-packages/fairlearn/reductions/_moments/utility_parity.py:251: FutureWarning: Using the level keyword in DataFrame and Series aggregations is deprecated and will be removed in a future version. Use groupby instead. df.sum(level=1) should use df.groupby(level=1).sum().\n",
            "  lambda_event = (lambda_vec[\"+\"] - self.ratio * lambda_vec[\"-\"]).sum(level=_EVENT) / \\\n",
            "/usr/local/lib/python3.7/dist-packages/fairlearn/reductions/_moments/utility_parity.py:251: FutureWarning: Using the level keyword in DataFrame and Series aggregations is deprecated and will be removed in a future version. Use groupby instead. df.sum(level=1) should use df.groupby(level=1).sum().\n",
            "  lambda_event = (lambda_vec[\"+\"] - self.ratio * lambda_vec[\"-\"]).sum(level=_EVENT) / \\\n",
            "/usr/local/lib/python3.7/dist-packages/sklearn/linear_model/_logistic.py:818: ConvergenceWarning: lbfgs failed to converge (status=1):\n",
            "STOP: TOTAL NO. of ITERATIONS REACHED LIMIT.\n",
            "\n",
            "Increase the number of iterations (max_iter) or scale the data as shown in:\n",
            "    https://scikit-learn.org/stable/modules/preprocessing.html\n",
            "Please also refer to the documentation for alternative solver options:\n",
            "    https://scikit-learn.org/stable/modules/linear_model.html#logistic-regression\n",
            "  extra_warning_msg=_LOGISTIC_SOLVER_CONVERGENCE_MSG,\n",
            "/usr/local/lib/python3.7/dist-packages/fairlearn/reductions/_moments/utility_parity.py:251: FutureWarning: Using the level keyword in DataFrame and Series aggregations is deprecated and will be removed in a future version. Use groupby instead. df.sum(level=1) should use df.groupby(level=1).sum().\n",
            "  lambda_event = (lambda_vec[\"+\"] - self.ratio * lambda_vec[\"-\"]).sum(level=_EVENT) / \\\n",
            "/usr/local/lib/python3.7/dist-packages/sklearn/linear_model/_logistic.py:818: ConvergenceWarning: lbfgs failed to converge (status=1):\n",
            "STOP: TOTAL NO. of ITERATIONS REACHED LIMIT.\n",
            "\n",
            "Increase the number of iterations (max_iter) or scale the data as shown in:\n",
            "    https://scikit-learn.org/stable/modules/preprocessing.html\n",
            "Please also refer to the documentation for alternative solver options:\n",
            "    https://scikit-learn.org/stable/modules/linear_model.html#logistic-regression\n",
            "  extra_warning_msg=_LOGISTIC_SOLVER_CONVERGENCE_MSG,\n",
            "/usr/local/lib/python3.7/dist-packages/fairlearn/reductions/_moments/utility_parity.py:251: FutureWarning: Using the level keyword in DataFrame and Series aggregations is deprecated and will be removed in a future version. Use groupby instead. df.sum(level=1) should use df.groupby(level=1).sum().\n",
            "  lambda_event = (lambda_vec[\"+\"] - self.ratio * lambda_vec[\"-\"]).sum(level=_EVENT) / \\\n",
            "/usr/local/lib/python3.7/dist-packages/sklearn/linear_model/_logistic.py:818: ConvergenceWarning: lbfgs failed to converge (status=1):\n",
            "STOP: TOTAL NO. of ITERATIONS REACHED LIMIT.\n",
            "\n",
            "Increase the number of iterations (max_iter) or scale the data as shown in:\n",
            "    https://scikit-learn.org/stable/modules/preprocessing.html\n",
            "Please also refer to the documentation for alternative solver options:\n",
            "    https://scikit-learn.org/stable/modules/linear_model.html#logistic-regression\n",
            "  extra_warning_msg=_LOGISTIC_SOLVER_CONVERGENCE_MSG,\n",
            "/usr/local/lib/python3.7/dist-packages/fairlearn/reductions/_moments/utility_parity.py:251: FutureWarning: Using the level keyword in DataFrame and Series aggregations is deprecated and will be removed in a future version. Use groupby instead. df.sum(level=1) should use df.groupby(level=1).sum().\n",
            "  lambda_event = (lambda_vec[\"+\"] - self.ratio * lambda_vec[\"-\"]).sum(level=_EVENT) / \\\n",
            "/usr/local/lib/python3.7/dist-packages/sklearn/linear_model/_logistic.py:818: ConvergenceWarning: lbfgs failed to converge (status=1):\n",
            "STOP: TOTAL NO. of ITERATIONS REACHED LIMIT.\n",
            "\n",
            "Increase the number of iterations (max_iter) or scale the data as shown in:\n",
            "    https://scikit-learn.org/stable/modules/preprocessing.html\n",
            "Please also refer to the documentation for alternative solver options:\n",
            "    https://scikit-learn.org/stable/modules/linear_model.html#logistic-regression\n",
            "  extra_warning_msg=_LOGISTIC_SOLVER_CONVERGENCE_MSG,\n",
            "/usr/local/lib/python3.7/dist-packages/fairlearn/reductions/_moments/utility_parity.py:251: FutureWarning: Using the level keyword in DataFrame and Series aggregations is deprecated and will be removed in a future version. Use groupby instead. df.sum(level=1) should use df.groupby(level=1).sum().\n",
            "  lambda_event = (lambda_vec[\"+\"] - self.ratio * lambda_vec[\"-\"]).sum(level=_EVENT) / \\\n",
            "/usr/local/lib/python3.7/dist-packages/sklearn/linear_model/_logistic.py:818: ConvergenceWarning: lbfgs failed to converge (status=1):\n",
            "STOP: TOTAL NO. of ITERATIONS REACHED LIMIT.\n",
            "\n",
            "Increase the number of iterations (max_iter) or scale the data as shown in:\n",
            "    https://scikit-learn.org/stable/modules/preprocessing.html\n",
            "Please also refer to the documentation for alternative solver options:\n",
            "    https://scikit-learn.org/stable/modules/linear_model.html#logistic-regression\n",
            "  extra_warning_msg=_LOGISTIC_SOLVER_CONVERGENCE_MSG,\n",
            "/usr/local/lib/python3.7/dist-packages/fairlearn/reductions/_moments/utility_parity.py:251: FutureWarning: Using the level keyword in DataFrame and Series aggregations is deprecated and will be removed in a future version. Use groupby instead. df.sum(level=1) should use df.groupby(level=1).sum().\n",
            "  lambda_event = (lambda_vec[\"+\"] - self.ratio * lambda_vec[\"-\"]).sum(level=_EVENT) / \\\n",
            "/usr/local/lib/python3.7/dist-packages/fairlearn/reductions/_moments/utility_parity.py:251: FutureWarning: Using the level keyword in DataFrame and Series aggregations is deprecated and will be removed in a future version. Use groupby instead. df.sum(level=1) should use df.groupby(level=1).sum().\n",
            "  lambda_event = (lambda_vec[\"+\"] - self.ratio * lambda_vec[\"-\"]).sum(level=_EVENT) / \\\n",
            "/usr/local/lib/python3.7/dist-packages/fairlearn/reductions/_moments/utility_parity.py:251: FutureWarning: Using the level keyword in DataFrame and Series aggregations is deprecated and will be removed in a future version. Use groupby instead. df.sum(level=1) should use df.groupby(level=1).sum().\n",
            "  lambda_event = (lambda_vec[\"+\"] - self.ratio * lambda_vec[\"-\"]).sum(level=_EVENT) / \\\n",
            "/usr/local/lib/python3.7/dist-packages/fairlearn/reductions/_moments/utility_parity.py:251: FutureWarning: Using the level keyword in DataFrame and Series aggregations is deprecated and will be removed in a future version. Use groupby instead. df.sum(level=1) should use df.groupby(level=1).sum().\n",
            "  lambda_event = (lambda_vec[\"+\"] - self.ratio * lambda_vec[\"-\"]).sum(level=_EVENT) / \\\n",
            "/usr/local/lib/python3.7/dist-packages/fairlearn/reductions/_moments/utility_parity.py:251: FutureWarning: Using the level keyword in DataFrame and Series aggregations is deprecated and will be removed in a future version. Use groupby instead. df.sum(level=1) should use df.groupby(level=1).sum().\n",
            "  lambda_event = (lambda_vec[\"+\"] - self.ratio * lambda_vec[\"-\"]).sum(level=_EVENT) / \\\n",
            "/usr/local/lib/python3.7/dist-packages/sklearn/linear_model/_logistic.py:818: ConvergenceWarning: lbfgs failed to converge (status=1):\n",
            "STOP: TOTAL NO. of ITERATIONS REACHED LIMIT.\n",
            "\n",
            "Increase the number of iterations (max_iter) or scale the data as shown in:\n",
            "    https://scikit-learn.org/stable/modules/preprocessing.html\n",
            "Please also refer to the documentation for alternative solver options:\n",
            "    https://scikit-learn.org/stable/modules/linear_model.html#logistic-regression\n",
            "  extra_warning_msg=_LOGISTIC_SOLVER_CONVERGENCE_MSG,\n",
            "/usr/local/lib/python3.7/dist-packages/fairlearn/reductions/_moments/utility_parity.py:251: FutureWarning: Using the level keyword in DataFrame and Series aggregations is deprecated and will be removed in a future version. Use groupby instead. df.sum(level=1) should use df.groupby(level=1).sum().\n",
            "  lambda_event = (lambda_vec[\"+\"] - self.ratio * lambda_vec[\"-\"]).sum(level=_EVENT) / \\\n",
            "/usr/local/lib/python3.7/dist-packages/sklearn/linear_model/_logistic.py:818: ConvergenceWarning: lbfgs failed to converge (status=1):\n",
            "STOP: TOTAL NO. of ITERATIONS REACHED LIMIT.\n",
            "\n",
            "Increase the number of iterations (max_iter) or scale the data as shown in:\n",
            "    https://scikit-learn.org/stable/modules/preprocessing.html\n",
            "Please also refer to the documentation for alternative solver options:\n",
            "    https://scikit-learn.org/stable/modules/linear_model.html#logistic-regression\n",
            "  extra_warning_msg=_LOGISTIC_SOLVER_CONVERGENCE_MSG,\n",
            "/usr/local/lib/python3.7/dist-packages/fairlearn/reductions/_moments/utility_parity.py:251: FutureWarning: Using the level keyword in DataFrame and Series aggregations is deprecated and will be removed in a future version. Use groupby instead. df.sum(level=1) should use df.groupby(level=1).sum().\n",
            "  lambda_event = (lambda_vec[\"+\"] - self.ratio * lambda_vec[\"-\"]).sum(level=_EVENT) / \\\n",
            "/usr/local/lib/python3.7/dist-packages/fairlearn/reductions/_moments/utility_parity.py:251: FutureWarning: Using the level keyword in DataFrame and Series aggregations is deprecated and will be removed in a future version. Use groupby instead. df.sum(level=1) should use df.groupby(level=1).sum().\n",
            "  lambda_event = (lambda_vec[\"+\"] - self.ratio * lambda_vec[\"-\"]).sum(level=_EVENT) / \\\n",
            "/usr/local/lib/python3.7/dist-packages/sklearn/linear_model/_logistic.py:818: ConvergenceWarning: lbfgs failed to converge (status=1):\n",
            "STOP: TOTAL NO. of ITERATIONS REACHED LIMIT.\n",
            "\n",
            "Increase the number of iterations (max_iter) or scale the data as shown in:\n",
            "    https://scikit-learn.org/stable/modules/preprocessing.html\n",
            "Please also refer to the documentation for alternative solver options:\n",
            "    https://scikit-learn.org/stable/modules/linear_model.html#logistic-regression\n",
            "  extra_warning_msg=_LOGISTIC_SOLVER_CONVERGENCE_MSG,\n",
            "/usr/local/lib/python3.7/dist-packages/fairlearn/reductions/_moments/utility_parity.py:251: FutureWarning: Using the level keyword in DataFrame and Series aggregations is deprecated and will be removed in a future version. Use groupby instead. df.sum(level=1) should use df.groupby(level=1).sum().\n",
            "  lambda_event = (lambda_vec[\"+\"] - self.ratio * lambda_vec[\"-\"]).sum(level=_EVENT) / \\\n",
            "/usr/local/lib/python3.7/dist-packages/fairlearn/reductions/_moments/utility_parity.py:251: FutureWarning: Using the level keyword in DataFrame and Series aggregations is deprecated and will be removed in a future version. Use groupby instead. df.sum(level=1) should use df.groupby(level=1).sum().\n",
            "  lambda_event = (lambda_vec[\"+\"] - self.ratio * lambda_vec[\"-\"]).sum(level=_EVENT) / \\\n",
            "/usr/local/lib/python3.7/dist-packages/fairlearn/reductions/_moments/utility_parity.py:251: FutureWarning: Using the level keyword in DataFrame and Series aggregations is deprecated and will be removed in a future version. Use groupby instead. df.sum(level=1) should use df.groupby(level=1).sum().\n",
            "  lambda_event = (lambda_vec[\"+\"] - self.ratio * lambda_vec[\"-\"]).sum(level=_EVENT) / \\\n",
            "/usr/local/lib/python3.7/dist-packages/fairlearn/reductions/_moments/utility_parity.py:251: FutureWarning: Using the level keyword in DataFrame and Series aggregations is deprecated and will be removed in a future version. Use groupby instead. df.sum(level=1) should use df.groupby(level=1).sum().\n",
            "  lambda_event = (lambda_vec[\"+\"] - self.ratio * lambda_vec[\"-\"]).sum(level=_EVENT) / \\\n",
            "/usr/local/lib/python3.7/dist-packages/fairlearn/reductions/_moments/utility_parity.py:251: FutureWarning: Using the level keyword in DataFrame and Series aggregations is deprecated and will be removed in a future version. Use groupby instead. df.sum(level=1) should use df.groupby(level=1).sum().\n",
            "  lambda_event = (lambda_vec[\"+\"] - self.ratio * lambda_vec[\"-\"]).sum(level=_EVENT) / \\\n",
            "/usr/local/lib/python3.7/dist-packages/sklearn/linear_model/_logistic.py:818: ConvergenceWarning: lbfgs failed to converge (status=1):\n",
            "STOP: TOTAL NO. of ITERATIONS REACHED LIMIT.\n",
            "\n",
            "Increase the number of iterations (max_iter) or scale the data as shown in:\n",
            "    https://scikit-learn.org/stable/modules/preprocessing.html\n",
            "Please also refer to the documentation for alternative solver options:\n",
            "    https://scikit-learn.org/stable/modules/linear_model.html#logistic-regression\n",
            "  extra_warning_msg=_LOGISTIC_SOLVER_CONVERGENCE_MSG,\n",
            "/usr/local/lib/python3.7/dist-packages/fairlearn/reductions/_moments/utility_parity.py:251: FutureWarning: Using the level keyword in DataFrame and Series aggregations is deprecated and will be removed in a future version. Use groupby instead. df.sum(level=1) should use df.groupby(level=1).sum().\n",
            "  lambda_event = (lambda_vec[\"+\"] - self.ratio * lambda_vec[\"-\"]).sum(level=_EVENT) / \\\n",
            "/usr/local/lib/python3.7/dist-packages/fairlearn/reductions/_moments/utility_parity.py:251: FutureWarning: Using the level keyword in DataFrame and Series aggregations is deprecated and will be removed in a future version. Use groupby instead. df.sum(level=1) should use df.groupby(level=1).sum().\n",
            "  lambda_event = (lambda_vec[\"+\"] - self.ratio * lambda_vec[\"-\"]).sum(level=_EVENT) / \\\n",
            "/usr/local/lib/python3.7/dist-packages/sklearn/linear_model/_logistic.py:818: ConvergenceWarning: lbfgs failed to converge (status=1):\n",
            "STOP: TOTAL NO. of ITERATIONS REACHED LIMIT.\n",
            "\n",
            "Increase the number of iterations (max_iter) or scale the data as shown in:\n",
            "    https://scikit-learn.org/stable/modules/preprocessing.html\n",
            "Please also refer to the documentation for alternative solver options:\n",
            "    https://scikit-learn.org/stable/modules/linear_model.html#logistic-regression\n",
            "  extra_warning_msg=_LOGISTIC_SOLVER_CONVERGENCE_MSG,\n",
            "/usr/local/lib/python3.7/dist-packages/fairlearn/reductions/_moments/utility_parity.py:251: FutureWarning: Using the level keyword in DataFrame and Series aggregations is deprecated and will be removed in a future version. Use groupby instead. df.sum(level=1) should use df.groupby(level=1).sum().\n",
            "  lambda_event = (lambda_vec[\"+\"] - self.ratio * lambda_vec[\"-\"]).sum(level=_EVENT) / \\\n",
            "/usr/local/lib/python3.7/dist-packages/fairlearn/reductions/_moments/utility_parity.py:251: FutureWarning: Using the level keyword in DataFrame and Series aggregations is deprecated and will be removed in a future version. Use groupby instead. df.sum(level=1) should use df.groupby(level=1).sum().\n",
            "  lambda_event = (lambda_vec[\"+\"] - self.ratio * lambda_vec[\"-\"]).sum(level=_EVENT) / \\\n",
            "/usr/local/lib/python3.7/dist-packages/fairlearn/reductions/_moments/utility_parity.py:251: FutureWarning: Using the level keyword in DataFrame and Series aggregations is deprecated and will be removed in a future version. Use groupby instead. df.sum(level=1) should use df.groupby(level=1).sum().\n",
            "  lambda_event = (lambda_vec[\"+\"] - self.ratio * lambda_vec[\"-\"]).sum(level=_EVENT) / \\\n",
            "/usr/local/lib/python3.7/dist-packages/fairlearn/reductions/_moments/utility_parity.py:251: FutureWarning: Using the level keyword in DataFrame and Series aggregations is deprecated and will be removed in a future version. Use groupby instead. df.sum(level=1) should use df.groupby(level=1).sum().\n",
            "  lambda_event = (lambda_vec[\"+\"] - self.ratio * lambda_vec[\"-\"]).sum(level=_EVENT) / \\\n",
            "/usr/local/lib/python3.7/dist-packages/sklearn/linear_model/_logistic.py:818: ConvergenceWarning: lbfgs failed to converge (status=1):\n",
            "STOP: TOTAL NO. of ITERATIONS REACHED LIMIT.\n",
            "\n",
            "Increase the number of iterations (max_iter) or scale the data as shown in:\n",
            "    https://scikit-learn.org/stable/modules/preprocessing.html\n",
            "Please also refer to the documentation for alternative solver options:\n",
            "    https://scikit-learn.org/stable/modules/linear_model.html#logistic-regression\n",
            "  extra_warning_msg=_LOGISTIC_SOLVER_CONVERGENCE_MSG,\n",
            "/usr/local/lib/python3.7/dist-packages/fairlearn/reductions/_moments/utility_parity.py:251: FutureWarning: Using the level keyword in DataFrame and Series aggregations is deprecated and will be removed in a future version. Use groupby instead. df.sum(level=1) should use df.groupby(level=1).sum().\n",
            "  lambda_event = (lambda_vec[\"+\"] - self.ratio * lambda_vec[\"-\"]).sum(level=_EVENT) / \\\n",
            "/usr/local/lib/python3.7/dist-packages/fairlearn/reductions/_moments/utility_parity.py:251: FutureWarning: Using the level keyword in DataFrame and Series aggregations is deprecated and will be removed in a future version. Use groupby instead. df.sum(level=1) should use df.groupby(level=1).sum().\n",
            "  lambda_event = (lambda_vec[\"+\"] - self.ratio * lambda_vec[\"-\"]).sum(level=_EVENT) / \\\n",
            "/usr/local/lib/python3.7/dist-packages/sklearn/linear_model/_logistic.py:818: ConvergenceWarning: lbfgs failed to converge (status=1):\n",
            "STOP: TOTAL NO. of ITERATIONS REACHED LIMIT.\n",
            "\n",
            "Increase the number of iterations (max_iter) or scale the data as shown in:\n",
            "    https://scikit-learn.org/stable/modules/preprocessing.html\n",
            "Please also refer to the documentation for alternative solver options:\n",
            "    https://scikit-learn.org/stable/modules/linear_model.html#logistic-regression\n",
            "  extra_warning_msg=_LOGISTIC_SOLVER_CONVERGENCE_MSG,\n",
            "/usr/local/lib/python3.7/dist-packages/fairlearn/reductions/_moments/utility_parity.py:251: FutureWarning: Using the level keyword in DataFrame and Series aggregations is deprecated and will be removed in a future version. Use groupby instead. df.sum(level=1) should use df.groupby(level=1).sum().\n",
            "  lambda_event = (lambda_vec[\"+\"] - self.ratio * lambda_vec[\"-\"]).sum(level=_EVENT) / \\\n",
            "/usr/local/lib/python3.7/dist-packages/sklearn/linear_model/_logistic.py:818: ConvergenceWarning: lbfgs failed to converge (status=1):\n",
            "STOP: TOTAL NO. of ITERATIONS REACHED LIMIT.\n",
            "\n",
            "Increase the number of iterations (max_iter) or scale the data as shown in:\n",
            "    https://scikit-learn.org/stable/modules/preprocessing.html\n",
            "Please also refer to the documentation for alternative solver options:\n",
            "    https://scikit-learn.org/stable/modules/linear_model.html#logistic-regression\n",
            "  extra_warning_msg=_LOGISTIC_SOLVER_CONVERGENCE_MSG,\n",
            "/usr/local/lib/python3.7/dist-packages/fairlearn/reductions/_moments/utility_parity.py:251: FutureWarning: Using the level keyword in DataFrame and Series aggregations is deprecated and will be removed in a future version. Use groupby instead. df.sum(level=1) should use df.groupby(level=1).sum().\n",
            "  lambda_event = (lambda_vec[\"+\"] - self.ratio * lambda_vec[\"-\"]).sum(level=_EVENT) / \\\n",
            "/usr/local/lib/python3.7/dist-packages/sklearn/linear_model/_logistic.py:818: ConvergenceWarning: lbfgs failed to converge (status=1):\n",
            "STOP: TOTAL NO. of ITERATIONS REACHED LIMIT.\n",
            "\n",
            "Increase the number of iterations (max_iter) or scale the data as shown in:\n",
            "    https://scikit-learn.org/stable/modules/preprocessing.html\n",
            "Please also refer to the documentation for alternative solver options:\n",
            "    https://scikit-learn.org/stable/modules/linear_model.html#logistic-regression\n",
            "  extra_warning_msg=_LOGISTIC_SOLVER_CONVERGENCE_MSG,\n",
            "/usr/local/lib/python3.7/dist-packages/fairlearn/reductions/_moments/utility_parity.py:251: FutureWarning: Using the level keyword in DataFrame and Series aggregations is deprecated and will be removed in a future version. Use groupby instead. df.sum(level=1) should use df.groupby(level=1).sum().\n",
            "  lambda_event = (lambda_vec[\"+\"] - self.ratio * lambda_vec[\"-\"]).sum(level=_EVENT) / \\\n",
            "/usr/local/lib/python3.7/dist-packages/fairlearn/reductions/_moments/utility_parity.py:251: FutureWarning: Using the level keyword in DataFrame and Series aggregations is deprecated and will be removed in a future version. Use groupby instead. df.sum(level=1) should use df.groupby(level=1).sum().\n",
            "  lambda_event = (lambda_vec[\"+\"] - self.ratio * lambda_vec[\"-\"]).sum(level=_EVENT) / \\\n",
            "/usr/local/lib/python3.7/dist-packages/fairlearn/reductions/_moments/utility_parity.py:251: FutureWarning: Using the level keyword in DataFrame and Series aggregations is deprecated and will be removed in a future version. Use groupby instead. df.sum(level=1) should use df.groupby(level=1).sum().\n",
            "  lambda_event = (lambda_vec[\"+\"] - self.ratio * lambda_vec[\"-\"]).sum(level=_EVENT) / \\\n",
            "/usr/local/lib/python3.7/dist-packages/fairlearn/reductions/_moments/utility_parity.py:251: FutureWarning: Using the level keyword in DataFrame and Series aggregations is deprecated and will be removed in a future version. Use groupby instead. df.sum(level=1) should use df.groupby(level=1).sum().\n",
            "  lambda_event = (lambda_vec[\"+\"] - self.ratio * lambda_vec[\"-\"]).sum(level=_EVENT) / \\\n"
          ]
        }
      ]
    },
    {
      "cell_type": "code",
      "source": [
        "metricframe_reductions_gd = MetricFrame(\n",
        "    metrics=metrics_dict,\n",
        "    y_true=Y_test,\n",
        "    y_pred=Y_pred_reductions,\n",
        "    sensitive_features=df_test[\"RACE\"]\n",
        ")\n",
        "\n",
        "pd.concat([metricframe_unmitigated.by_group,\n",
        "           metricframe_reductions_gd.by_group],\n",
        "           keys=['Unmitigated', 'GradientDescend'],\n",
        "           axis=0)"
      ],
      "metadata": {
        "colab": {
          "base_uri": "https://localhost:8080/",
          "height": 206
        },
        "id": "F8-Jjv4VTfjY",
        "outputId": "9a693bae-c082-462d-fe17-754374e1bb00"
      },
      "execution_count": null,
      "outputs": [
        {
          "output_type": "execute_result",
          "data": {
            "text/plain": [
              "                     selection_rate false_negative_rate true_negative_rate  \\\n",
              "                RACE                                                         \n",
              "Unmitigated     0          0.258359            0.265487           0.803204   \n",
              "                1          0.440083            0.193548           0.686111   \n",
              "GradientDescend 0          0.245187            0.274336           0.816934   \n",
              "                1          0.417355            0.145161           0.733333   \n",
              "\n",
              "                     false_positive_rate true_positive_rate balanced_accuracy  \n",
              "                RACE                                                           \n",
              "Unmitigated     0               0.196796           0.734513          0.768858  \n",
              "                1               0.313889           0.806452          0.746281  \n",
              "GradientDescend 0               0.183066           0.725664          0.771299  \n",
              "                1               0.266667           0.854839          0.794086  "
            ],
            "text/html": [
              "\n",
              "  <div id=\"df-aee40e10-b8a9-499c-ab00-c267d3a4a917\">\n",
              "    <div class=\"colab-df-container\">\n",
              "      <div>\n",
              "<style scoped>\n",
              "    .dataframe tbody tr th:only-of-type {\n",
              "        vertical-align: middle;\n",
              "    }\n",
              "\n",
              "    .dataframe tbody tr th {\n",
              "        vertical-align: top;\n",
              "    }\n",
              "\n",
              "    .dataframe thead th {\n",
              "        text-align: right;\n",
              "    }\n",
              "</style>\n",
              "<table border=\"1\" class=\"dataframe\">\n",
              "  <thead>\n",
              "    <tr style=\"text-align: right;\">\n",
              "      <th></th>\n",
              "      <th></th>\n",
              "      <th>selection_rate</th>\n",
              "      <th>false_negative_rate</th>\n",
              "      <th>true_negative_rate</th>\n",
              "      <th>false_positive_rate</th>\n",
              "      <th>true_positive_rate</th>\n",
              "      <th>balanced_accuracy</th>\n",
              "    </tr>\n",
              "    <tr>\n",
              "      <th></th>\n",
              "      <th>RACE</th>\n",
              "      <th></th>\n",
              "      <th></th>\n",
              "      <th></th>\n",
              "      <th></th>\n",
              "      <th></th>\n",
              "      <th></th>\n",
              "    </tr>\n",
              "  </thead>\n",
              "  <tbody>\n",
              "    <tr>\n",
              "      <th rowspan=\"2\" valign=\"top\">Unmitigated</th>\n",
              "      <th>0</th>\n",
              "      <td>0.258359</td>\n",
              "      <td>0.265487</td>\n",
              "      <td>0.803204</td>\n",
              "      <td>0.196796</td>\n",
              "      <td>0.734513</td>\n",
              "      <td>0.768858</td>\n",
              "    </tr>\n",
              "    <tr>\n",
              "      <th>1</th>\n",
              "      <td>0.440083</td>\n",
              "      <td>0.193548</td>\n",
              "      <td>0.686111</td>\n",
              "      <td>0.313889</td>\n",
              "      <td>0.806452</td>\n",
              "      <td>0.746281</td>\n",
              "    </tr>\n",
              "    <tr>\n",
              "      <th rowspan=\"2\" valign=\"top\">GradientDescend</th>\n",
              "      <th>0</th>\n",
              "      <td>0.245187</td>\n",
              "      <td>0.274336</td>\n",
              "      <td>0.816934</td>\n",
              "      <td>0.183066</td>\n",
              "      <td>0.725664</td>\n",
              "      <td>0.771299</td>\n",
              "    </tr>\n",
              "    <tr>\n",
              "      <th>1</th>\n",
              "      <td>0.417355</td>\n",
              "      <td>0.145161</td>\n",
              "      <td>0.733333</td>\n",
              "      <td>0.266667</td>\n",
              "      <td>0.854839</td>\n",
              "      <td>0.794086</td>\n",
              "    </tr>\n",
              "  </tbody>\n",
              "</table>\n",
              "</div>\n",
              "      <button class=\"colab-df-convert\" onclick=\"convertToInteractive('df-aee40e10-b8a9-499c-ab00-c267d3a4a917')\"\n",
              "              title=\"Convert this dataframe to an interactive table.\"\n",
              "              style=\"display:none;\">\n",
              "        \n",
              "  <svg xmlns=\"http://www.w3.org/2000/svg\" height=\"24px\"viewBox=\"0 0 24 24\"\n",
              "       width=\"24px\">\n",
              "    <path d=\"M0 0h24v24H0V0z\" fill=\"none\"/>\n",
              "    <path d=\"M18.56 5.44l.94 2.06.94-2.06 2.06-.94-2.06-.94-.94-2.06-.94 2.06-2.06.94zm-11 1L8.5 8.5l.94-2.06 2.06-.94-2.06-.94L8.5 2.5l-.94 2.06-2.06.94zm10 10l.94 2.06.94-2.06 2.06-.94-2.06-.94-.94-2.06-.94 2.06-2.06.94z\"/><path d=\"M17.41 7.96l-1.37-1.37c-.4-.4-.92-.59-1.43-.59-.52 0-1.04.2-1.43.59L10.3 9.45l-7.72 7.72c-.78.78-.78 2.05 0 2.83L4 21.41c.39.39.9.59 1.41.59.51 0 1.02-.2 1.41-.59l7.78-7.78 2.81-2.81c.8-.78.8-2.07 0-2.86zM5.41 20L4 18.59l7.72-7.72 1.47 1.35L5.41 20z\"/>\n",
              "  </svg>\n",
              "      </button>\n",
              "      \n",
              "  <style>\n",
              "    .colab-df-container {\n",
              "      display:flex;\n",
              "      flex-wrap:wrap;\n",
              "      gap: 12px;\n",
              "    }\n",
              "\n",
              "    .colab-df-convert {\n",
              "      background-color: #E8F0FE;\n",
              "      border: none;\n",
              "      border-radius: 50%;\n",
              "      cursor: pointer;\n",
              "      display: none;\n",
              "      fill: #1967D2;\n",
              "      height: 32px;\n",
              "      padding: 0 0 0 0;\n",
              "      width: 32px;\n",
              "    }\n",
              "\n",
              "    .colab-df-convert:hover {\n",
              "      background-color: #E2EBFA;\n",
              "      box-shadow: 0px 1px 2px rgba(60, 64, 67, 0.3), 0px 1px 3px 1px rgba(60, 64, 67, 0.15);\n",
              "      fill: #174EA6;\n",
              "    }\n",
              "\n",
              "    [theme=dark] .colab-df-convert {\n",
              "      background-color: #3B4455;\n",
              "      fill: #D2E3FC;\n",
              "    }\n",
              "\n",
              "    [theme=dark] .colab-df-convert:hover {\n",
              "      background-color: #434B5C;\n",
              "      box-shadow: 0px 1px 3px 1px rgba(0, 0, 0, 0.15);\n",
              "      filter: drop-shadow(0px 1px 2px rgba(0, 0, 0, 0.3));\n",
              "      fill: #FFFFFF;\n",
              "    }\n",
              "  </style>\n",
              "\n",
              "      <script>\n",
              "        const buttonEl =\n",
              "          document.querySelector('#df-aee40e10-b8a9-499c-ab00-c267d3a4a917 button.colab-df-convert');\n",
              "        buttonEl.style.display =\n",
              "          google.colab.kernel.accessAllowed ? 'block' : 'none';\n",
              "\n",
              "        async function convertToInteractive(key) {\n",
              "          const element = document.querySelector('#df-aee40e10-b8a9-499c-ab00-c267d3a4a917');\n",
              "          const dataTable =\n",
              "            await google.colab.kernel.invokeFunction('convertToInteractive',\n",
              "                                                     [key], {});\n",
              "          if (!dataTable) return;\n",
              "\n",
              "          const docLinkHtml = 'Like what you see? Visit the ' +\n",
              "            '<a target=\"_blank\" href=https://colab.research.google.com/notebooks/data_table.ipynb>data table notebook</a>'\n",
              "            + ' to learn more about interactive tables.';\n",
              "          element.innerHTML = '';\n",
              "          dataTable['output_type'] = 'display_data';\n",
              "          await google.colab.output.renderOutput(dataTable, element);\n",
              "          const docLink = document.createElement('div');\n",
              "          docLink.innerHTML = docLinkHtml;\n",
              "          element.appendChild(docLink);\n",
              "        }\n",
              "      </script>\n",
              "    </div>\n",
              "  </div>\n",
              "  "
            ]
          },
          "metadata": {},
          "execution_count": 41
        }
      ]
    },
    {
      "cell_type": "code",
      "source": [
        "predictors = sweep.predictors_\n",
        "\n",
        "# Collect predictions by all predictors and calculate balanced error\n",
        "# as well as the false negative difference for all of them\n",
        "\n",
        "sweep_preds = [clf.predict(X_test) for clf in predictors]\n",
        "balanced_error_sweep = [1-balanced_accuracy_score(Y_test, Y_sweep) for Y_sweep in sweep_preds]\n",
        "fnr_diff_sweep = [false_negative_rate_difference(Y_test, Y_sweep, sensitive_features=A_test) for Y_sweep in sweep_preds]"
      ],
      "metadata": {
        "id": "w2rZ5jjfQ-yC"
      },
      "execution_count": null,
      "outputs": []
    },
    {
      "cell_type": "code",
      "source": [
        "# Show the balanced error / fnr difference values of all predictors on a raster plot  \n",
        "\n",
        "plt.scatter(balanced_error_sweep, fnr_diff_sweep, label=\"Gradient Descend - Iterations\")\n",
        "for i in range(len(predictors)):\n",
        "  plt.annotate(str(i), xy=(balanced_error_sweep[i]+0.001, fnr_diff_sweep[i]+0.001))\n",
        "\n",
        "# Also include in the plot the combined ExponentiatedGradient model\n",
        "# as well as the 2 previously fitted models\n",
        "\n",
        "plt.scatter(1-balanced_accuracy_score(Y_test, Y_pred_reductions),\n",
        "            false_negative_rate_difference(Y_test, Y_pred_reductions, sensitive_features=A_test),\n",
        "            label=\"Gradient Descend - Combined model\")\n",
        "plt.scatter(1-balanced_accuracy_score(Y_test, Y_pred),\n",
        "            false_negative_rate_difference(Y_test, Y_pred, sensitive_features=A_test),\n",
        "            label=\"Unmitigated\")\n",
        "plt.scatter(1-balanced_accuracy_score(Y_test, Y_pred_postprocess),\n",
        "            false_negative_rate_difference(Y_test, Y_pred_postprocess, sensitive_features=A_test),\n",
        "            label=\"ThresholdOptimizer\")\n",
        "\n",
        "plt.xlabel(\"Balanced Error Rate\")\n",
        "plt.ylabel(\"False Negative Rate Difference\")\n",
        "plt.legend(bbox_to_anchor=(1.9,1))\n",
        "plt.show()"
      ],
      "metadata": {
        "colab": {
          "base_uri": "https://localhost:8080/",
          "height": 285
        },
        "id": "ageuVWb1R8q5",
        "outputId": "f3d7aeb4-2e23-4768-f7ea-761c9597664c"
      },
      "execution_count": null,
      "outputs": [
        {
          "output_type": "display_data",
          "data": {
            "text/plain": [
              "<Figure size 432x288 with 1 Axes>"
            ],
            "image/png": "[encoded data removed]"
          },
          "metadata": {}
        }
      ]
    },
    {
      "cell_type": "markdown",
      "source": [
        "Model performance overall."
      ],
      "metadata": {
        "id": "Qr5ROhLVSIwB"
      }
    },
    {
      "cell_type": "code",
      "source": [
        "overall_df = pd.DataFrame.from_dict({\n",
        "    \"Unmitigated\": metricframe_unmitigated.overall,\n",
        "    \"Postprocessing\": metricframe_postprocess.overall,\n",
        "    \"Exponentiated Gradient\": metricframe_reductions_eg.overall,\n",
        "    \"Gradient Descend\": metricframe_reductions_gd.overall\n",
        "})\n",
        "overall_df.transpose().plot.bar(subplots=True, layout= [1,6], figsize=(20, 5), legend=False, rot=-45, position=1.5);"
      ],
      "metadata": {
        "colab": {
          "base_uri": "https://localhost:8080/",
          "height": 429
        },
        "id": "CXETc7tqSKnR",
        "outputId": "bd910fba-74fd-4485-e817-1d95ae0cd701"
      },
      "execution_count": null,
      "outputs": [
        {
          "output_type": "display_data",
          "data": {
            "text/plain": [
              "<Figure size 1440x360 with 6 Axes>"
            ],
            "image/png": "[encoded data removed]"
          },
          "metadata": {}
        }
      ]
    },
    {
      "cell_type": "markdown",
      "source": [
        "# D6\n",
        "<!-- **Correlation Remover** -->"
      ],
      "metadata": {
        "id": "5cBjXPlcYPHW"
      }
    },
    {
      "cell_type": "markdown",
      "source": [
        "**Correlation Remover**"
      ],
      "metadata": {
        "id": "568aeCZqSuCN"
      }
    },
    {
      "cell_type": "code",
      "source": [
        "X_raw = df[[\"INSCOV\", \"PERWT15F\", \"AGE\"]]\n",
        "X_raw = pd.get_dummies(X_raw)\n",
        "\n",
        "y = df[target_variable]\n",
        "\n",
        "X_raw = X_raw.drop([\"INSCOV_2\",\n",
        "                    'INSCOV_3'], axis=1)\n",
        "\n",
        "X_raw = X_raw[[\"PERWT15F\", \"AGE\", 'INSCOV_1']]\n",
        "\n",
        "cr = CorrelationRemover(sensitive_feature_ids=[\"INSCOV_1\"])\n",
        "X_cr = cr.fit_transform(X_raw)\n",
        "X_cr = pd.DataFrame(X_cr, columns=[\"PERWT15F\", \"AGE\"])\n",
        "X_cr[\"INSCOV_1\"] = X_raw[\"INSCOV_1\"]\n",
        "\n",
        "cr_alpha = CorrelationRemover(sensitive_feature_ids=['INSCOV_1'], alpha=0.5)\n",
        "X_cr_alpha = cr_alpha.fit_transform(X_raw)\n",
        "X_cr_alpha = pd.DataFrame(X_cr_alpha, columns=[\"PERWT15F\", \"AGE\"])\n",
        "X_cr_alpha[\"INSCOV_1\"] = X_raw[\"INSCOV_1\"]"
      ],
      "metadata": {
        "id": "rCowhBZMUyZr"
      },
      "execution_count": null,
      "outputs": []
    },
    {
      "cell_type": "code",
      "source": [
        "def plot_heatmap(df, title):\n",
        "    df['target'] = y\n",
        "    cols = list(df.columns)\n",
        "\n",
        "    fig, ax = plt.subplots(figsize=(8, 6))\n",
        "    ax.imshow(round(df.corr() - 1, 2), cmap=\"coolwarm\")\n",
        "\n",
        "    # Show all ticks and label them with the respective list entries\n",
        "    ax.set_xticks(np.arange(len(cols)))\n",
        "    ax.set_xticklabels(labels=cols)\n",
        "\n",
        "    ax.set_yticks(np.arange(len(cols)))\n",
        "    ax.set_yticklabels(labels=cols)\n",
        "\n",
        "    # Rotate the tick labels and set their alignment.\n",
        "    plt.setp(ax.get_xticklabels(), rotation=15, ha=\"right\", rotation_mode=\"anchor\")\n",
        "\n",
        "    # Loop over data dimensions and create text annotations.\n",
        "    for i in range(len(cols)):\n",
        "        for j in range(len(cols)):\n",
        "            ax.text(\n",
        "                j,\n",
        "                i,\n",
        "                round(df.corr().to_numpy()[i, j], 2),\n",
        "                ha=\"center\",\n",
        "                va=\"center\",\n",
        "            )\n",
        "\n",
        "    ax.set_title(f\"{title}\")\n",
        "    plt.show()\n",
        "\n",
        "\n",
        "plot_heatmap(X_raw, \"Correlation values in the original dataset\")\n",
        "plot_heatmap(X_cr, \"Correlation values after CorrelationRemover\")\n",
        "plot_heatmap(X_cr_alpha, \"Correlation values after CorrelationRemover with alpha = 0.5\")"
      ],
      "metadata": {
        "id": "ign9E0qhU1w8",
        "colab": {
          "base_uri": "https://localhost:8080/",
          "height": 1000
        },
        "outputId": "5cc627ab-170c-4a4d-f432-5d19bb2cf09a"
      },
      "execution_count": null,
      "outputs": [
        {
          "output_type": "display_data",
          "data": {
            "text/plain": [
              "<Figure size 576x432 with 1 Axes>"
            ],
            "image/png": "[encoded data removed]"
          },
          "metadata": {}
        },
        {
          "output_type": "display_data",
          "data": {
            "text/plain": [
              "<Figure size 576x432 with 1 Axes>"
            ],
            "image/png": "[encoded data removed]"
          },
          "metadata": {}
        },
        {
          "output_type": "display_data",
          "data": {
            "text/plain": [
              "<Figure size 576x432 with 1 Axes>"
            ],
            "image/png": "[encoded data removed]"
          },
          "metadata": {}
        }
      ]
    }
  ],
  "metadata": {
    "kernelspec": {
      "display_name": "Python 3 (ipykernel)",
      "language": "python",
      "name": "python3"
    },
    "language_info": {
      "codemirror_mode": {
        "name": "ipython",
        "version": 3
      },
      "file_extension": ".py",
      "mimetype": "text/x-python",
      "name": "python",
      "nbconvert_exporter": "python",
      "pygments_lexer": "ipython3",
      "version": "3.9.12"
    },
    "colab": {
      "name": "Fairlearn_medical_usecase.ipynb",
      "provenance": [],
      "collapsed_sections": [
        "d8wr4ahH3bJg",
        "D1eEqFnW3gq4",
        "V104eMHZ3z6X",
        "XItvyhiG38gI",
        "xWnYhSS_8ARD",
        "7UtjlMrB8IJl",
        "6mrJRN5_8QKZ",
        "Qt7Fkx3-8kwC",
        "5pp4bIstqFje",
        "cOmNIBhY8oQ4",
        "PEG7rHdq8yqY",
        "sLtjq_t083gN",
        "xND4V7dzKQI1",
        "qGMqUblgMToC",
        "QMpOGhvDKfbn",
        "egRFfVB8M20M",
        "Vm5zsSQ4NGpV",
        "-592DfQ5X3Uw",
        "eQBbty6FX5yA",
        "62Do2MndX8rT",
        "2_-TQZd5um0M",
        "ssuomoOgYERW",
        "3g-iSGxgYUC6",
        "5cBjXPlcYPHW"
      ]
    }
  },
  "nbformat": 4,
  "nbformat_minor": 0
}